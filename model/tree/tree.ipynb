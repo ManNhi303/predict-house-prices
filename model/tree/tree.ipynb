{
 "cells": [
  {
   "cell_type": "code",
   "execution_count": 5,
   "metadata": {},
   "outputs": [
    {
     "name": "stdout",
     "output_type": "stream",
     "text": [
      "MSE:  493.0456252624533\n",
      "MAE:  5.337486924544988\n",
      "variance:  0.08925219625967429\n",
      "0.9519144855201725\n"
     ]
    }
   ],
   "source": [
    "import pandas as pd\n",
    "from sklearn.feature_extraction import DictVectorizer\n",
    "from sklearn.tree import DecisionTreeRegressor\n",
    "from sklearn.preprocessing import StandardScaler\n",
    "from sklearn.model_selection import train_test_split\n",
    "from sklearn.metrics import mean_squared_error, mean_absolute_error, explained_variance_score,mean_absolute_percentage_error\n",
    "\n",
    "class splitData():\n",
    "    def __init__(self):\n",
    "        self.X_train = []\n",
    "        self.X_test = []\n",
    "        self.y_train = []\n",
    "        self.y_test = []\n",
    "    \n",
    "    def split(self, x, y):\n",
    "        self.X_train, self.X_test, self.y_train, self.y_test = train_test_split(x, y, test_size=0.1, random_state=42, shuffle=True)\n",
    "\n",
    "features = ['district_encoder',\\\n",
    "        'area',\\\n",
    "        'new_num_floors',\\\n",
    "        'new_bedrooms',\\\n",
    "        'houseTypes_Bán Luxury home',\\\n",
    "        'houseTypes_Bán Nhà',\\\n",
    "        'houseTypes_Bán Nhà cổ',\\\n",
    "        'houseTypes_Bán Nhà mặt phố',\\\n",
    "        'houseTypes_Bán Nhà riêng']\n",
    "\n",
    "df = pd.read_excel('HCM_data.xlsx')\n",
    "df_tranform = pd.DataFrame(data = StandardScaler().fit_transform(df.loc[:, features].values), columns = features)\n",
    "y = df['price'].values\n",
    "x = df_tranform[features].values\n",
    "data = splitData()\n",
    "data.split(x, y)\n",
    "\n",
    "model = DecisionTreeRegressor()\n",
    "model.fit(data.X_train, data.y_train)\n",
    "y_pred = model.predict(data.X_test)\n",
    "mse = mean_squared_error(data.y_test, y_pred)\n",
    "mae = mean_absolute_error(data.y_test, y_pred)\n",
    "evs = explained_variance_score(data.y_test, y_pred)\n",
    "print(\"MSE: \", mse)\n",
    "print(\"MAE: \", mae)\n",
    "print(\"variance: \", evs)\n",
    "print(mean_absolute_percentage_error(data.y_test, y_pred))\n",
    "\n",
    "# python3 rule/rule_induction.py"
   ]
  }
 ],
 "metadata": {
  "kernelspec": {
   "display_name": "Python 3",
   "language": "python",
   "name": "python3"
  },
  "language_info": {
   "codemirror_mode": {
    "name": "ipython",
    "version": 3
   },
   "file_extension": ".py",
   "mimetype": "text/x-python",
   "name": "python",
   "nbconvert_exporter": "python",
   "pygments_lexer": "ipython3",
   "version": "3.10.11"
  },
  "orig_nbformat": 4
 },
 "nbformat": 4,
 "nbformat_minor": 2
}
