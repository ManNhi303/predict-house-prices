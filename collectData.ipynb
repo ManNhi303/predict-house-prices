{
 "cells": [
  {
   "cell_type": "code",
   "execution_count": 1,
   "metadata": {},
   "outputs": [],
   "source": [
    "import numpy as np\n",
    "import pandas as pd\n",
    "import requests\n",
    "from bs4 import BeautifulSoup\n",
    "import re\n",
    "import math\n",
    "import time"
   ]
  },
  {
   "cell_type": "code",
   "execution_count": 2,
   "metadata": {},
   "outputs": [],
   "source": [
    "url = 'https://batdongsan.vn/ban-nha/'\n",
    "data = requests.get(url)"
   ]
  },
  {
   "cell_type": "code",
   "execution_count": 12,
   "metadata": {},
   "outputs": [],
   "source": [
    "soup = BeautifulSoup(data.text, 'lxml')"
   ]
  },
  {
   "attachments": {},
   "cell_type": "markdown",
   "metadata": {},
   "source": [
    "## Thử nghiệm lấy các thông tin cụ thể từ một trang"
   ]
  },
  {
   "cell_type": "code",
   "execution_count": null,
   "metadata": {},
   "outputs": [],
   "source": [
    "print(soup.prettify)"
   ]
  },
  {
   "cell_type": "code",
   "execution_count": 5,
   "metadata": {},
   "outputs": [],
   "source": [
    "datalist = soup.find('div', {'class':'datalist'})\n",
    "for i in datalist.find_all('div', {'class':'name'}):\n",
    "    house_temp = requests.get(i.a['href']) # link từng cái nhà"
   ]
  },
  {
   "cell_type": "code",
   "execution_count": 6,
   "metadata": {},
   "outputs": [],
   "source": [
    "# url1 = 'https://batdongsan.vn/nha-cau-giay-ngo-nong-o-to-vao-gan-nha-gan-mat-pho-mt-5m-35-ty-r268507'\n",
    "url1 = 'https://batdongsan.vn/nha-gan-buu-longnga-tu-ben-ca-820tr-r268542'\n",
    "d = requests.get(url1)\n",
    "s = BeautifulSoup(d.text, 'lxml')\n",
    "# lay dia chi + loai nha"
   ]
  },
  {
   "cell_type": "code",
   "execution_count": 7,
   "metadata": {},
   "outputs": [],
   "source": [
    "HouseInformations = {\"houseTypes\":[],\"area\":[], \"num_floors\":[],\"bedrooms\":[], \"address\":[], \"price\":[]}"
   ]
  },
  {
   "cell_type": "code",
   "execution_count": 8,
   "metadata": {},
   "outputs": [
    {
     "data": {
      "text/plain": [
       "'Vĩnh Cửu, Đồng Nai'"
      ]
     },
     "execution_count": 8,
     "metadata": {},
     "output_type": "execute_result"
    }
   ],
   "source": [
    "info = s.find('ul', {'class':'uk-breadcrumb'}).text.strip().replace('\\n',',').split(',')\n",
    "diachi = info[3]+\", \" +info[2]\n",
    "loai_nha = info[1]\n",
    "loai_nha\n",
    "diachi"
   ]
  },
  {
   "cell_type": "code",
   "execution_count": 9,
   "metadata": {},
   "outputs": [
    {
     "name": "stdout",
     "output_type": "stream",
     "text": [
      "820\n"
     ]
    }
   ],
   "source": [
    "t = s.find('div',{'class':'project-global-object-block-003 information-custom'}).find('strong',{'class':'price'}).text.strip()\n",
    "z = (re.search(r\"(\\d+(?:\\.\\d+)?(?:,\\d+)?) tỷ\", t) or re.search(r\"(\\d+(?:\\.\\d+)?(?:,\\d+)?) triệu\", t))\n",
    "print(z.group(1))"
   ]
  },
  {
   "cell_type": "code",
   "execution_count": 10,
   "metadata": {},
   "outputs": [
    {
     "data": {
      "text/plain": [
       "<div class=\"content\">\n",
       "<p>Cam kết giá thật, hình thật<br/>\n",
       "- Trả trước 600tr vô ở, hỗ trợ góp<br/>\n",
       "- nhà vừa xây, tặng máy lạnh mới lắp<br/>\n",
       "- 600m có chợ tân bình, trường tân triều<br/>\n",
       "- 1 căn duy nhất, liên hệ xem nhà<br/>\n",
       "SĐT : 0365 717 177 chính chủ ( có zalo</p>\n",
       "</div>"
      ]
     },
     "execution_count": 10,
     "metadata": {},
     "output_type": "execute_result"
    }
   ],
   "source": [
    "s.find('div',{'class':'content'})"
   ]
  },
  {
   "cell_type": "code",
   "execution_count": 8,
   "metadata": {},
   "outputs": [
    {
     "data": {
      "text/plain": [
       "'NHÀ GẦN BỬU LONG,NGÃ TƯ BẾN CÁ 820tr                   820 triệu                               Diện tích: 96 m2     Mã tin: 268542 Ngày đăng: 14:16 02/06/2023     Chia sẻ  Báo xấu Lưu tinCam kết giá thật, hình thật - Trả trước 600tr vô ở, hỗ trợ góp - nhà vừa xây, tặng máy lạnh mới lắp - 600m có chợ tân bình, trường tân triều - 1 căn duy nhất, liên hệ xem nhà SĐT : 0365 717 177 chính chủ ( có zalo'"
      ]
     },
     "execution_count": 8,
     "metadata": {},
     "output_type": "execute_result"
    }
   ],
   "source": [
    "a = s.find('div',{'class':'project-global-object-block-003 information-custom'}).text.strip() + s.find('div',{'class':'content'}).text.strip().replace('\\n','')\n",
    "a = a.replace(\"\\r\",\" \")\n",
    "a = a.replace(\"\\n\",\" \")\n",
    "a = a.replace(\"\\t\",\" \")\n",
    "# a = a.replace(\"\\r\\n\",\"\")\n",
    "# a = a.replace(\"\\n\\t\",\"\")\n",
    "a"
   ]
  },
  {
   "cell_type": "code",
   "execution_count": null,
   "metadata": {},
   "outputs": [],
   "source": [
    "z = (re.search(r\"Tầng (\\d+)\", a) or re.search(r\"(\\d+) Tầng\", a)\n",
    "            or re.search(r\"tầng (\\d+)\", a) or re.search(r\"(\\d+) tầng\", a)\n",
    "            or re.search(r\"TẦNG (\\d+)\", a) or re.search(r\"(\\d+) TẦNG\", a)\n",
    "            or re.search(r\"tầng(\\d+)\", a) or re.search(r\"(\\d+)tầng\", a))\n",
    "    \n",
    "if z != None:\n",
    "    print(\"hehe\"+ z.group(1))\n",
    "else:\n",
    "    pattern = r\"Tầng (\\d+)\"\n",
    "    matches = re.findall(pattern, a)\n",
    "    if matches:\n",
    "        max_floor = max(matches, key=int)\n",
    "        print(str(max_floor))\n",
    "    else:\n",
    "        print('1')"
   ]
  },
  {
   "cell_type": "code",
   "execution_count": 232,
   "metadata": {},
   "outputs": [
    {
     "name": "stdout",
     "output_type": "stream",
     "text": [
      "5\n"
     ]
    }
   ],
   "source": [
    "pattern = r\"Tầng (\\d+)\"\n",
    "matches = re.findall(pattern, a)\n",
    "if matches:\n",
    "    max_floor = max(matches, key=int)\n",
    "    result = max_floor\n",
    "    print(result)  # Output: \"Tầng 3\"\n",
    "else:\n",
    "    print(\"No match found.\")"
   ]
  },
  {
   "cell_type": "code",
   "execution_count": null,
   "metadata": {},
   "outputs": [],
   "source": [
    "# Lấy Giá\n",
    "a\n",
    "z = (re.search(r\"(\\d+(?:\\.\\d+)?(?:,\\d+)?) Tỷ\", a) or re.search(r\"(\\d+(?:\\.\\d+)?(?:,\\d+)?) tỷ\", a))\n",
    "print(z.group(1))\n",
    "z = (re.search(r\"(\\d+(?:\\.\\d+)?(?:,\\d+)?) triệu\", a ) or re.search(r\"(\\d+(?:\\.\\d+)?(?:,\\d+)?) tr\", a)) # cho nếu nhà giá triệu\n",
    "print(z.group(1))"
   ]
  },
  {
   "cell_type": "code",
   "execution_count": 224,
   "metadata": {},
   "outputs": [
    {
     "name": "stdout",
     "output_type": "stream",
     "text": [
      "7\n"
     ]
    }
   ],
   "source": [
    "a = s.find('div',{'class':'project-global-object-block-003 information-custom'}).text.strip() + s.find('div',{'class':'content'}).text.strip()\n",
    "# # print(a)\n",
    "# dientich = None\n",
    "# phongngu = None\n",
    "# # tim dien tich\n",
    "# z = re.search(r\"Diện tích: (\\d+) m2\", a)\n",
    "# if z != None:\n",
    "#     dientich = z.group(1)\n",
    "# else:\n",
    "#     dientich = z\n",
    "# # tim so PN\n",
    "z = (re.search(r\"Phòng ngủ: (\\d+) PN\", a) or re.search(r\"(\\d+) PN\", a) or re.search(r\"(\\d+)PN\", a))\n",
    "if z != None:\n",
    "    phongngu = z.group(1)\n",
    "else:\n",
    "    phongngu = z\n",
    "print(phongngu)"
   ]
  },
  {
   "cell_type": "code",
   "execution_count": 133,
   "metadata": {},
   "outputs": [
    {
     "name": "stdout",
     "output_type": "stream",
     "text": [
      "None\n"
     ]
    }
   ],
   "source": [
    "TTphong = s.find('div',{'class':'project-global-object-block-003 information-custom'}).find('ul',{'class','uk-list'}).text.strip().replace('\\n',',')\n",
    "# for i in TTphong: # chu y thong tin phong co the null\n",
    "#     print(i)\n",
    "#     if re.search(r\"Diện tích: (\\d+) m2\", i) != None:\n",
    "        \n",
    "#     for pattern in [r\"Diện tích: (\\d+) m2\", r\"Phòng ngủ: (\\d+) PN\", r\"Phòng ngủ: (\\d+) PN\"]:\n",
    "#         z = re.search(,i)\n",
    "#     print(z.group(1))\n",
    "TTphong\n",
    "z = re.search(r\"Diện tíc: (\\d+) m2\", TTphong)\n",
    "if z != None:\n",
    "    dientich = z.group(1)\n",
    "else:\n",
    "    dientich = z\n",
    "z = re.search(r\"Phòng ngủ: (\\d+) PN\", TTphong)\n",
    "print(dientich)\n",
    "# dientich = re.search(r\"Diện tích: (\\d+) m2\", TTphong).group(1)\n",
    "# dientich\n",
    "# PhongNgu = re.search(r\"Phòng ng: (\\d+) PN\", TTphong).group(1)"
   ]
  },
  {
   "cell_type": "code",
   "execution_count": 4,
   "metadata": {},
   "outputs": [
    {
     "data": {
      "text/plain": [
       "483"
      ]
     },
     "execution_count": 4,
     "metadata": {},
     "output_type": "execute_result"
    }
   ],
   "source": [
    "num_pages = soup.find(\"div\", {\"class\":\"desc\"})\n",
    "num_pages.text\n",
    "matches = re.findall(r'\\d', num_pages.text)\n",
    "totals = ''\n",
    "if len(matches) > 0:\n",
    "    for number in matches:\n",
    "        totals += number\n",
    "totals = int(totals)\n",
    "totals\n",
    "total_items = math.ceil(totals/20)\n",
    "total_items"
   ]
  },
  {
   "cell_type": "code",
   "execution_count": 329,
   "metadata": {},
   "outputs": [],
   "source": [
    "list_floor = []"
   ]
  },
  {
   "cell_type": "code",
   "execution_count": 492,
   "metadata": {},
   "outputs": [
    {
     "name": "stdout",
     "output_type": "stream",
     "text": [
      "1\n"
     ]
    }
   ],
   "source": [
    "pattern = r\"(\\d+)\\s?(?:Tầng|Tang|tang| tang|tang |tầng)\"\n",
    "matches = \"\"\n",
    "matches = re.findall(pattern, a, re.IGNORECASE) \n",
    "if matches:\n",
    "    print(matches[0])\n",
    "else:\n",
    "    print(\"1\")"
   ]
  },
  {
   "cell_type": "code",
   "execution_count": 13,
   "metadata": {},
   "outputs": [
    {
     "name": "stdout",
     "output_type": "stream",
     "text": [
      "Giá trị X: 92.2\n"
     ]
    }
   ],
   "source": [
    "text = \"Diện tích: 92.2 m2\"\n",
    "\n",
    "regex_pattern = r\"(?<=Diện tích: )(\\d+(\\.\\d+)?)\"\n",
    "matches = re.findall(regex_pattern, text)\n",
    "\n",
    "if matches:\n",
    "    x = str(float(matches[0][0]))\n",
    "    print(\"Giá trị X:\", x)\n",
    "else:\n",
    "    print(\"Không tìm thấy giá trị X trong chuỗi.\")"
   ]
  },
  {
   "attachments": {},
   "cell_type": "markdown",
   "metadata": {},
   "source": [
    "## Hàm lấy data"
   ]
  },
  {
   "cell_type": "code",
   "execution_count": 16,
   "metadata": {},
   "outputs": [],
   "source": [
    "def getHouseInformationToDict(HouseInformations: dict, soup: BeautifulSoup, url: str):\n",
    "    if(soup.find('div',{'class':'project-global-object-block-003 information-custom'}) and soup.find('div',{'class':'content'})):\n",
    "        text_info=\"\"\n",
    "        text_info = soup.find('div',{'class':'project-global-object-block-003 information-custom'}).text.strip() + soup.find('div',{'class':'content'}).text.strip().replace('\\n','')\n",
    "        text_info = text_info.replace(\"\\r\",\" \")\n",
    "        text_info = text_info.replace(\"\\n\",\" \")\n",
    "        text_info = text_info.replace(\"\\t\",\" \")\n",
    "        \n",
    "        #parse houseTypes & address\n",
    "        info = soup.find('ul', {'class':'uk-breadcrumb'}).text.strip().replace('\\n',',').split(',')\n",
    "        HouseInformations['address'].append(info[3]+\", \" +info[2])\n",
    "        HouseInformations['houseTypes'].append(info[1])\n",
    "        \n",
    "        \n",
    "        # parse area\n",
    "        z = re.findall(r\"(?<=Diện tích: )(\\d+(\\.\\d+)?)\", text_info) or re.findall(r\"DT\\s+(\\d+(\\.\\d+)?)\", text_info, re.IGNORECASE)\n",
    "        \n",
    "        if z:\n",
    "            HouseInformations['area'].append(z[0][0])\n",
    "        else:\n",
    "            HouseInformations['area'].append(np.nan)\n",
    "\n",
    "        #parse floor & num_bedrooms\n",
    "\n",
    "        pattern = r\"(\\d+)\\s?(?:Tầng|Tang|tang| tang|tang |tầng)\"\n",
    "        matches = \"\"\n",
    "        matches = re.findall(pattern, text_info, re.IGNORECASE)\n",
    "        # print(text_info)\n",
    "        # print(matches)\n",
    "        if matches:\n",
    "            HouseInformations['num_floors'].append(matches[0])\n",
    "        else:\n",
    "            # print(\"else check\")\n",
    "            pattern = r\"Tầng\\s+(\\d+(?:\\s*,\\s*\\d+)*)\\b|\\bTầng\\s+(\\d+)\\b\"\n",
    "            matches = re.findall(pattern, text_info, re.IGNORECASE)\n",
    "            # print(\"else check: \", matches)\n",
    "            if matches:\n",
    "                numbers = []\n",
    "                for match in matches:\n",
    "                    if match[0] != '':\n",
    "                        numbers.extend([int(num) for num in re.findall(r'\\d+', match[0])])\n",
    "                    elif match[1] != '':\n",
    "                        numbers.append(int(match[1]))\n",
    "                max_number = max(numbers)\n",
    "                HouseInformations['num_floors'].append(str(max_number))\n",
    "            else:\n",
    "                    # print(\"Lầu check\")\n",
    "                    # pattern = r'\\b(\\d+)\\b\\s*(?:T|lầu)'\n",
    "                    pattern = r'(?:\\D+|\\s+)(\\d+)\\s*(?:T|lầu)\\b'\n",
    "                    matches = re.findall(pattern, text_info)\n",
    "                    # print(\"maches\", matches)\n",
    "                    if matches:\n",
    "                        numbers = [int(match) for match in matches]\n",
    "                        # print(numbers)\n",
    "                        # print(matches)\n",
    "                        HouseInformations['num_floors'].append(str(max(numbers)))\n",
    "                    else:\n",
    "                        HouseInformations['num_floors'].append(np.nan)\n",
    "                \n",
    "\n",
    "        \n",
    "        \n",
    "        z = (re.search(r\"Phòng ngủ: (\\d+) PN\", text_info, re.IGNORECASE) or re.search(r\"(\\d+) PN\", text_info)\n",
    "            or re.search(r\"(\\d+)PN\", text_info)\n",
    "            or re.search(r\"(\\d+) phòng ngủ\", text_info, re.IGNORECASE)\n",
    "            or re.search(r\"(\\d+)pn\", text_info)\n",
    "            or re.search(r\"(\\d+) pn\", text_info))\n",
    "        if z != None:\n",
    "            HouseInformations['bedrooms'].append(z.group(1))\n",
    "        else:\n",
    "            HouseInformations['bedrooms'].append(np.nan)\n",
    "        \n",
    "        \n",
    "        # parse price\n",
    "        price = soup.find('div',{'class':'project-global-object-block-003 information-custom'}).find('strong',{'class':'price'}).text.strip()\n",
    "        if price == 'Thỏa thuận':\n",
    "            z = (re.search(r\"(\\d+(?:\\.\\d+)?(?:,\\d+)?) Tỷ\", text_info) or re.search(r\"(\\d+(?:\\.\\d+)?(?:,\\d+)?) tỷ\", text_info))\n",
    "\n",
    "            if z != None:\n",
    "                HouseInformations['price'].append(z.group(1))     # TH: Tỷ\n",
    "            else:\n",
    "                z = (re.search(r\"(\\d+(?:\\.\\d+)?(?:,\\d+)?) triệu\", text_info) or re.search(r\"(\\d+(?:\\.\\d+)?(?:,\\d+)?) tr\", text_info)) # cho nếu nhà giá triệu\n",
    "                if z != None:\n",
    "                    HouseInformations['price'].append(str(float(z.group(1))/1000))\n",
    "                else:\n",
    "                    HouseInformations['price'].append(z)\n",
    "        else:\n",
    "            z = re.search(r\"(\\d+(?:\\.\\d+)?(?:,\\d+)?) tỷ\", price)\n",
    "            if z != None:\n",
    "                if float(z.group(1)) > 1000 and float(z.group(1)) < 10000:\n",
    "                    HouseInformations['price'].append(str(float(z.group(1))/1000))\n",
    "                elif float(z.group(1)) > 100000:\n",
    "                    HouseInformations['price'].append(str(float(z.group(1))/1000000))\n",
    "                else:\n",
    "                    HouseInformations['price'].append(z.group(1))\n",
    "            else:\n",
    "                z = re.search(r\"(\\d+(?:\\.\\d+)?(?:,\\d+)?) triệu\", price)\n",
    "                if z != None:\n",
    "                    if (float(z.group(1)) < 100):\n",
    "                        HouseInformations['price'].append(z.group(1))\n",
    "                    else:\n",
    "                        HouseInformations['price'].append(str(float(z.group(1))/1000))\n",
    "                else:\n",
    "                    HouseInformations['price'].append(z)\n",
    "        HouseInformations['url'].append(url)\n",
    "    else:\n",
    "        pass"
   ]
  },
  {
   "attachments": {},
   "cell_type": "markdown",
   "metadata": {},
   "source": [
    "## Tiến hành lấy data"
   ]
  },
  {
   "cell_type": "code",
   "execution_count": null,
   "metadata": {},
   "outputs": [],
   "source": [
    "soup_temp = soup\n",
    "url_pages = 'https://batdongsan.vn/ban-nha/'\n",
    "HouseInformations = {\"houseTypes\":[],\"area\":[], \"num_floors\":[],\"bedrooms\":[], \"address\":[], \"price\":[], 'url':[]}\n",
    "for i in range(2, total_items+1): #start from 'https://batdongsan.vn/ban-nha/' after that to /p2\n",
    "    print(i)\n",
    "    data_list = soup_temp.find('div', {'class':'datalist'})\n",
    "    for item in data_list.find_all('div', {'class':'name'}):\n",
    "        house_html = requests.get(item.a['href']) # link từng cái nhà \n",
    "        if house_html:\n",
    "            house_soup = BeautifulSoup(house_html.text, 'lxml')\n",
    "            getHouseInformationToDict(HouseInformations, house_soup, item.a['href'])\n",
    "    print(url_pages +'p%d' %i)\n",
    "    data_temp = requests.get(url_pages +'p%d' %i) # url_pages +'p%d' %i next page link\n",
    "    soup_temp = BeautifulSoup(data_temp.text, 'lxml')"
   ]
  },
  {
   "cell_type": "code",
   "execution_count": 164,
   "metadata": {},
   "outputs": [
    {
     "data": {
      "text/plain": [
       "['https://batdongsan.vn/ban-biet-thu-san-vuon-quan-12-130m2-3-tang-7pn-gia-92-ty-gia-rat-tot-chot-bat-ngo-r268184',\n",
       " 'https://batdongsan.vn/gap-ban-giam-3-ty-mat-tien-hem-xe-hoi-tranh-10m-quan-6-189m2-gia-24-ty-r267895',\n",
       " 'https://batdongsan.vn/nha-chua-qua-dau-tu-tien-xay-moi-hem-4m-sat-ben-binh-thanh-r268562',\n",
       " 'https://batdongsan.vn/ban-nha-phu-my-le-duc-tho-kinh-doanh-sam-uat-30m2-68-ty-r268559',\n",
       " 'https://batdongsan.vn/ban-nha-phu-my-le-duc-tho-lo-goc-kinh-doanh-sam-uat-52m2-85-ty-r268558',\n",
       " 'https://batdongsan.vn/ban-nha-pham-van-dong-mat-tien-rong-dep-o-to-tranh-bac-tu-liem-39m2-75-ty-r268557',\n",
       " 'https://batdongsan.vn/ban-nha-xuan-dinh-nha-dep-full-noi-that-moi-ngo-o-to-tranh-33-m2-43-ty-r268556',\n",
       " 'https://batdongsan.vn/hxh-6x18-dien-bien-phu-11-ty-2-p22-binh-thanh-r268550',\n",
       " 'https://batdongsan.vn/hxh-35x11-thong-nhat-27-ty-p16-go-vap-r268549',\n",
       " 'https://batdongsan.vn/ban-nha-tan-hoa-dong-binh-tan-hem-3-gac-nha-2-tang-2-pn-full-cong-nang-nhinh-2-ty-thuong-luong-r268544',\n",
       " 'https://batdongsan.vn/xe-tai-do-cua-vi-tri-kinh-doanh-gan-mat-tien-duong-60m2-nha-dep-2-tang-nhinh-4-ty-r268543',\n",
       " 'https://batdongsan.vn/nha-gan-buu-longnga-tu-ben-ca-820tr-r268542',\n",
       " 'https://batdongsan.vn/ban-nha-hem-10m-ra-mtd-gan-vanh-dai-2-2-tang-shr-chi-nhinh-2-ty-linh-dong-thu-duc-r268541',\n",
       " 'https://batdongsan.vn/can-ban-nha-nga-tu-so-thanh-xuan-oto-chanh-oto-vao-nha-42m-x4tang-gia-6x-ty-r268539',\n",
       " 'https://batdongsan.vn/ban-ngop-can-nha-nat-70m2-mat-tien-xuan-thoi-thuong-hoc-mon-shr-r268535',\n",
       " 'https://batdongsan.vn/ra-nhanh-lo-500-trieu-nha-tt-tp-thuan-an-full-noi-that-cao-cap-r268534',\n",
       " 'https://batdongsan.vn/nha-lam-du-bo-de-48m-x-5-tang-mt-4m-o-to-gan-4-ty-8-r268533',\n",
       " 'https://batdongsan.vn/ban-nha-nga-tu-so-quan-thanh-xuan-thang-may-gan-oto-45m-x6tmt4m-r268524',\n",
       " 'https://batdongsan.vn/chinh-chu-can-ban-can-shophouse-ngoc-trai-08-gia-155-ty-vinhomes-ocean-park-gia-lam-0868878818-r268512',\n",
       " 'https://batdongsan.vn/ban-nha-lang-quan-dong-da-36m2-x-5t-chi-hon-5-ty-r268511',\n",
       " 'https://batdongsan.vn/nha-mt-kinh-doanh-sam-uat-p-linh-chieu-tp-thu-duc-dt-125m2-gia-105-ty-r264114',\n",
       " 'https://batdongsan.vn/nha-1-tret-2-lau-st-oto-ngu-trong-nha-44x11-cach-mt-30m-dao-duy-anh-quan-phu-nhuan-r264113',\n",
       " 'https://batdongsan.vn/ban-nha-bat-khoilong-bieno-tolo-goc3-thoangkinh-doanh38m2x6tgia-495-ty-r264112',\n",
       " 'https://batdongsan.vn/ban-biet-thu-mini-139m2-tho-cu-duong-o-to-p-tan-hiep-chi-65-ti-r264111',\n",
       " 'https://batdongsan.vn/mat-tien-gan-cu-xa-bac-hai-kinh-doanh-sam-uat-5-tang-kien-co-dep-lung-linh-r264108',\n",
       " 'https://batdongsan.vn/ban-nha-1t1l-68m2-tho-cu-duong-o-to-p-quyet-thang-chi-31-ti-r264106',\n",
       " 'https://batdongsan.vn/nha-pho-re-nhat-thi-truong-hien-nay-nam-gan-vicom-di-an-gia-chi-2-ty-525-trieu-ck-10-chi-vang-r264103',\n",
       " 'https://batdongsan.vn/nha-pho-re-nhat-thi-truong-hien-nay-nam-gan-vicom-di-an-gia-chi-2-ty-525-trieu-ck-10-chi-vang-r264102',\n",
       " 'https://batdongsan.vn/ban-nha-chinh-chu-thien-chi-mua-co-thuong-luong-r264101',\n",
       " 'https://batdongsan.vn/nha-hiem-keu-goi-dau-tu-88m2-hem-8-met-oto-thong-tan-thoi-nhat-q12-chi-5-ty-r264100',\n",
       " 'https://batdongsan.vn/lo-goc-lac-long-quan-tan-binh-4-tang-moi-dep-32m2-ngang-4m-r264095',\n",
       " 'https://batdongsan.vn/giam-300tr-nha-2-tang-linh-xuan-53-m2-chi-3-ty-4-gan-cong-vien-r264094',\n",
       " 'https://batdongsan.vn/nha-moi-ngo-gia-tu-long-bien-o-to-vao-lo-goc-thoang-37m2x-5-tang-mat-tien-9m-3-ty-9-r264093',\n",
       " 'https://batdongsan.vn/ban-nha-hxh-53m2-1-tret-1-lau-mtd-linh-xuan-thu-duc-nhinh-3-ty-r264092',\n",
       " 'https://batdongsan.vn/hoa-hau-mat-pho-xa-dan-112mx10txmt6m-thang-may-via-he-o-to-kd-gia-92-ty-lh-0366051369-r264090',\n",
       " 'https://batdongsan.vn/ban-nha-mat-pho-nguyen-khoai-hai-ba-trung-70m-x-mt5m-o-to-kd-gia-11-ty-lh-0366051369-r264089',\n",
       " 'https://batdongsan.vn/ban-nha-mat-pho-son-tay-ba-dinh-73mxmt5m-via-he-o-to-kd-285-ty-lh-0366051369-r264088',\n",
       " 'https://batdongsan.vn/re-nhat-khu-vuc-86-trieum-khong-co-can-thu-2-ban-nha-52m-phan-lo-quan-doi-quan-hoang-mai-r264085',\n",
       " 'https://batdongsan.vn/ban-gap-nha-no-hau-linh-tay-thu-duc-40m2-3-ty-x-r264084']"
      ]
     },
     "execution_count": 164,
     "metadata": {},
     "output_type": "execute_result"
    }
   ],
   "source": [
    "HouseInformations['url']"
   ]
  },
  {
   "cell_type": "code",
   "execution_count": 134,
   "metadata": {},
   "outputs": [],
   "source": [
    "HouseInformations['url'].remove('https://batdongsan.vn/-r264105')"
   ]
  },
  {
   "cell_type": "code",
   "execution_count": 168,
   "metadata": {},
   "outputs": [],
   "source": [
    "df = pd.DataFrame.from_dict(HouseInformations)"
   ]
  },
  {
   "cell_type": "code",
   "execution_count": 169,
   "metadata": {},
   "outputs": [
    {
     "data": {
      "text/html": [
       "<div>\n",
       "<style scoped>\n",
       "    .dataframe tbody tr th:only-of-type {\n",
       "        vertical-align: middle;\n",
       "    }\n",
       "\n",
       "    .dataframe tbody tr th {\n",
       "        vertical-align: top;\n",
       "    }\n",
       "\n",
       "    .dataframe thead th {\n",
       "        text-align: right;\n",
       "    }\n",
       "</style>\n",
       "<table border=\"1\" class=\"dataframe\">\n",
       "  <thead>\n",
       "    <tr style=\"text-align: right;\">\n",
       "      <th></th>\n",
       "      <th>houseTypes</th>\n",
       "      <th>area</th>\n",
       "      <th>num_floors</th>\n",
       "      <th>bedrooms</th>\n",
       "      <th>address</th>\n",
       "      <th>price</th>\n",
       "      <th>url</th>\n",
       "    </tr>\n",
       "  </thead>\n",
       "  <tbody>\n",
       "    <tr>\n",
       "      <th>0</th>\n",
       "      <td>Bán Nhà riêng</td>\n",
       "      <td>130</td>\n",
       "      <td>3</td>\n",
       "      <td>7</td>\n",
       "      <td>Quận 12, TP Hồ Chí Minh</td>\n",
       "      <td>9.2</td>\n",
       "      <td>https://batdongsan.vn/ban-biet-thu-san-vuon-qu...</td>\n",
       "    </tr>\n",
       "    <tr>\n",
       "      <th>1</th>\n",
       "      <td>Bán Nhà riêng</td>\n",
       "      <td>189</td>\n",
       "      <td>NaN</td>\n",
       "      <td>NaN</td>\n",
       "      <td>Quận 6, TP Hồ Chí Minh</td>\n",
       "      <td>24</td>\n",
       "      <td>https://batdongsan.vn/gap-ban-giam-3-ty-mat-ti...</td>\n",
       "    </tr>\n",
       "    <tr>\n",
       "      <th>2</th>\n",
       "      <td>Bán Nhà riêng</td>\n",
       "      <td>42</td>\n",
       "      <td>NaN</td>\n",
       "      <td>3</td>\n",
       "      <td>Gò Vấp, TP Hồ Chí Minh</td>\n",
       "      <td>4.6</td>\n",
       "      <td>https://batdongsan.vn/nha-chua-qua-dau-tu-tien...</td>\n",
       "    </tr>\n",
       "    <tr>\n",
       "      <th>3</th>\n",
       "      <td>Bán Nhà riêng</td>\n",
       "      <td>30</td>\n",
       "      <td>5</td>\n",
       "      <td>1</td>\n",
       "      <td>Nam Từ Liêm, Hà Nội</td>\n",
       "      <td>6.8</td>\n",
       "      <td>https://batdongsan.vn/ban-nha-phu-my-le-duc-th...</td>\n",
       "    </tr>\n",
       "    <tr>\n",
       "      <th>4</th>\n",
       "      <td>Bán Nhà riêng</td>\n",
       "      <td>52</td>\n",
       "      <td>5</td>\n",
       "      <td>2</td>\n",
       "      <td>Nam Từ Liêm, Hà Nội</td>\n",
       "      <td>8.5</td>\n",
       "      <td>https://batdongsan.vn/ban-nha-phu-my-le-duc-th...</td>\n",
       "    </tr>\n",
       "    <tr>\n",
       "      <th>...</th>\n",
       "      <td>...</td>\n",
       "      <td>...</td>\n",
       "      <td>...</td>\n",
       "      <td>...</td>\n",
       "      <td>...</td>\n",
       "      <td>...</td>\n",
       "      <td>...</td>\n",
       "    </tr>\n",
       "    <tr>\n",
       "      <th>7211</th>\n",
       "      <td>Bán Nhà riêng</td>\n",
       "      <td>78</td>\n",
       "      <td>1</td>\n",
       "      <td>2</td>\n",
       "      <td>Biên Hòa, Đồng Nai</td>\n",
       "      <td>2.85</td>\n",
       "      <td>https://batdongsan.vn/ban-nha-1t1l-tho-cu-duon...</td>\n",
       "    </tr>\n",
       "    <tr>\n",
       "      <th>7212</th>\n",
       "      <td>Bán Nhà riêng</td>\n",
       "      <td>39</td>\n",
       "      <td>3</td>\n",
       "      <td>4</td>\n",
       "      <td>Bình Tân, TP Hồ Chí Minh</td>\n",
       "      <td>3.8</td>\n",
       "      <td>https://batdongsan.vn/ban-nha-hxh-thong-duong-...</td>\n",
       "    </tr>\n",
       "    <tr>\n",
       "      <th>7213</th>\n",
       "      <td>Bán Nhà riêng</td>\n",
       "      <td>4</td>\n",
       "      <td>4</td>\n",
       "      <td>5</td>\n",
       "      <td>Bình Thạnh, TP Hồ Chí Minh</td>\n",
       "      <td>6.9</td>\n",
       "      <td>https://batdongsan.vn/nha-4-tang-dt4x155-truoc...</td>\n",
       "    </tr>\n",
       "    <tr>\n",
       "      <th>7214</th>\n",
       "      <td>Bán Nhà riêng</td>\n",
       "      <td>88</td>\n",
       "      <td>NaN</td>\n",
       "      <td>2</td>\n",
       "      <td>Biên Hòa, Đồng Nai</td>\n",
       "      <td>2.55</td>\n",
       "      <td>https://batdongsan.vn/ban-nha-88m2-shr-tho-cu-...</td>\n",
       "    </tr>\n",
       "    <tr>\n",
       "      <th>7215</th>\n",
       "      <td>Bán Nhà riêng</td>\n",
       "      <td>80</td>\n",
       "      <td>7</td>\n",
       "      <td>6</td>\n",
       "      <td>Cầu Giấy, Hà Nội</td>\n",
       "      <td>21.5</td>\n",
       "      <td>https://batdongsan.vn/ban-nha-phan-lo-nguyen-k...</td>\n",
       "    </tr>\n",
       "  </tbody>\n",
       "</table>\n",
       "<p>7216 rows × 7 columns</p>\n",
       "</div>"
      ],
      "text/plain": [
       "         houseTypes area num_floors bedrooms                     address   \n",
       "0     Bán Nhà riêng  130          3        7     Quận 12, TP Hồ Chí Minh  \\\n",
       "1     Bán Nhà riêng  189        NaN      NaN      Quận 6, TP Hồ Chí Minh   \n",
       "2     Bán Nhà riêng   42        NaN        3      Gò Vấp, TP Hồ Chí Minh   \n",
       "3     Bán Nhà riêng   30          5        1         Nam Từ Liêm, Hà Nội   \n",
       "4     Bán Nhà riêng   52          5        2         Nam Từ Liêm, Hà Nội   \n",
       "...             ...  ...        ...      ...                         ...   \n",
       "7211  Bán Nhà riêng   78          1        2          Biên Hòa, Đồng Nai   \n",
       "7212  Bán Nhà riêng   39          3        4    Bình Tân, TP Hồ Chí Minh   \n",
       "7213  Bán Nhà riêng    4          4        5  Bình Thạnh, TP Hồ Chí Minh   \n",
       "7214  Bán Nhà riêng   88        NaN        2          Biên Hòa, Đồng Nai   \n",
       "7215  Bán Nhà riêng   80          7        6            Cầu Giấy, Hà Nội   \n",
       "\n",
       "     price                                                url  \n",
       "0      9.2  https://batdongsan.vn/ban-biet-thu-san-vuon-qu...  \n",
       "1       24  https://batdongsan.vn/gap-ban-giam-3-ty-mat-ti...  \n",
       "2      4.6  https://batdongsan.vn/nha-chua-qua-dau-tu-tien...  \n",
       "3      6.8  https://batdongsan.vn/ban-nha-phu-my-le-duc-th...  \n",
       "4      8.5  https://batdongsan.vn/ban-nha-phu-my-le-duc-th...  \n",
       "...    ...                                                ...  \n",
       "7211  2.85  https://batdongsan.vn/ban-nha-1t1l-tho-cu-duon...  \n",
       "7212   3.8  https://batdongsan.vn/ban-nha-hxh-thong-duong-...  \n",
       "7213   6.9  https://batdongsan.vn/nha-4-tang-dt4x155-truoc...  \n",
       "7214  2.55  https://batdongsan.vn/ban-nha-88m2-shr-tho-cu-...  \n",
       "7215  21.5  https://batdongsan.vn/ban-nha-phan-lo-nguyen-k...  \n",
       "\n",
       "[7216 rows x 7 columns]"
      ]
     },
     "execution_count": 169,
     "metadata": {},
     "output_type": "execute_result"
    }
   ],
   "source": [
    "df"
   ]
  },
  {
   "cell_type": "code",
   "execution_count": 172,
   "metadata": {},
   "outputs": [],
   "source": [
    "percent_missing = df.isnull().sum() * 100 / len(df)\n",
    "missing_value_df = pd.DataFrame({'column_name': df.columns,\n",
    "                                'percent_missing': percent_missing})"
   ]
  },
  {
   "cell_type": "code",
   "execution_count": 173,
   "metadata": {},
   "outputs": [
    {
     "data": {
      "text/html": [
       "<div>\n",
       "<style scoped>\n",
       "    .dataframe tbody tr th:only-of-type {\n",
       "        vertical-align: middle;\n",
       "    }\n",
       "\n",
       "    .dataframe tbody tr th {\n",
       "        vertical-align: top;\n",
       "    }\n",
       "\n",
       "    .dataframe thead th {\n",
       "        text-align: right;\n",
       "    }\n",
       "</style>\n",
       "<table border=\"1\" class=\"dataframe\">\n",
       "  <thead>\n",
       "    <tr style=\"text-align: right;\">\n",
       "      <th></th>\n",
       "      <th>column_name</th>\n",
       "      <th>percent_missing</th>\n",
       "    </tr>\n",
       "  </thead>\n",
       "  <tbody>\n",
       "    <tr>\n",
       "      <th>houseTypes</th>\n",
       "      <td>houseTypes</td>\n",
       "      <td>0.000000</td>\n",
       "    </tr>\n",
       "    <tr>\n",
       "      <th>area</th>\n",
       "      <td>area</td>\n",
       "      <td>5.418514</td>\n",
       "    </tr>\n",
       "    <tr>\n",
       "      <th>num_floors</th>\n",
       "      <td>num_floors</td>\n",
       "      <td>19.955654</td>\n",
       "    </tr>\n",
       "    <tr>\n",
       "      <th>bedrooms</th>\n",
       "      <td>bedrooms</td>\n",
       "      <td>21.258315</td>\n",
       "    </tr>\n",
       "    <tr>\n",
       "      <th>address</th>\n",
       "      <td>address</td>\n",
       "      <td>0.000000</td>\n",
       "    </tr>\n",
       "    <tr>\n",
       "      <th>price</th>\n",
       "      <td>price</td>\n",
       "      <td>1.856984</td>\n",
       "    </tr>\n",
       "    <tr>\n",
       "      <th>url</th>\n",
       "      <td>url</td>\n",
       "      <td>0.000000</td>\n",
       "    </tr>\n",
       "  </tbody>\n",
       "</table>\n",
       "</div>"
      ],
      "text/plain": [
       "           column_name  percent_missing\n",
       "houseTypes  houseTypes         0.000000\n",
       "area              area         5.418514\n",
       "num_floors  num_floors        19.955654\n",
       "bedrooms      bedrooms        21.258315\n",
       "address        address         0.000000\n",
       "price            price         1.856984\n",
       "url                url         0.000000"
      ]
     },
     "execution_count": 173,
     "metadata": {},
     "output_type": "execute_result"
    }
   ],
   "source": [
    "missing_value_df"
   ]
  },
  {
   "cell_type": "code",
   "execution_count": 170,
   "metadata": {},
   "outputs": [],
   "source": [
    "df.to_csv('housedata_2.csv',  encoding=\"utf-8\")"
   ]
  },
  {
   "cell_type": "code",
   "execution_count": 171,
   "metadata": {},
   "outputs": [],
   "source": [
    "df.to_excel('house_data_2.xlsx', sheet_name='House_data')"
   ]
  },
  {
   "cell_type": "code",
   "execution_count": 181,
   "metadata": {},
   "outputs": [],
   "source": [
    "df_1 = pd.read_excel('house_data.xlsx', index_col=[0])"
   ]
  },
  {
   "cell_type": "code",
   "execution_count": 183,
   "metadata": {},
   "outputs": [
    {
     "data": {
      "text/html": [
       "<div>\n",
       "<style scoped>\n",
       "    .dataframe tbody tr th:only-of-type {\n",
       "        vertical-align: middle;\n",
       "    }\n",
       "\n",
       "    .dataframe tbody tr th {\n",
       "        vertical-align: top;\n",
       "    }\n",
       "\n",
       "    .dataframe thead th {\n",
       "        text-align: right;\n",
       "    }\n",
       "</style>\n",
       "<table border=\"1\" class=\"dataframe\">\n",
       "  <thead>\n",
       "    <tr style=\"text-align: right;\">\n",
       "      <th></th>\n",
       "      <th>houseTypes</th>\n",
       "      <th>area</th>\n",
       "      <th>num_floors</th>\n",
       "      <th>bedrooms</th>\n",
       "      <th>address</th>\n",
       "      <th>price</th>\n",
       "      <th>url</th>\n",
       "    </tr>\n",
       "  </thead>\n",
       "  <tbody>\n",
       "    <tr>\n",
       "      <th>0</th>\n",
       "      <td>Bán Nhà riêng</td>\n",
       "      <td>130</td>\n",
       "      <td>3</td>\n",
       "      <td>7</td>\n",
       "      <td>Quận 12, TP Hồ Chí Minh</td>\n",
       "      <td>9.2</td>\n",
       "      <td>https://batdongsan.vn/ban-biet-thu-san-vuon-qu...</td>\n",
       "    </tr>\n",
       "    <tr>\n",
       "      <th>1</th>\n",
       "      <td>Bán Nhà riêng</td>\n",
       "      <td>189</td>\n",
       "      <td>NaN</td>\n",
       "      <td>NaN</td>\n",
       "      <td>Quận 6, TP Hồ Chí Minh</td>\n",
       "      <td>24</td>\n",
       "      <td>https://batdongsan.vn/gap-ban-giam-3-ty-mat-ti...</td>\n",
       "    </tr>\n",
       "    <tr>\n",
       "      <th>2</th>\n",
       "      <td>Bán Nhà riêng</td>\n",
       "      <td>42</td>\n",
       "      <td>NaN</td>\n",
       "      <td>3</td>\n",
       "      <td>Gò Vấp, TP Hồ Chí Minh</td>\n",
       "      <td>4.6</td>\n",
       "      <td>https://batdongsan.vn/nha-chua-qua-dau-tu-tien...</td>\n",
       "    </tr>\n",
       "    <tr>\n",
       "      <th>3</th>\n",
       "      <td>Bán Nhà riêng</td>\n",
       "      <td>30</td>\n",
       "      <td>5</td>\n",
       "      <td>1</td>\n",
       "      <td>Nam Từ Liêm, Hà Nội</td>\n",
       "      <td>6.8</td>\n",
       "      <td>https://batdongsan.vn/ban-nha-phu-my-le-duc-th...</td>\n",
       "    </tr>\n",
       "    <tr>\n",
       "      <th>4</th>\n",
       "      <td>Bán Nhà riêng</td>\n",
       "      <td>52</td>\n",
       "      <td>5</td>\n",
       "      <td>2</td>\n",
       "      <td>Nam Từ Liêm, Hà Nội</td>\n",
       "      <td>8.5</td>\n",
       "      <td>https://batdongsan.vn/ban-nha-phu-my-le-duc-th...</td>\n",
       "    </tr>\n",
       "    <tr>\n",
       "      <th>...</th>\n",
       "      <td>...</td>\n",
       "      <td>...</td>\n",
       "      <td>...</td>\n",
       "      <td>...</td>\n",
       "      <td>...</td>\n",
       "      <td>...</td>\n",
       "      <td>...</td>\n",
       "    </tr>\n",
       "    <tr>\n",
       "      <th>7211</th>\n",
       "      <td>Bán Nhà riêng</td>\n",
       "      <td>78</td>\n",
       "      <td>1</td>\n",
       "      <td>2</td>\n",
       "      <td>Biên Hòa, Đồng Nai</td>\n",
       "      <td>2.85</td>\n",
       "      <td>https://batdongsan.vn/ban-nha-1t1l-tho-cu-duon...</td>\n",
       "    </tr>\n",
       "    <tr>\n",
       "      <th>7212</th>\n",
       "      <td>Bán Nhà riêng</td>\n",
       "      <td>39</td>\n",
       "      <td>3</td>\n",
       "      <td>4</td>\n",
       "      <td>Bình Tân, TP Hồ Chí Minh</td>\n",
       "      <td>3.8</td>\n",
       "      <td>https://batdongsan.vn/ban-nha-hxh-thong-duong-...</td>\n",
       "    </tr>\n",
       "    <tr>\n",
       "      <th>7213</th>\n",
       "      <td>Bán Nhà riêng</td>\n",
       "      <td>4</td>\n",
       "      <td>4</td>\n",
       "      <td>5</td>\n",
       "      <td>Bình Thạnh, TP Hồ Chí Minh</td>\n",
       "      <td>6.9</td>\n",
       "      <td>https://batdongsan.vn/nha-4-tang-dt4x155-truoc...</td>\n",
       "    </tr>\n",
       "    <tr>\n",
       "      <th>7214</th>\n",
       "      <td>Bán Nhà riêng</td>\n",
       "      <td>88</td>\n",
       "      <td>NaN</td>\n",
       "      <td>2</td>\n",
       "      <td>Biên Hòa, Đồng Nai</td>\n",
       "      <td>2.55</td>\n",
       "      <td>https://batdongsan.vn/ban-nha-88m2-shr-tho-cu-...</td>\n",
       "    </tr>\n",
       "    <tr>\n",
       "      <th>7215</th>\n",
       "      <td>Bán Nhà riêng</td>\n",
       "      <td>80</td>\n",
       "      <td>7</td>\n",
       "      <td>6</td>\n",
       "      <td>Cầu Giấy, Hà Nội</td>\n",
       "      <td>21.5</td>\n",
       "      <td>https://batdongsan.vn/ban-nha-phan-lo-nguyen-k...</td>\n",
       "    </tr>\n",
       "  </tbody>\n",
       "</table>\n",
       "<p>7216 rows × 7 columns</p>\n",
       "</div>"
      ],
      "text/plain": [
       "         houseTypes area num_floors bedrooms                     address   \n",
       "0     Bán Nhà riêng  130          3        7     Quận 12, TP Hồ Chí Minh  \\\n",
       "1     Bán Nhà riêng  189        NaN      NaN      Quận 6, TP Hồ Chí Minh   \n",
       "2     Bán Nhà riêng   42        NaN        3      Gò Vấp, TP Hồ Chí Minh   \n",
       "3     Bán Nhà riêng   30          5        1         Nam Từ Liêm, Hà Nội   \n",
       "4     Bán Nhà riêng   52          5        2         Nam Từ Liêm, Hà Nội   \n",
       "...             ...  ...        ...      ...                         ...   \n",
       "7211  Bán Nhà riêng   78          1        2          Biên Hòa, Đồng Nai   \n",
       "7212  Bán Nhà riêng   39          3        4    Bình Tân, TP Hồ Chí Minh   \n",
       "7213  Bán Nhà riêng    4          4        5  Bình Thạnh, TP Hồ Chí Minh   \n",
       "7214  Bán Nhà riêng   88        NaN        2          Biên Hòa, Đồng Nai   \n",
       "7215  Bán Nhà riêng   80          7        6            Cầu Giấy, Hà Nội   \n",
       "\n",
       "     price                                                url  \n",
       "0      9.2  https://batdongsan.vn/ban-biet-thu-san-vuon-qu...  \n",
       "1       24  https://batdongsan.vn/gap-ban-giam-3-ty-mat-ti...  \n",
       "2      4.6  https://batdongsan.vn/nha-chua-qua-dau-tu-tien...  \n",
       "3      6.8  https://batdongsan.vn/ban-nha-phu-my-le-duc-th...  \n",
       "4      8.5  https://batdongsan.vn/ban-nha-phu-my-le-duc-th...  \n",
       "...    ...                                                ...  \n",
       "7211  2.85  https://batdongsan.vn/ban-nha-1t1l-tho-cu-duon...  \n",
       "7212   3.8  https://batdongsan.vn/ban-nha-hxh-thong-duong-...  \n",
       "7213   6.9  https://batdongsan.vn/nha-4-tang-dt4x155-truoc...  \n",
       "7214  2.55  https://batdongsan.vn/ban-nha-88m2-shr-tho-cu-...  \n",
       "7215  21.5  https://batdongsan.vn/ban-nha-phan-lo-nguyen-k...  \n",
       "\n",
       "[7216 rows x 7 columns]"
      ]
     },
     "execution_count": 183,
     "metadata": {},
     "output_type": "execute_result"
    }
   ],
   "source": [
    "df"
   ]
  },
  {
   "cell_type": "code",
   "execution_count": 182,
   "metadata": {},
   "outputs": [
    {
     "data": {
      "text/html": [
       "<div>\n",
       "<style scoped>\n",
       "    .dataframe tbody tr th:only-of-type {\n",
       "        vertical-align: middle;\n",
       "    }\n",
       "\n",
       "    .dataframe tbody tr th {\n",
       "        vertical-align: top;\n",
       "    }\n",
       "\n",
       "    .dataframe thead th {\n",
       "        text-align: right;\n",
       "    }\n",
       "</style>\n",
       "<table border=\"1\" class=\"dataframe\">\n",
       "  <thead>\n",
       "    <tr style=\"text-align: right;\">\n",
       "      <th></th>\n",
       "      <th>houseTypes</th>\n",
       "      <th>area</th>\n",
       "      <th>num_floors</th>\n",
       "      <th>bedrooms</th>\n",
       "      <th>address</th>\n",
       "      <th>price</th>\n",
       "      <th>url</th>\n",
       "    </tr>\n",
       "  </thead>\n",
       "  <tbody>\n",
       "    <tr>\n",
       "      <th>0</th>\n",
       "      <td>Bán Nhà riêng</td>\n",
       "      <td>130.0</td>\n",
       "      <td>3.0</td>\n",
       "      <td>7.0</td>\n",
       "      <td>Quận 12, TP Hồ Chí Minh</td>\n",
       "      <td>9.2</td>\n",
       "      <td>https://batdongsan.vn/ban-biet-thu-san-vuon-qu...</td>\n",
       "    </tr>\n",
       "    <tr>\n",
       "      <th>1</th>\n",
       "      <td>Bán Nhà riêng</td>\n",
       "      <td>189.0</td>\n",
       "      <td>NaN</td>\n",
       "      <td>NaN</td>\n",
       "      <td>Quận 6, TP Hồ Chí Minh</td>\n",
       "      <td>24</td>\n",
       "      <td>https://batdongsan.vn/gap-ban-giam-3-ty-mat-ti...</td>\n",
       "    </tr>\n",
       "    <tr>\n",
       "      <th>2</th>\n",
       "      <td>Bán Nhà riêng</td>\n",
       "      <td>42.0</td>\n",
       "      <td>NaN</td>\n",
       "      <td>3.0</td>\n",
       "      <td>Gò Vấp, TP Hồ Chí Minh</td>\n",
       "      <td>4.6</td>\n",
       "      <td>https://batdongsan.vn/nha-chua-qua-dau-tu-tien...</td>\n",
       "    </tr>\n",
       "    <tr>\n",
       "      <th>3</th>\n",
       "      <td>Bán Nhà riêng</td>\n",
       "      <td>30.0</td>\n",
       "      <td>5.0</td>\n",
       "      <td>1.0</td>\n",
       "      <td>Nam Từ Liêm, Hà Nội</td>\n",
       "      <td>6.8</td>\n",
       "      <td>https://batdongsan.vn/ban-nha-phu-my-le-duc-th...</td>\n",
       "    </tr>\n",
       "    <tr>\n",
       "      <th>4</th>\n",
       "      <td>Bán Nhà riêng</td>\n",
       "      <td>52.0</td>\n",
       "      <td>5.0</td>\n",
       "      <td>2.0</td>\n",
       "      <td>Nam Từ Liêm, Hà Nội</td>\n",
       "      <td>8.5</td>\n",
       "      <td>https://batdongsan.vn/ban-nha-phu-my-le-duc-th...</td>\n",
       "    </tr>\n",
       "    <tr>\n",
       "      <th>...</th>\n",
       "      <td>...</td>\n",
       "      <td>...</td>\n",
       "      <td>...</td>\n",
       "      <td>...</td>\n",
       "      <td>...</td>\n",
       "      <td>...</td>\n",
       "      <td>...</td>\n",
       "    </tr>\n",
       "    <tr>\n",
       "      <th>2421</th>\n",
       "      <td>Bán Nhà riêng</td>\n",
       "      <td>62.0</td>\n",
       "      <td>2.0</td>\n",
       "      <td>5.0</td>\n",
       "      <td>Phú Nhuận, TP Hồ Chí Minh</td>\n",
       "      <td>132</td>\n",
       "      <td>https://batdongsan.vn/nha-1-tret-2-lau-st-oto-...</td>\n",
       "    </tr>\n",
       "    <tr>\n",
       "      <th>2422</th>\n",
       "      <td>Bán Nhà riêng</td>\n",
       "      <td>38.0</td>\n",
       "      <td>6.0</td>\n",
       "      <td>3.0</td>\n",
       "      <td>Long Biên, Hà Nội</td>\n",
       "      <td>4.95</td>\n",
       "      <td>https://batdongsan.vn/ban-nha-bat-khoilong-bie...</td>\n",
       "    </tr>\n",
       "    <tr>\n",
       "      <th>2423</th>\n",
       "      <td>Bán Nhà riêng</td>\n",
       "      <td>139.0</td>\n",
       "      <td>NaN</td>\n",
       "      <td>4.0</td>\n",
       "      <td>Biên Hòa, Đồng Nai</td>\n",
       "      <td>6.5</td>\n",
       "      <td>https://batdongsan.vn/ban-biet-thu-mini-139m2-...</td>\n",
       "    </tr>\n",
       "    <tr>\n",
       "      <th>2424</th>\n",
       "      <td>Bán Nhà mặt phố</td>\n",
       "      <td>44.0</td>\n",
       "      <td>5.0</td>\n",
       "      <td>4.0</td>\n",
       "      <td>Tân Bình, TP Hồ Chí Minh</td>\n",
       "      <td>13</td>\n",
       "      <td>https://batdongsan.vn/mat-tien-gan-cu-xa-bac-h...</td>\n",
       "    </tr>\n",
       "    <tr>\n",
       "      <th>2425</th>\n",
       "      <td>Bán Nhà riêng</td>\n",
       "      <td>68.0</td>\n",
       "      <td>1.0</td>\n",
       "      <td>2.0</td>\n",
       "      <td>Biên Hòa, Đồng Nai</td>\n",
       "      <td>3.1</td>\n",
       "      <td>https://batdongsan.vn/ban-nha-1t1l-68m2-tho-cu...</td>\n",
       "    </tr>\n",
       "  </tbody>\n",
       "</table>\n",
       "<p>2426 rows × 7 columns</p>\n",
       "</div>"
      ],
      "text/plain": [
       "           houseTypes   area  num_floors  bedrooms                    address   \n",
       "0       Bán Nhà riêng  130.0         3.0       7.0    Quận 12, TP Hồ Chí Minh  \\\n",
       "1       Bán Nhà riêng  189.0         NaN       NaN     Quận 6, TP Hồ Chí Minh   \n",
       "2       Bán Nhà riêng   42.0         NaN       3.0     Gò Vấp, TP Hồ Chí Minh   \n",
       "3       Bán Nhà riêng   30.0         5.0       1.0        Nam Từ Liêm, Hà Nội   \n",
       "4       Bán Nhà riêng   52.0         5.0       2.0        Nam Từ Liêm, Hà Nội   \n",
       "...               ...    ...         ...       ...                        ...   \n",
       "2421    Bán Nhà riêng   62.0         2.0       5.0  Phú Nhuận, TP Hồ Chí Minh   \n",
       "2422    Bán Nhà riêng   38.0         6.0       3.0          Long Biên, Hà Nội   \n",
       "2423    Bán Nhà riêng  139.0         NaN       4.0         Biên Hòa, Đồng Nai   \n",
       "2424  Bán Nhà mặt phố   44.0         5.0       4.0   Tân Bình, TP Hồ Chí Minh   \n",
       "2425    Bán Nhà riêng   68.0         1.0       2.0         Biên Hòa, Đồng Nai   \n",
       "\n",
       "     price                                                url  \n",
       "0      9.2  https://batdongsan.vn/ban-biet-thu-san-vuon-qu...  \n",
       "1       24  https://batdongsan.vn/gap-ban-giam-3-ty-mat-ti...  \n",
       "2      4.6  https://batdongsan.vn/nha-chua-qua-dau-tu-tien...  \n",
       "3      6.8  https://batdongsan.vn/ban-nha-phu-my-le-duc-th...  \n",
       "4      8.5  https://batdongsan.vn/ban-nha-phu-my-le-duc-th...  \n",
       "...    ...                                                ...  \n",
       "2421   132  https://batdongsan.vn/nha-1-tret-2-lau-st-oto-...  \n",
       "2422  4.95  https://batdongsan.vn/ban-nha-bat-khoilong-bie...  \n",
       "2423   6.5  https://batdongsan.vn/ban-biet-thu-mini-139m2-...  \n",
       "2424    13  https://batdongsan.vn/mat-tien-gan-cu-xa-bac-h...  \n",
       "2425   3.1  https://batdongsan.vn/ban-nha-1t1l-68m2-tho-cu...  \n",
       "\n",
       "[2426 rows x 7 columns]"
      ]
     },
     "execution_count": 182,
     "metadata": {},
     "output_type": "execute_result"
    }
   ],
   "source": [
    "df_1"
   ]
  },
  {
   "cell_type": "code",
   "execution_count": 184,
   "metadata": {},
   "outputs": [],
   "source": [
    "frames = [df_1, df]\n",
    "final_df = pd.concat(frames)"
   ]
  },
  {
   "cell_type": "code",
   "execution_count": 186,
   "metadata": {},
   "outputs": [],
   "source": [
    "final_df.to_excel('final_df_excel.xlsx', index=False)"
   ]
  },
  {
   "cell_type": "code",
   "execution_count": 187,
   "metadata": {},
   "outputs": [],
   "source": [
    "final_df.to_csv('data/houses/houses_current.csv', index=False)"
   ]
  }
 ],
 "metadata": {
  "kernelspec": {
   "display_name": "ds-env",
   "language": "python",
   "name": "python3"
  },
  "language_info": {
   "codemirror_mode": {
    "name": "ipython",
    "version": 3
   },
   "file_extension": ".py",
   "mimetype": "text/x-python",
   "name": "python",
   "nbconvert_exporter": "python",
   "pygments_lexer": "ipython3",
   "version": "3.10.11"
  },
  "orig_nbformat": 4
 },
 "nbformat": 4,
 "nbformat_minor": 2
}
