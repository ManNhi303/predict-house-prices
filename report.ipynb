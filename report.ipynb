{
 "cells": [
  {
   "attachments": {},
   "cell_type": "markdown",
   "metadata": {},
   "source": [
    "# INTRODUCTION TO DATA SCIENCE\n",
    "## Final Projects - House Price Prediction - 21KDL"
   ]
  },
  {
   "attachments": {},
   "cell_type": "markdown",
   "metadata": {},
   "source": [
    "## I. Quá trình thực hiện"
   ]
  },
  {
   "attachments": {},
   "cell_type": "markdown",
   "metadata": {},
   "source": [
    "### 1. Tìm hiểu khái quát về đề tài\n",
    "* Mục tiêu: Xây dựng mô hình dự đoán giá nhà\n",
    "* Tiến trình cơ bản: collect data -> preprocess data -> explore data -> build models -> assess results\n",
    "* Phạm vi dữ liệu: dữ liệu về giá nhà và các thông tin liên quan về các ngôi nhà được đăng bán trên trang web https://batdongsan.vn/ban-nha\n"
   ]
  },
  {
   "attachments": {},
   "cell_type": "markdown",
   "metadata": {},
   "source": [
    "### 2. Thu thập dữ liệu\n",
    "* Web scraping sử dụng BeautifulSoup để lấy thông tin về giá nhà, loại nhà, địa chỉ, diện tích, số tầng, số phòng ngủ và đường dẫn đến mỗi căn nhà (dùng cho việc kiểm tra)\n",
    "* Lấy toàn bộ dữ liệu từ web tại thời điểm nhất định (hơn 9000 căn nhà)\n",
    "* Thu thập đường dẫn đến các trang (bao gồm 483 trang, mỗi trang 20 căn nhà)\n",
    "* Ở mỗi trang, thu thập đường dẫn đến mỗi căn nhà\n",
    "* Thử nghiệm lấy dữ liệu của một căn nhà cụ thể, một số thông tin sẽ được lấy trực tiếp dựa trên cấu trúc của file html, một số thông tin sẽ được lấy từ phần mô tả do người bán nhập vào sử dụng kĩ thuật regrex (kiểm tra tất cả các trường hợp cần xử lí trong phần regrex).\n",
    "* Thực hiện thu thập dữ liệu và lưu trữ"
   ]
  },
  {
   "attachments": {},
   "cell_type": "markdown",
   "metadata": {},
   "source": [
    "### 3. Xử lí dữ liệu\n",
    "* Loại bỏ dữ liệu trùng lặp: có 1066 dòng dữ liệu trùng lặp bị loại bỏ trên tổng số 9674 dòng (do người bán có thể đăng tải một thông tin nhiều lần)\n",
    "* Về giá: kiểm tra tính chính xác của dữ liệu và loại bỏ một số dòng có giá không hợp lí (chỉ lấy giá trong khoảng 100 triệu - 500 tỷ)\n",
    "* Về diện tích: kiểm tra tính chính xác của dữ liệu và loại bỏ một số dòng có giá không hợp lí (chỉ lấy những căn nhà có diện tích trong khoảng 10m2 - 20000m2)\n",
    "* Về số tầng và số phòng ngủ: áp dụng thuật toán KNN để điền vào các giá trị thiếu. (giải thích về lí do, thuật toán/công thức, độ chính xác/độ lỗi)\n",
    "* Về loại nhà và địa chỉ: sử dụng one-hot encoding cho loại nhà và target encoding cho địa chỉ để chuyển đổi sang kiểu dữ liệu số\n",
    "* Chia 90% dữ liệu cho tập train và 10% cho tập test. Tập train được sử dụng để huấn luyện mô hình, tức là mô hình sẽ học từ các mẫu dữ liệu trong tập này còn tập test được sử dụng để đánh giá hiệu suất của mô hình đã được huấn luyện. Mô hình sẽ được áp dụng vào tập test để đưa ra dự đoán và sau đó so sánh kết quả dự đoán với giá trị thực tế trong tập test."
   ]
  },
  {
   "attachments": {},
   "cell_type": "markdown",
   "metadata": {},
   "source": [
    "#### GIẢI THÍCH VỀ MÔ HÌNH KNN:\n",
    "* Để giải quyết vấn đề Missing Data, một cách hiệu quả là sử dụng một mô hình để dự đoán giá trị cho Missing Data đó, dựa vào những giá trị tồn tại trong tập dữ liệu. KNN là thuật toán học máy có giám sát, đơn giản và dễ triển khai, áp dụng được cho cả bài toán phân loại và hồi quy. Sau khi tìm hiểu các phương pháp khác nhau để xử lí missing values, nhóm đã áp dụng mô hình KNN như một bài toán regression cho những điểm dữ liệu thiếu.\n",
    "* Trước khi áp dụng mô hình, nhóm đã có quá trình kiểm thử liệu mô hình KNN có phù hợp cho bài toán hiện tại không bằng cách thử nghiệm trên bộ dữ liệu đầy đủ mà nhóm đã thu thập và trích lọc ra, sau đó xử lí để có được bộ dữ liệu với một số điểm dữ liệu thiếu ở hai features 'num_floors' và 'bedrooms', áp dụng mô hình KNN để điền vào các điểm dữ liệu thiếu này và so sánh với dữ liệu ban đầu. Kết quả được nhóm đánh giá là mô hình KNN xử lí missing values cho trường hợp này khá hiệu quả.\n",
    "* Thuật toán KNN cho rằng những dữ liệu tương tự nhau sẽ tồn tại gần nhau trong một không gian, từ đó công việc của chúng ta là sẽ tìm k điểm gần với dữ liệu cần kiểm tra nhất. Việc tìm khoảng cách giữa 2 điểm cũng có nhiều công thức có thể sử dụng, tùy trường hợp mà chúng ta lựa chọn cho phù hợp.\n",
    "* Sử dụng lớp KNNImputer từ thư viện Scikit-learn\n",
    "* Một Instance của KNNImputer có 3 tham số truyền vào cần quan tâm: số lượng mẫu dữ liệu lân cận (n_neighbors); loại khoảng cách (metric): mặc định là ‘nan_euclidean’, tức là Euclidean nhưng bỏ qua các Missing Data; trọng số (weight): sử dụng trọng số giữa các mẫu dữ liệu lân cận khi tính khoảng cách, giá trị mặc định là ‘uniform’, ngoài ra có thể sử dụng giá trị ‘distance’, tức là mẫu dữ liệu nào càng gần mẫu dữ liệu cần dự đoán thì trọng số càng cao.\n",
    "* metric: lựa chọn loại khoảng cách mặc định đó là khoảng cách Euclid (l2 norm): <br>\n",
    "$ d(\\mathbf{a}, \\mathbf{b}) = \\|\\mathbf{a} - \\mathbf{b}\\|_2 = \\sqrt{\\sum_{i=1}^{n} (a_i - b_i)^2}$ <br>\n",
    "* weight: lựa chọn trọng số mặc định là ‘uniform’\n",
    "* n_neighbors: tối ưu k bằng cách tối ưu sai số (RMSE) cho mô hình hồi qui thử nghiệm trên các bộ dữ liệu được fill missing với các giá trị k khác nhau"
   ]
  },
  {
   "attachments": {},
   "cell_type": "markdown",
   "metadata": {},
   "source": [
    "### 4. Khám phá dữ liệu\n",
    "* Đánh giá độ tương quan: sử dụng ma trận tương quan và biểu đồ heatmap để tính độ tương quan giữa các features với nhau và giữa features với target\n",
    "* Vẽ biểu đồ thể hiện phân phối của các features\n"
   ]
  },
  {
   "attachments": {},
   "cell_type": "markdown",
   "metadata": {},
   "source": [
    "### 5. Xây dựng các mô hình"
   ]
  },
  {
   "attachments": {},
   "cell_type": "markdown",
   "metadata": {},
   "source": [
    "Mô tả dữ liệu:\n",
    "- price: là biến target, giá nhà.\n",
    "- city_encoder: là feature kiểu catalog của thành phố được mã hoá dựa trên target price\n"
   ]
  },
  {
   "attachments": {},
   "cell_type": "markdown",
   "metadata": {},
   "source": [
    "#### i. Linear Regression\n",
    "-  Trên toàn bộ dữ liệu : Linear Regression dựa vào các feature 'city','area','num_floors','bedrooms','houseTypes'\n",
    "- Đối với các dữ liệu có tỉnh ở TP.HCM thì Linear Regression dựa vào các feature 'district','area','num_floors','bedrooms','houseTypes'\n",
    "- Với x = [x₁, x₂,.. xn]ᵀ là một vector cột chứa thông tin đầu vào, ta có thể mô hình quan hệ giữa đầu ra và đầu vào bằng một hàm tuyến tính đơn giản:\n",
    "$$\n",
    "y ≈ ŷ = f(x) = w₁x₁ + w₂x₂ + ... + wₙxₙ = Xᵀw\n",
    "$$ \n",
    " - trong đó:\n",
    "    - w = [w₁, w₂, ..wn]ᵀ là vector hệ số (hoặc trọng số – weight vector) cần tìm\n",
    "    - y là một số vô hướng đầu ra.\n",
    "\n",
    "- Hàm Loss của Linear Regression có dạng :\n",
    "$$\n",
    "L(w) = \\frac{1}{N} \\| X^Tw - y \\|_2^2\n",
    "$$\n",
    "- Đánh giá hiệu suất của mô hình dựa vào MSE, Bias, Variance\n",
    "- MSE (Mean Squared Error): Đây là một phép đo đánh giá hiệu suất của mô hình dự đoán. MSE tính toán tổng trung bình của bình phương sai giữa giá trị dự đoán và giá trị thực tế. Trong trường hợp Linear Regression, MSE thể hiện mức độ chính xác của mô hình trong việc dự đoán giá trị giá nhà. Giá trị MSE càng thấp thì mô hình dự đoán càng chính xác.\n",
    "\n",
    "$$\n",
    "MSE = \\frac{1}{n}\\sum_{i=1}^{n}(y_i - \\hat{y}_i)^2\n",
    "$$\n",
    "\n",
    "- Bias: Bias đo lường mức độ sai lệch trung bình giữa giá trị dự đoán của mô hình và giá trị thực tế. Trong trường hợp Linear Regression, bias cao có thể gây ra sự sai lệch lớn giữa giá trị dự đoán và giá trị thực tế.\n",
    "\n",
    "- Variance: Variance đo lường mức độ biến động của các dự đoán từ mô hình. Một variance cao có xu hướng quá tương thích với dữ liệu huấn luyện và không thể tổng quát hóa tốt cho dữ liệu mới.\n",
    "\n",
    "\n",
    "$$\n",
    "Var(X) = \\frac{1}{n} \\sum_{i=1}^{n} (x_i - \\bar{x})^2\n",
    "$$\n",
    "\n",
    "\n",
    "Trong bài toán Linear Regression, mục tiêu là tìm một mô hình có MSE thấp, bias thấp và variance ổn định. Điều này đồng nghĩa với việc tìm một mô hình có khả năng dự đoán chính xác giá trị giá nhà mà không bị sai lệch quá lớn và không bị quá phụ thuộc vào dữ liệu huấn luyện."
   ]
  },
  {
   "attachments": {},
   "cell_type": "markdown",
   "metadata": {},
   "source": [
    "#### ii. Ridge Regression\n",
    "-  Trên toàn bộ dữ liệu : Ridge Regression dựa vào các feature 'city','area','num_floors','bedrooms','houseTypes'\n",
    "- Đối với các dữ liệu có tỉnh ở TP.HCM thì Ridge Regression dựa vào các feature 'district','area','num_floors','bedrooms','houseTypes'\n",
    "- Hàm mất mát trong hồi qui Ridge sẽ có sự thay đổi so với hồi qui tuyến tính đó là thành phần điều chuẩn (regularization term) được cộng thêm vào hàm mất mát như sau:\n",
    "$$\n",
    "L(w) = \\frac{1}{N} \\| X^Tw - y \\|_2^2 + α⋅\\|w\\|_2^2\n",
    "$$\n",
    "Với  α⋅||w||₂² là *thành phần điều chuẩn*\n",
    "- MSE (Mean Squared Error): MSE đo lường độ lớn của sai số bình phương trung bình giữa giá trị dự đoán và giá trị thực tế trên tập dữ liệu. Cả Linear Regression và Ridge Regression đều sử dụng MSE để đánh giá hiệu suất của mô hình. Tuy nhiên, Ridge Regression cũng bao gồm thành phần điều chuẩn (regularization term) vào MSE để kiểm soát overfitting.\n",
    "\n",
    "- Bias: Bias đo lường sự chệch trung bình của mô hình dự đoán so với giá trị thực tế trên tập dữ liệu. Linear Regression và Ridge Regression đều có bias. Tuy nhiên, Ridge Regression có thể giảm bias so với Linear Regression bằng cách áp dụng thành phần điều chuẩn.\n",
    "\n",
    "- Variance: Variance đo lường sự biến đổi trung bình của mô hình dự đoán trên các tập dữ liệu khác nhau. Ridge Regression có thể giảm variance so với Linear Regression bằng cách áp dụng thành phần điều chuẩn. Điều này giúp mô hình Ridge Regression ít phụ thuộc hơn vào dữ liệu huấn luyện và có khả năng tổng quát hóa tốt hơn cho dữ liệu mới.\n",
    "\n",
    "Tóm lại, MSE, bias và variance trong Ridge Regression và Linear Regression có một số sự khác biệt do sự áp dụng thành phần điều chuẩn trong Ridge Regression để cải thiện hiệu suất và khả năng tổng quát hóa của mô hình."
   ]
  },
  {
   "attachments": {},
   "cell_type": "markdown",
   "metadata": {},
   "source": [
    "#### iii. Lasso Regression\n",
    "-  Trên toàn bộ dữ liệu : Lasso Regression dựa vào các feature 'city','area','num_floors','bedrooms','houseTypes'\n",
    "- Đối với các dữ liệu có tỉnh ở TP.HCM thì Lasso Regression dựa vào các feature 'district','area','num_floors','bedrooms','houseTypes'\n",
    "- Trong hồi qui Lasso, thay vì sử dụng thành phần điều chuẩn là norm chuẩn bậc hai thì chúng ta sử dụng norm chuẩn bậc 1 :\n",
    "$$\n",
    "L(w) = \\frac{1}{N} \\| X^Tw - y \\|_2^2 + α⋅\\|w\\|_1\n",
    "$$\n",
    "- MSE (Mean Squared Error): Cả Lasso Regression và Ridge Regression đều cố gắng tối thiểu hóa MSE để có được dự đoán chính xác. MSE vẫn là một phép đo phổ biến và được sử dụng để so sánh hiệu suất giữa các mô hình.\n",
    "\n",
    "- Bias: Cả Lasso Regression và Ridge Regression đều có khả năng giảm bias so với Linear Regression. Tuy nhiên, cách mà chúng giảm bias khác nhau. Lasso Regression có khả năng giảm bias bằng cách lựa chọn biến quan trọng và loại bỏ biến không quan trọng hoàn toàn. Trong khi đó, Ridge Regression giảm bias bằng cách giới hạn độ lớn của các hệ số hồi quy, làm giảm tác động của các biến không quan trọng.\n",
    "\n",
    "- Variance: Ridge Regression giúp giảm variance hơn so với Lasso Regression. Lý do là Ridge Regression sử dụng phương pháp điều chuẩn L2 regularization, làm giảm tác động của các biến không quan trọng một cách liên tục, nhưng không đưa chúng về 0 hoàn toàn. Điều này giúp mô hình có sự ổn định hơn và tránh overfitting."
   ]
  },
  {
   "attachments": {},
   "cell_type": "markdown",
   "metadata": {},
   "source": [
    "#### iv.Neutral - Network"
   ]
  },
  {
   "attachments": {},
   "cell_type": "markdown",
   "metadata": {},
   "source": [
    "- Layer đầu tiên là input layer, các layer ở giữa được gọi là hidden layer, layer cuối cùng được gọi là output layer. \n",
    "\n",
    "- Mỗi mô hình luôn có 1 input layer, 1 output layer, có thể có hoặc không các hidden layer. Tổng số layer trong mô hình được quy ước là số layer – 1 (Không tính input layer).\n",
    "\n",
    "- Mỗi node trong hidden layer và output layer : \n",
    "    + Liên kết với tất cả các node ở layer trước đó với các hệ số w riêng. \n",
    "    + Mỗi node có 1 hệ số bias b riêng. \n",
    "    + Diễn ra 2 bước: tính tổng linear và áp dụng activation function."
   ]
  },
  {
   "attachments": {},
   "cell_type": "markdown",
   "metadata": {},
   "source": [
    "##### a. Simple DNN\n",
    "- Xây dựng mạng DNN với 5 hidden layers (Dense), 1 input layer và 1 output layer\n",
    "- Optimizer : Adam, Batch_size = 128, epochs = 10000\n"
   ]
  },
  {
   "attachments": {},
   "cell_type": "markdown",
   "metadata": {},
   "source": [
    "##### b. Encoder - Decoder\n",
    "- Encoder với 4 hidden layer\n",
    "- Decoder với 4 hidden layer"
   ]
  },
  {
   "attachments": {},
   "cell_type": "markdown",
   "metadata": {},
   "source": [
    "Kết quả:\n",
    "Các mô hình Machine Learning cho MAE và MAPE rất tốt. Các mô hình DL cho kết quả tốt hơn ở MSE"
   ]
  },
  {
   "attachments": {},
   "cell_type": "markdown",
   "metadata": {},
   "source": [
    "|   | SVM  |  R-FORREST |  DNN  | EN-DECODER   | LinearRegession   |\n",
    "|---|---|---|---|---|---|\n",
    "|  MAPE |  0.4752 | 0.4765  | 0.5797  |  0.5590 |  0.7641 |\n",
    "| MSE  | 29.4931  |  28.4715 | 29.0017  |  28.7978 |  33.9813 |\n",
    "| MAE  | 2.4311  |  2.5272 | 2.6705  | 2.6021  |  3.3615 |\n",
    "| VAR  |  0.3316 | 0.3437  |  0.3321 |  0.3367 |  0.2174 |\n"
   ]
  },
  {
   "attachments": {},
   "cell_type": "markdown",
   "metadata": {},
   "source": [
    "## II. Các vấn đề gặp phải\n",
    "* Một số thông tin về căn nhà được lấy từ phần mô tả do người bán nhập vào, do đó quá trình thu thập các thông tin này cần xử lí bao quát tất cả các trường hợp có thể xảy ra (vd: tỷ, tỉ, ty, ti, TY, T, tỏi, ...)\n",
    "* Một số thông tin người bán nhập sai (vd: 1000 tỷ), nhập nhiều giá trị khác nhau cho cùng một thông tin\n",
    "* Khó xác định được phương pháp phù hợp để xử lí dữ liệu thiếu và chuyển đổi dữ liệu phân loại\n",
    "\n"
   ]
  },
  {
   "attachments": {},
   "cell_type": "markdown",
   "metadata": {},
   "source": [
    "## III. Tổng kết\n",
    "Trong dự án này, nhóm đã tiến hành nghiên cứu và xây dựng mô hình dự đoán giá nhà sử dụng nhiều phương pháp khác nhau. Mục tiêu của nhóm là tạo ra một mô hình có khả năng dự đoán chính xác giá trị của các căn nhà dựa trên các thông tin đầu vào như diện tích, số tầng, số phòng, vị trí địa lý, loại nhà.\n",
    "\n",
    "Nhóm đã tiến hành thu thập dữ liệu từ các nguồn tin cậy và tiền xử lý dữ liệu để chuẩn bị cho quá trình huấn luyện và đánh giá mô hình. Qua đó, cũng đã loại bỏ các giá trị thiếu, mã hóa các biến đầu vào và chia dữ liệu thành tập huấn luyện và tập kiểm tra. Sau đó, nhóm đã áp dụng một loạt các mô hình học máy như Linear Regression, Lasso Regression và Ridge Regression,....... để huấn luyện và dự đoán giá nhà. Nhóm đã đánh giá hiệu suất của mỗi mô hình bằng các độ đo như Mean Squared Error (MSE), bias và variance. Kết quả cho thấy mô hình ..........  đạt được kết quả tốt nhất với sự cân bằng giữa độ chính xác và ổn định trong việc dự đoán giá trị các căn nhà.\n",
    "\n",
    "Tóm lại, Nghiên cứu này đã đưa ra những kết quả và nhận định quan trọng về khả năng dự đoán giá nhà nhờ sử dụng  phương pháp học máy. Các kết quả thu được có thể hỗ trợ trong việc định giá nhà. Đồng thời, bài báo cáo này cũng đặt nền tảng cho các nghiên cứu tiếp theo về việc cải thiện mô hình và góp phần vào sự phát triển và ứng dụng của lĩnh vực này trong thực tế.\n"
   ]
  },
  {
   "attachments": {},
   "cell_type": "markdown",
   "metadata": {},
   "source": [
    "## IV. Tài liệu tham khảo\n",
    "1. https://www.linkedin.com/advice/0/how-do-you-deal-categorical-features-high-cardinality\n",
    "2. https://machinelearninginterview.com/topics/machine-learning/target-encoding-for-categorical-features\n",
    "3. https://betterdatascience.com/impute-missing-data-with-python-and-knn\n",
    "4. https://www.freecodecamp.org/news/how-to-build-your-first-neural-network-to-predict-house-prices-with-keras-f8db83049159\n",
    "5. https://viblo.asia/p/danh-gia-model-trong-machine-learing-RnB5pAq7KPG\n",
    "6. https://tiensu.github.io/blog/80_data_prepeation_for_ml_data_cleaning_missing_data_3\n",
    "7. https://nttuan8.com/bai-3-neural-network/\n",
    "\n"
   ]
  }
 ],
 "metadata": {
  "language_info": {
   "name": "python"
  },
  "orig_nbformat": 4
 },
 "nbformat": 4,
 "nbformat_minor": 2
}
