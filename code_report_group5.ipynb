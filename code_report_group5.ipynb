{
 "cells": [
  {
   "attachments": {},
   "cell_type": "markdown",
   "metadata": {},
   "source": [
    "# INTRODUCTION TO DATA SCIENCE\n",
    "## Final Projects - House Price Prediction - 21KDL\n",
    "## Nhóm: 5"
   ]
  },
  {
   "attachments": {},
   "cell_type": "markdown",
   "metadata": {},
   "source": [
    "| MSSV     \t| Tên                  \t| Tỷ lệ đóng góp \t| Ghi chú     \t|\n",
    "|----------\t|----------------------\t|----------------\t|-------------\t|\n",
    "| 21280064 \t| Lê Chơn Minh Đạt     \t| 33.33%               | Nhóm trưởng \t|\n",
    "| 21280100 \t| Nguyễn Thị Bích Ngọc \t| 33.33%               |             \t|\n",
    "| 21280102 \t| Đoàn Thị Mẫn Nhi     \t| 33.33%               |             \t|"
   ]
  },
  {
   "attachments": {},
   "cell_type": "markdown",
   "metadata": {},
   "source": [
    "## I. Quá trình thực hiện"
   ]
  },
  {
   "attachments": {},
   "cell_type": "markdown",
   "metadata": {},
   "source": [
    "### 1. Tìm hiểu khái quát về đề tài\n",
    "* Mục tiêu: Xây dựng mô hình dự đoán giá nhà\n",
    "* Tiến trình cơ bản: collect data -> preprocess data -> explore data -> build models -> assess results\n",
    "* Phạm vi dữ liệu: dữ liệu về giá nhà và các thông tin liên quan về các ngôi nhà được đăng bán trên trang web https://batdongsan.vn/ban-nha\n"
   ]
  },
  {
   "attachments": {},
   "cell_type": "markdown",
   "metadata": {},
   "source": [
    "### 2. Thu thập dữ liệu\n",
    "* Web scraping sử dụng BeautifulSoup để lấy thông tin về giá nhà, loại nhà, địa chỉ, diện tích, số tầng, số phòng ngủ và đường dẫn đến mỗi căn nhà (dùng cho việc kiểm tra)\n",
    "* Lấy toàn bộ dữ liệu từ web tại thời điểm nhất định (hơn 9000 căn nhà)\n",
    "* Thu thập đường dẫn đến các trang (bao gồm 483 trang, mỗi trang 20 căn nhà)\n",
    "* Ở mỗi trang, thu thập đường dẫn đến mỗi căn nhà\n",
    "* Thử nghiệm lấy dữ liệu của một căn nhà cụ thể, một số thông tin sẽ được lấy trực tiếp dựa trên cấu trúc của file html, một số thông tin sẽ được lấy từ phần mô tả do người bán nhập vào sử dụng kĩ thuật regrex (kiểm tra tất cả các trường hợp cần xử lí trong phần regrex).\n",
    "* Thực hiện thu thập dữ liệu và lưu trữ"
   ]
  },
  {
   "attachments": {},
   "cell_type": "markdown",
   "metadata": {},
   "source": [
    "### 3. Xử lí dữ liệu\n",
    "* Loại bỏ dữ liệu trùng lặp: có 1066 dòng dữ liệu trùng lặp bị loại bỏ trên tổng số 9674 dòng (do người bán có thể đăng tải một thông tin nhiều lần)\n",
    "* Về giá: kiểm tra tính chính xác của dữ liệu và loại bỏ một số dòng có giá không hợp lí (chỉ lấy giá trong khoảng 100 triệu - 500 tỷ)\n",
    "* Về diện tích: kiểm tra tính chính xác của dữ liệu và loại bỏ một số dòng có giá không hợp lí (chỉ lấy những căn nhà có diện tích trong khoảng 10m2 - 20000m2)\n",
    "* Về số tầng và số phòng ngủ: áp dụng thuật toán KNN để điền vào các giá trị thiếu. \n",
    "* Về loại nhà và địa chỉ: sử dụng target encoding cho địa chỉ,loại nhà để chuyển đổi sang kiểu dữ liệu số\n",
    "* Chia 90% dữ liệu cho tập train và 10% cho tập test. Tập train được sử dụng để huấn luyện mô hình, tức là mô hình sẽ học từ các mẫu dữ liệu trong tập này còn tập test được sử dụng để đánh giá hiệu suất của mô hình đã được huấn luyện. Mô hình sẽ được áp dụng vào tập test để đưa ra dự đoán và sau đó so sánh kết quả dự đoán với giá trị thực tế trong tập test."
   ]
  },
  {
   "attachments": {},
   "cell_type": "markdown",
   "metadata": {},
   "source": [
    "#### GIẢI THÍCH VỀ MÔ HÌNH KNN:\n",
    "* Để giải quyết vấn đề Missing Data, một cách hiệu quả là sử dụng một mô hình để dự đoán giá trị cho Missing Data đó, dựa vào những giá trị tồn tại trong tập dữ liệu. KNN là thuật toán học máy có giám sát, đơn giản và dễ triển khai, áp dụng được cho cả bài toán phân loại và hồi quy. Sau khi tìm hiểu các phương pháp khác nhau để xử lí missing values, nhóm đã áp dụng mô hình KNN như một bài toán regression cho những điểm dữ liệu thiếu.\n",
    "* Trước khi áp dụng mô hình, nhóm đã có quá trình kiểm thử liệu mô hình KNN có phù hợp cho bài toán hiện tại không bằng cách thử nghiệm trên bộ dữ liệu đầy đủ mà nhóm đã thu thập và trích lọc ra, sau đó xử lí để có được bộ dữ liệu với một số điểm dữ liệu thiếu ở hai features 'num_floors' và 'bedrooms', áp dụng mô hình KNN để điền vào các điểm dữ liệu thiếu này và so sánh với dữ liệu ban đầu. Kết quả được nhóm đánh giá là mô hình KNN xử lí missing values cho trường hợp này khá hiệu quả.\n",
    "* Thuật toán KNN cho rằng những dữ liệu tương tự nhau sẽ tồn tại gần nhau trong một không gian, từ đó công việc của chúng ta là sẽ tìm k điểm gần với dữ liệu cần kiểm tra nhất. Việc tìm khoảng cách giữa 2 điểm cũng có nhiều công thức có thể sử dụng, tùy trường hợp mà chúng ta lựa chọn cho phù hợp.\n",
    "* Sử dụng lớp KNNImputer từ thư viện Scikit-learn\n",
    "* Một Instance của KNNImputer có 3 tham số truyền vào cần quan tâm: số lượng mẫu dữ liệu lân cận (n_neighbors); loại khoảng cách (metric): mặc định là ‘nan_euclidean’, tức là Euclidean nhưng bỏ qua các Missing Data; trọng số (weight): sử dụng trọng số giữa các mẫu dữ liệu lân cận khi tính khoảng cách, giá trị mặc định là ‘uniform’, ngoài ra có thể sử dụng giá trị ‘distance’, tức là mẫu dữ liệu nào càng gần mẫu dữ liệu cần dự đoán thì trọng số càng cao.\n",
    "* metric: lựa chọn loại khoảng cách mặc định đó là khoảng cách Euclid (l2 norm): <br>\n",
    "$ d(\\mathbf{a}, \\mathbf{b}) = \\|\\mathbf{a} - \\mathbf{b}\\|_2 = \\sqrt{\\sum_{i=1}^{n} (a_i - b_i)^2}$ <br>\n",
    "* weight: lựa chọn trọng số mặc định là ‘uniform’\n",
    "* n_neighbors: tối ưu k bằng cách tối ưu sai số (RMSE) cho mô hình hồi qui thử nghiệm trên các bộ dữ liệu được fill missing với các giá trị k khác nhau"
   ]
  },
  {
   "attachments": {},
   "cell_type": "markdown",
   "metadata": {},
   "source": [
    "### 4. Khám phá dữ liệu\n",
    "* Đánh giá độ tương quan: sử dụng ma trận tương quan và biểu đồ heatmap để tính độ tương quan giữa các features với nhau và giữa features với target\n",
    "* Vẽ biểu đồ thể hiện phân phối của các features\n"
   ]
  },
  {
   "attachments": {},
   "cell_type": "markdown",
   "metadata": {},
   "source": [
    "### 5. Xây dựng các mô hình"
   ]
  },
  {
   "attachments": {},
   "cell_type": "markdown",
   "metadata": {},
   "source": [
    "Mô tả dữ liệu:\n",
    "- price: là biến target, giá nhà.\n",
    "- city_encoder: là feature kiểu catalog của thành phố được mã hoá dựa trên target price\n",
    "- city_encoder: là feature kiểu catalog của thành phố được mã hoá dựa trên target price\n"
   ]
  },
  {
   "attachments": {},
   "cell_type": "markdown",
   "metadata": {},
   "source": [
    "#### i. Linear Regression\n",
    "-  Trên toàn bộ dữ liệu : Linear Regression dựa vào các feature 'city','area','num_floors','bedrooms','houseTypes'\n",
    "- Đối với các dữ liệu có tỉnh ở TP.HCM thì Linear Regression dựa vào các feature 'district','area','num_floors','bedrooms','houseTypes'\n",
    "- Với x = [x₁, x₂,.. xn]ᵀ là một vector cột chứa thông tin đầu vào, ta có thể mô hình quan hệ giữa đầu ra và đầu vào bằng một hàm tuyến tính đơn giản:\n",
    "$$\n",
    "y ≈ ŷ = f(x) = w₁x₁ + w₂x₂ + ... + wₙxₙ = Xᵀw\n",
    "$$ \n",
    " - trong đó:\n",
    "    - w = [w₁, w₂, ..wn]ᵀ là vector hệ số (hoặc trọng số – weight vector) cần tìm\n",
    "    - y là một số vô hướng đầu ra.\n",
    "\n",
    "- Hàm Loss của Linear Regression có dạng :\n",
    "$$\n",
    "L(w) = \\frac{1}{N} \\| X^Tw - y \\|_2^2\n",
    "$$\n",
    "- Đánh giá hiệu suất của mô hình dựa vào MSE, Variance\n",
    "- MSE (Mean Squared Error): Đây là một phép đo đánh giá hiệu suất của mô hình dự đoán. MSE tính toán tổng trung bình của bình phương sai giữa giá trị dự đoán và giá trị thực tế. Trong trường hợp Linear Regression, MSE thể hiện mức độ chính xác của mô hình trong việc dự đoán giá trị giá nhà. Giá trị MSE càng thấp thì mô hình dự đoán càng chính xác.\n",
    "\n",
    "$$\n",
    "MSE = \\frac{1}{n}\\sum_{i=1}^{n}(y_i - \\hat{y}_i)^2\n",
    "$$\n",
    "\n",
    "- Variance: Variance đo lường mức độ biến động của các dự đoán từ mô hình. Một variance cao có xu hướng quá tương thích với dữ liệu huấn luyện và không thể tổng quát hóa tốt cho dữ liệu mới.\n",
    "\n",
    "\n",
    "$$\n",
    "Var(X) = \\frac{1}{n} \\sum_{i=1}^{n} (x_i - \\bar{x})^2\n",
    "$$\n",
    "\n",
    "\n",
    "Trong bài toán Linear Regression, mục tiêu là tìm một mô hình có MSE thấp, bias thấp và variance ổn định. Điều này đồng nghĩa với việc tìm một mô hình có khả năng dự đoán chính xác giá trị giá nhà mà không bị sai lệch quá lớn và không bị quá phụ thuộc vào dữ liệu huấn luyện."
   ]
  },
  {
   "attachments": {},
   "cell_type": "markdown",
   "metadata": {},
   "source": [
    "#### ii. Ridge Regression\n",
    "-  Trên toàn bộ dữ liệu : Ridge Regression dựa vào các feature 'city','area','num_floors','bedrooms','houseTypes'\n",
    "- Đối với các dữ liệu có tỉnh ở TP.HCM thì Ridge Regression dựa vào các feature 'district','area','num_floors','bedrooms','houseTypes'\n",
    "- Hàm mất mát trong hồi qui Ridge sẽ có sự thay đổi so với hồi qui tuyến tính đó là thành phần điều chuẩn (regularization term) được cộng thêm vào hàm mất mát như sau:\n",
    "$$\n",
    "L(w) = \\frac{1}{N} \\| X^Tw - y \\|_2^2 + α⋅\\|w\\|_2^2\n",
    "$$\n",
    "Với  α⋅||w||₂² là *thành phần điều chuẩn*\n",
    "- MSE (Mean Squared Error): MSE đo lường độ lớn của sai số bình phương trung bình giữa giá trị dự đoán và giá trị thực tế trên tập dữ liệu. Cả Linear Regression và Ridge Regression đều sử dụng MSE để đánh giá hiệu suất của mô hình. Tuy nhiên, Ridge Regression cũng bao gồm thành phần điều chuẩn (regularization term) vào MSE để kiểm soát overfitting.\n",
    "\n",
    "- Variance: Variance đo lường sự biến đổi trung bình của mô hình dự đoán trên các tập dữ liệu khác nhau. Ridge Regression có thể giảm variance so với Linear Regression bằng cách áp dụng thành phần điều chuẩn. Điều này giúp mô hình Ridge Regression ít phụ thuộc hơn vào dữ liệu huấn luyện và có khả năng tổng quát hóa tốt hơn cho dữ liệu mới.\n",
    "\n",
    "Tóm lại, MSE, bias và variance trong Ridge Regression và Linear Regression có một số sự khác biệt do sự áp dụng thành phần điều chuẩn trong Ridge Regression để cải thiện hiệu suất và khả năng tổng quát hóa của mô hình."
   ]
  },
  {
   "attachments": {},
   "cell_type": "markdown",
   "metadata": {},
   "source": [
    "#### iii. Lasso Regression\n",
    "-  Trên toàn bộ dữ liệu : Lasso Regression dựa vào các feature 'city','area','num_floors','bedrooms','houseTypes'\n",
    "- Đối với các dữ liệu có tỉnh ở TP.HCM thì Lasso Regression dựa vào các feature 'district','area','num_floors','bedrooms','houseTypes'\n",
    "- Trong hồi qui Lasso, thay vì sử dụng thành phần điều chuẩn là norm chuẩn bậc hai thì chúng ta sử dụng norm chuẩn bậc 1 :\n",
    "$$\n",
    "L(w) = \\frac{1}{N} \\| X^Tw - y \\|_2^2 + α⋅\\|w\\|_1\n",
    "$$\n",
    "- MSE (Mean Squared Error): Cả Lasso Regression và Ridge Regression đều cố gắng tối thiểu hóa MSE để có được dự đoán chính xác. MSE vẫn là một phép đo phổ biến và được sử dụng để so sánh hiệu suất giữa các mô hình.\n",
    "\n",
    "- Variance: Ridge Regression giúp giảm variance hơn so với Lasso Regression. Lý do là Ridge Regression sử dụng phương pháp điều chuẩn L2 regularization, làm giảm tác động của các biến không quan trọng một cách liên tục, nhưng không đưa chúng về 0 hoàn toàn. Điều này giúp mô hình có sự ổn định hơn và tránh overfitting."
   ]
  },
  {
   "attachments": {},
   "cell_type": "markdown",
   "metadata": {},
   "source": [
    "#### iv.Neutral - Network"
   ]
  },
  {
   "attachments": {},
   "cell_type": "markdown",
   "metadata": {},
   "source": [
    "- Layer đầu tiên là input layer, các layer ở giữa được gọi là hidden layer, layer cuối cùng được gọi là output layer. Các hình tròn được gọi là node.\n",
    "\n",
    "- Mỗi mô hình luôn có 1 input layer, 1 output layer, có thể có hoặc không các hidden layer. Tổng số layer trong mô hình được quy ước là số layer – 1 (Không tính input layer).\n",
    "\n",
    "- Mỗi node trong hidden layer và output layer : \n",
    "    + Liên kết với tất cả các node ở layer trước đó với các hệ số w riêng. \n",
    "    + Mỗi node có 1 hệ số bias b riêng. \n",
    "    + Diễn ra 2 bước: tính tổng linear và áp dụng activation function."
   ]
  },
  {
   "attachments": {},
   "cell_type": "markdown",
   "metadata": {},
   "source": [
    "##### a. Simple DNN\n",
    "- Xây dựng mạng DNN với 5 hidden layers (Dense), 1 input layer và 1 output layer\n",
    "- Optimizer : Adam, Batch_size = 128, epochs = 10000\n"
   ]
  },
  {
   "attachments": {},
   "cell_type": "markdown",
   "metadata": {},
   "source": [
    "##### b. Encoder - Decoder\n",
    "- Encoder với 4 hidden layer\n",
    "- Dncoder với 4 hidden layer"
   ]
  },
  {
   "attachments": {},
   "cell_type": "markdown",
   "metadata": {},
   "source": [
    "Kết quả:\n",
    "Các mô hình Machine Learning cho MAE và MAPE khá tốt. Các mô hình DL cho kết quả tốt hơn ở MSE"
   ]
  },
  {
   "attachments": {},
   "cell_type": "markdown",
   "metadata": {},
   "source": [
    "|   | SVM  |  R-FORREST |  DNN  | EN-DECODER   | LinearRegession   |\n",
    "|---|---|---|---|---|---|\n",
    "|  MAPE |  0.4752 | 0.4765  | 0.5797  |  0.5590 |  0.7641 |\n",
    "| MSE  | 29.4931  |  28.4715 | 29.0017  |  28.7978 |  33.9813 |\n",
    "| MAE  | 2.4311  |  2.5272 | 2.6705  | 2.6021  |  3.3615 |\n",
    "| VAR  |  0.3316 | 0.3437  |  0.3321 |  0.3367 |  0.2174 |\n"
   ]
  },
  {
   "attachments": {},
   "cell_type": "markdown",
   "metadata": {},
   "source": [
    "## II. Các vấn đề gặp phải\n",
    "* Một số thông tin về căn nhà được lấy từ phần mô tả do người bán nhập vào, do đó quá trình thu thập các thông tin này cần xử lí bao quát tất cả các trường hợp có thể xảy ra (vd: tỷ, tỉ, ty, ti, TY, T, tỏi, ...)\n",
    "* Một số thông tin người bán nhập sai (vd: 1000 tỷ), nhập nhiều giá trị khác nhau cho cùng một thông tin\n",
    "* Khó xác định được phương pháp phù hợp để xử lí dữ liệu thiếu và chuyển đổi dữ liệu phân loại\n",
    "\n"
   ]
  },
  {
   "attachments": {},
   "cell_type": "markdown",
   "metadata": {},
   "source": [
    "## III. Tổng kết\n",
    "Trong dự án này, nhóm đã tiến hành nghiên cứu và xây dựng mô hình dự đoán giá nhà sử dụng nhiều phương pháp khác nhau. Mục tiêu của nhóm là tạo ra một mô hình có khả năng dự đoán chính xác giá trị của các căn nhà dựa trên các thông tin đầu vào như diện tích, số tầng, số phòng, vị trí địa lý, loại nhà.\n",
    "\n",
    "Nhóm đã tiến hành thu thập dữ liệu từ các nguồn tin cậy và tiền xử lý dữ liệu để chuẩn bị cho quá trình huấn luyện và đánh giá mô hình. Qua đó, cũng đã loại bỏ các giá trị thiếu, mã hóa các biến đầu vào và chia dữ liệu thành tập huấn luyện và tập kiểm tra. Sau đó, nhóm đã áp dụng một loạt các mô hình học máy như Linear Regression, Lasso Regression và Ridge Regression, SVM, Random Forest, DNN, En-Decoder để huấn luyện và dự đoán giá nhà. Nhóm đã đánh giá hiệu suất của mỗi mô hình bằng các độ đo như Mean Squared Error (MSE), bias và variance. Các mô hình Machine Learning cho MAE và MAPE khá tốt. Các mô hình DL cho kết quả tốt hơn ở MSE\n",
    "\n",
    "Tóm lại, Nghiên cứu này đã đưa ra những kết quả và nhận định quan trọng về khả năng dự đoán giá nhà nhờ sử dụng  phương pháp học máy. Các kết quả thu được có thể hỗ trợ trong việc định giá nhà. Đồng thời, bài báo cáo này cũng đặt nền tảng cho các nghiên cứu tiếp theo về việc cải thiện mô hình và góp phần vào sự phát triển và ứng dụng của lĩnh vực này trong thực tế.\n"
   ]
  },
  {
   "attachments": {},
   "cell_type": "markdown",
   "metadata": {},
   "source": [
    "## IV. Tài liệu tham khảo\n",
    "1. https://www.linkedin.com/advice/0/how-do-you-deal-categorical-features-high-cardinality\n",
    "2. https://machinelearninginterview.com/topics/machine-learning/target-encoding-for-categorical-features\n",
    "3. https://betterdatascience.com/impute-missing-data-with-python-and-knn\n",
    "4. https://www.freecodecamp.org/news/how-to-build-your-first-neural-network-to-predict-house-prices-with-keras-f8db83049159\n",
    "5. https://viblo.asia/p/danh-gia-model-trong-machine-learing-RnB5pAq7KPG\n",
    "6. https://tiensu.github.io/blog/80_data_prepeation_for_ml_data_cleaning_missing_data_3\n",
    "7. https://nttuan8.com/bai-3-neural-network/\n",
    "\n"
   ]
  },
  {
   "cell_type": "code",
   "execution_count": 54,
   "metadata": {},
   "outputs": [],
   "source": [
    "import pandas as pd\n",
    "import numpy as np\n",
    "import matplotlib.pyplot as plt\n",
    "import seaborn as sns\n",
    "import requests\n",
    "from bs4 import BeautifulSoup\n",
    "import re\n",
    "import math\n",
    "import time\n",
    "# import folium"
   ]
  },
  {
   "attachments": {},
   "cell_type": "markdown",
   "metadata": {},
   "source": [
    "# COLLECT DATA"
   ]
  },
  {
   "cell_type": "code",
   "execution_count": null,
   "metadata": {},
   "outputs": [],
   "source": [
    "url = 'https://batdongsan.vn/ban-nha/'\n",
    "data = requests.get(url)"
   ]
  },
  {
   "cell_type": "code",
   "execution_count": null,
   "metadata": {},
   "outputs": [],
   "source": [
    "soup = BeautifulSoup(data.text, 'lxml')"
   ]
  },
  {
   "attachments": {},
   "cell_type": "markdown",
   "metadata": {},
   "source": [
    "## Thử nghiệm lấy các thông tin cụ thể từ một trang"
   ]
  },
  {
   "cell_type": "code",
   "execution_count": null,
   "metadata": {},
   "outputs": [],
   "source": [
    "print(soup.prettify)"
   ]
  },
  {
   "cell_type": "code",
   "execution_count": null,
   "metadata": {},
   "outputs": [],
   "source": [
    "datalist = soup.find('div', {'class':'datalist'})\n",
    "for i in datalist.find_all('div', {'class':'name'}):\n",
    "    house_temp = requests.get(i.a['href']) # link từng cái nhà"
   ]
  },
  {
   "cell_type": "code",
   "execution_count": null,
   "metadata": {},
   "outputs": [],
   "source": [
    "# url1 = 'https://batdongsan.vn/nha-cau-giay-ngo-nong-o-to-vao-gan-nha-gan-mat-pho-mt-5m-35-ty-r268507'\n",
    "url1 = 'https://batdongsan.vn/nha-gan-buu-longnga-tu-ben-ca-820tr-r268542'\n",
    "d = requests.get(url1)\n",
    "s = BeautifulSoup(d.text, 'lxml')\n",
    "# lay dia chi + loai nha"
   ]
  },
  {
   "cell_type": "code",
   "execution_count": null,
   "metadata": {},
   "outputs": [],
   "source": [
    "HouseInformations = {\"houseTypes\":[],\"area\":[], \"num_floors\":[],\"bedrooms\":[], \"address\":[], \"price\":[]}"
   ]
  },
  {
   "cell_type": "code",
   "execution_count": null,
   "metadata": {},
   "outputs": [],
   "source": [
    "info = s.find('ul', {'class':'uk-breadcrumb'}).text.strip().replace('\\n',',').split(',')\n",
    "diachi = info[3]+\", \" +info[2]\n",
    "loai_nha = info[1]\n",
    "loai_nha\n",
    "diachi"
   ]
  },
  {
   "cell_type": "code",
   "execution_count": null,
   "metadata": {},
   "outputs": [],
   "source": [
    "t = s.find('div',{'class':'project-global-object-block-003 information-custom'}).find('strong',{'class':'price'}).text.strip()\n",
    "z = (re.search(r\"(\\d+(?:\\.\\d+)?(?:,\\d+)?) tỷ\", t) or re.search(r\"(\\d+(?:\\.\\d+)?(?:,\\d+)?) triệu\", t))\n",
    "print(z.group(1))"
   ]
  },
  {
   "cell_type": "code",
   "execution_count": null,
   "metadata": {},
   "outputs": [],
   "source": [
    "s.find('div',{'class':'content'})"
   ]
  },
  {
   "cell_type": "code",
   "execution_count": null,
   "metadata": {},
   "outputs": [],
   "source": [
    "a = s.find('div',{'class':'project-global-object-block-003 information-custom'}).text.strip() + s.find('div',{'class':'content'}).text.strip().replace('\\n','')\n",
    "a = a.replace(\"\\r\",\" \")\n",
    "a = a.replace(\"\\n\",\" \")\n",
    "a = a.replace(\"\\t\",\" \")\n",
    "# a = a.replace(\"\\r\\n\",\"\")\n",
    "# a = a.replace(\"\\n\\t\",\"\")\n",
    "a"
   ]
  },
  {
   "cell_type": "code",
   "execution_count": null,
   "metadata": {},
   "outputs": [],
   "source": [
    "z = (re.search(r\"Tầng (\\d+)\", a) or re.search(r\"(\\d+) Tầng\", a)\n",
    "            or re.search(r\"tầng (\\d+)\", a) or re.search(r\"(\\d+) tầng\", a)\n",
    "            or re.search(r\"TẦNG (\\d+)\", a) or re.search(r\"(\\d+) TẦNG\", a)\n",
    "            or re.search(r\"tầng(\\d+)\", a) or re.search(r\"(\\d+)tầng\", a))\n",
    "    \n",
    "if z != None:\n",
    "    print(\"hehe\"+ z.group(1))\n",
    "else:\n",
    "    pattern = r\"Tầng (\\d+)\"\n",
    "    matches = re.findall(pattern, a)\n",
    "    if matches:\n",
    "        max_floor = max(matches, key=int)\n",
    "        print(str(max_floor))\n",
    "    else:\n",
    "        print('1')"
   ]
  },
  {
   "cell_type": "code",
   "execution_count": null,
   "metadata": {},
   "outputs": [],
   "source": [
    "pattern = r\"Tầng (\\d+)\"\n",
    "matches = re.findall(pattern, a)\n",
    "if matches:\n",
    "    max_floor = max(matches, key=int)\n",
    "    result = max_floor\n",
    "    print(result)  # Output: \"Tầng 3\"\n",
    "else:\n",
    "    print(\"No match found.\")"
   ]
  },
  {
   "cell_type": "code",
   "execution_count": null,
   "metadata": {},
   "outputs": [],
   "source": [
    "# Lấy Giá\n",
    "a\n",
    "z = (re.search(r\"(\\d+(?:\\.\\d+)?(?:,\\d+)?) Tỷ\", a) or re.search(r\"(\\d+(?:\\.\\d+)?(?:,\\d+)?) tỷ\", a))\n",
    "print(z.group(1))\n",
    "z = (re.search(r\"(\\d+(?:\\.\\d+)?(?:,\\d+)?) triệu\", a ) or re.search(r\"(\\d+(?:\\.\\d+)?(?:,\\d+)?) tr\", a)) # cho nếu nhà giá triệu\n",
    "print(z.group(1))"
   ]
  },
  {
   "cell_type": "code",
   "execution_count": null,
   "metadata": {},
   "outputs": [],
   "source": [
    "a = s.find('div',{'class':'project-global-object-block-003 information-custom'}).text.strip() + s.find('div',{'class':'content'}).text.strip()\n",
    "# # print(a)\n",
    "# dientich = None\n",
    "# phongngu = None\n",
    "# # tim dien tich\n",
    "# z = re.search(r\"Diện tích: (\\d+) m2\", a)\n",
    "# if z != None:\n",
    "#     dientich = z.group(1)\n",
    "# else:\n",
    "#     dientich = z\n",
    "# # tim so PN\n",
    "z = (re.search(r\"Phòng ngủ: (\\d+) PN\", a) or re.search(r\"(\\d+) PN\", a) or re.search(r\"(\\d+)PN\", a))\n",
    "if z != None:\n",
    "    phongngu = z.group(1)\n",
    "else:\n",
    "    phongngu = z\n",
    "print(phongngu)"
   ]
  },
  {
   "cell_type": "code",
   "execution_count": null,
   "metadata": {},
   "outputs": [],
   "source": [
    "TTphong = s.find('div',{'class':'project-global-object-block-003 information-custom'}).find('ul',{'class','uk-list'}).text.strip().replace('\\n',',')\n",
    "# for i in TTphong: # chu y thong tin phong co the null\n",
    "#     print(i)\n",
    "#     if re.search(r\"Diện tích: (\\d+) m2\", i) != None:\n",
    "        \n",
    "#     for pattern in [r\"Diện tích: (\\d+) m2\", r\"Phòng ngủ: (\\d+) PN\", r\"Phòng ngủ: (\\d+) PN\"]:\n",
    "#         z = re.search(,i)\n",
    "#     print(z.group(1))\n",
    "TTphong\n",
    "z = re.search(r\"Diện tíc: (\\d+) m2\", TTphong)\n",
    "if z != None:\n",
    "    dientich = z.group(1)\n",
    "else:\n",
    "    dientich = z\n",
    "z = re.search(r\"Phòng ngủ: (\\d+) PN\", TTphong)\n",
    "print(dientich)\n",
    "# dientich = re.search(r\"Diện tích: (\\d+) m2\", TTphong).group(1)\n",
    "# dientich\n",
    "# PhongNgu = re.search(r\"Phòng ng: (\\d+) PN\", TTphong).group(1)"
   ]
  },
  {
   "cell_type": "code",
   "execution_count": null,
   "metadata": {},
   "outputs": [],
   "source": [
    "num_pages = soup.find(\"div\", {\"class\":\"desc\"})\n",
    "num_pages.text\n",
    "matches = re.findall(r'\\d', num_pages.text)\n",
    "totals = ''\n",
    "if len(matches) > 0:\n",
    "    for number in matches:\n",
    "        totals += number\n",
    "totals = int(totals)\n",
    "totals\n",
    "total_items = math.ceil(totals/20)\n",
    "total_items"
   ]
  },
  {
   "cell_type": "code",
   "execution_count": null,
   "metadata": {},
   "outputs": [],
   "source": [
    "list_floor = []"
   ]
  },
  {
   "cell_type": "code",
   "execution_count": null,
   "metadata": {},
   "outputs": [],
   "source": [
    "pattern = r\"(\\d+)\\s?(?:Tầng|Tang|tang| tang|tang |tầng)\"\n",
    "matches = \"\"\n",
    "matches = re.findall(pattern, a, re.IGNORECASE) \n",
    "if matches:\n",
    "    print(matches[0])\n",
    "else:\n",
    "    print(\"1\")"
   ]
  },
  {
   "cell_type": "code",
   "execution_count": null,
   "metadata": {},
   "outputs": [],
   "source": [
    "text = \"Diện tích: 92.2 m2\"\n",
    "\n",
    "regex_pattern = r\"(?<=Diện tích: )(\\d+(\\.\\d+)?)\"\n",
    "matches = re.findall(regex_pattern, text)\n",
    "\n",
    "if matches:\n",
    "    x = str(float(matches[0][0]))\n",
    "    print(\"Giá trị X:\", x)\n",
    "else:\n",
    "    print(\"Không tìm thấy giá trị X trong chuỗi.\")"
   ]
  },
  {
   "attachments": {},
   "cell_type": "markdown",
   "metadata": {},
   "source": [
    "## Hàm lấy data"
   ]
  },
  {
   "cell_type": "code",
   "execution_count": null,
   "metadata": {},
   "outputs": [],
   "source": [
    "def getHouseInformationToDict(HouseInformations: dict, soup: BeautifulSoup, url: str):\n",
    "    if(soup.find('div',{'class':'project-global-object-block-003 information-custom'}) and soup.find('div',{'class':'content'})):\n",
    "        text_info=\"\"\n",
    "        text_info = soup.find('div',{'class':'project-global-object-block-003 information-custom'}).text.strip() + soup.find('div',{'class':'content'}).text.strip().replace('\\n','')\n",
    "        text_info = text_info.replace(\"\\r\",\" \")\n",
    "        text_info = text_info.replace(\"\\n\",\" \")\n",
    "        text_info = text_info.replace(\"\\t\",\" \")\n",
    "        \n",
    "        #parse houseTypes & address\n",
    "        info = soup.find('ul', {'class':'uk-breadcrumb'}).text.strip().replace('\\n',',').split(',')\n",
    "        HouseInformations['address'].append(info[3]+\", \" +info[2])\n",
    "        HouseInformations['houseTypes'].append(info[1])\n",
    "        \n",
    "        \n",
    "        # parse area\n",
    "        z = re.findall(r\"(?<=Diện tích: )(\\d+(\\.\\d+)?)\", text_info) or re.findall(r\"DT\\s+(\\d+(\\.\\d+)?)\", text_info, re.IGNORECASE)\n",
    "        \n",
    "        if z:\n",
    "            HouseInformations['area'].append(z[0][0])\n",
    "        else:\n",
    "            HouseInformations['area'].append(np.nan)\n",
    "\n",
    "        #parse floor & num_bedrooms\n",
    "\n",
    "        pattern = r\"(\\d+)\\s?(?:Tầng|Tang|tang| tang|tang |tầng)\"\n",
    "        matches = \"\"\n",
    "        matches = re.findall(pattern, text_info, re.IGNORECASE)\n",
    "        # print(text_info)\n",
    "        # print(matches)\n",
    "        if matches:\n",
    "            HouseInformations['num_floors'].append(matches[0])\n",
    "        else:\n",
    "            # print(\"else check\")\n",
    "            pattern = r\"Tầng\\s+(\\d+(?:\\s*,\\s*\\d+)*)\\b|\\bTầng\\s+(\\d+)\\b\"\n",
    "            matches = re.findall(pattern, text_info, re.IGNORECASE)\n",
    "            # print(\"else check: \", matches)\n",
    "            if matches:\n",
    "                numbers = []\n",
    "                for match in matches:\n",
    "                    if match[0] != '':\n",
    "                        numbers.extend([int(num) for num in re.findall(r'\\d+', match[0])])\n",
    "                    elif match[1] != '':\n",
    "                        numbers.append(int(match[1]))\n",
    "                max_number = max(numbers)\n",
    "                HouseInformations['num_floors'].append(str(max_number))\n",
    "            else:\n",
    "                    # print(\"Lầu check\")\n",
    "                    # pattern = r'\\b(\\d+)\\b\\s*(?:T|lầu)'\n",
    "                    pattern = r'(?:\\D+|\\s+)(\\d+)\\s*(?:T|lầu)\\b'\n",
    "                    matches = re.findall(pattern, text_info)\n",
    "                    # print(\"maches\", matches)\n",
    "                    if matches:\n",
    "                        numbers = [int(match) for match in matches]\n",
    "                        # print(numbers)\n",
    "                        # print(matches)\n",
    "                        HouseInformations['num_floors'].append(str(max(numbers)))\n",
    "                    else:\n",
    "                        HouseInformations['num_floors'].append(np.nan)\n",
    "                \n",
    "\n",
    "        \n",
    "        \n",
    "        z = (re.search(r\"Phòng ngủ: (\\d+) PN\", text_info, re.IGNORECASE) or re.search(r\"(\\d+) PN\", text_info)\n",
    "            or re.search(r\"(\\d+)PN\", text_info)\n",
    "            or re.search(r\"(\\d+) phòng ngủ\", text_info, re.IGNORECASE)\n",
    "            or re.search(r\"(\\d+)pn\", text_info)\n",
    "            or re.search(r\"(\\d+) pn\", text_info))\n",
    "        if z != None:\n",
    "            HouseInformations['bedrooms'].append(z.group(1))\n",
    "        else:\n",
    "            HouseInformations['bedrooms'].append(np.nan)\n",
    "        \n",
    "        \n",
    "        # parse price\n",
    "        price = soup.find('div',{'class':'project-global-object-block-003 information-custom'}).find('strong',{'class':'price'}).text.strip()\n",
    "        if price == 'Thỏa thuận':\n",
    "            z = (re.search(r\"(\\d+(?:\\.\\d+)?(?:,\\d+)?) Tỷ\", text_info) or re.search(r\"(\\d+(?:\\.\\d+)?(?:,\\d+)?) tỷ\", text_info))\n",
    "\n",
    "            if z != None:\n",
    "                HouseInformations['price'].append(z.group(1))     # TH: Tỷ\n",
    "            else:\n",
    "                z = (re.search(r\"(\\d+(?:\\.\\d+)?(?:,\\d+)?) triệu\", text_info) or re.search(r\"(\\d+(?:\\.\\d+)?(?:,\\d+)?) tr\", text_info)) # cho nếu nhà giá triệu\n",
    "                if z != None:\n",
    "                    HouseInformations['price'].append(str(float(z.group(1))/1000))\n",
    "                else:\n",
    "                    HouseInformations['price'].append(z)\n",
    "        else:\n",
    "            z = re.search(r\"(\\d+(?:\\.\\d+)?(?:,\\d+)?) tỷ\", price)\n",
    "            if z != None:\n",
    "                if float(z.group(1)) > 1000 and float(z.group(1)) < 10000:\n",
    "                    HouseInformations['price'].append(str(float(z.group(1))/1000))\n",
    "                elif float(z.group(1)) > 100000:\n",
    "                    HouseInformations['price'].append(str(float(z.group(1))/1000000))\n",
    "                else:\n",
    "                    HouseInformations['price'].append(z.group(1))\n",
    "            else:\n",
    "                z = re.search(r\"(\\d+(?:\\.\\d+)?(?:,\\d+)?) triệu\", price)\n",
    "                if z != None:\n",
    "                    if (float(z.group(1)) < 100):\n",
    "                        HouseInformations['price'].append(z.group(1))\n",
    "                    else:\n",
    "                        HouseInformations['price'].append(str(float(z.group(1))/1000))\n",
    "                else:\n",
    "                    HouseInformations['price'].append(z)\n",
    "        HouseInformations['url'].append(url)\n",
    "    else:\n",
    "        pass"
   ]
  },
  {
   "attachments": {},
   "cell_type": "markdown",
   "metadata": {},
   "source": [
    "## Tiến hành lấy data"
   ]
  },
  {
   "cell_type": "code",
   "execution_count": null,
   "metadata": {},
   "outputs": [],
   "source": [
    "soup_temp = soup\n",
    "url_pages = 'https://batdongsan.vn/ban-nha/'\n",
    "HouseInformations = {\"houseTypes\":[],\"area\":[], \"num_floors\":[],\"bedrooms\":[], \"address\":[], \"price\":[], 'url':[]}\n",
    "for i in range(2, total_items+1): #start from 'https://batdongsan.vn/ban-nha/' after that to /p2\n",
    "    print(i)\n",
    "    data_list = soup_temp.find('div', {'class':'datalist'})\n",
    "    for item in data_list.find_all('div', {'class':'name'}):\n",
    "        house_html = requests.get(item.a['href']) # link từng cái nhà \n",
    "        if house_html:\n",
    "            house_soup = BeautifulSoup(house_html.text, 'lxml')\n",
    "            getHouseInformationToDict(HouseInformations, house_soup, item.a['href'])\n",
    "    print(url_pages +'p%d' %i)\n",
    "    data_temp = requests.get(url_pages +'p%d' %i) # url_pages +'p%d' %i next page link\n",
    "    soup_temp = BeautifulSoup(data_temp.text, 'lxml')"
   ]
  },
  {
   "cell_type": "code",
   "execution_count": null,
   "metadata": {},
   "outputs": [],
   "source": [
    "HouseInformations['url']"
   ]
  },
  {
   "cell_type": "code",
   "execution_count": null,
   "metadata": {},
   "outputs": [],
   "source": [
    "HouseInformations['url'].remove('https://batdongsan.vn/-r264105')"
   ]
  },
  {
   "cell_type": "code",
   "execution_count": null,
   "metadata": {},
   "outputs": [],
   "source": [
    "df = pd.DataFrame.from_dict(HouseInformations)"
   ]
  },
  {
   "cell_type": "code",
   "execution_count": null,
   "metadata": {},
   "outputs": [],
   "source": [
    "percent_missing = df.isnull().sum() * 100 / len(df)\n",
    "missing_value_df = pd.DataFrame({'column_name': df.columns,\n",
    "                                'percent_missing': percent_missing})"
   ]
  },
  {
   "cell_type": "code",
   "execution_count": null,
   "metadata": {},
   "outputs": [],
   "source": [
    "missing_value_df"
   ]
  },
  {
   "cell_type": "code",
   "execution_count": null,
   "metadata": {},
   "outputs": [],
   "source": [
    "df.to_csv('housedata_2.csv',  encoding=\"utf-8\")"
   ]
  },
  {
   "cell_type": "code",
   "execution_count": null,
   "metadata": {},
   "outputs": [],
   "source": [
    "df.to_excel('house_data_2.xlsx', sheet_name='House_data')"
   ]
  },
  {
   "cell_type": "code",
   "execution_count": null,
   "metadata": {},
   "outputs": [],
   "source": [
    "df_1 = pd.read_excel('house_data.xlsx', index_col=[0])"
   ]
  },
  {
   "cell_type": "code",
   "execution_count": null,
   "metadata": {},
   "outputs": [],
   "source": [
    "frames = [df_1, df]\n",
    "final_df = pd.concat(frames)"
   ]
  },
  {
   "cell_type": "code",
   "execution_count": null,
   "metadata": {},
   "outputs": [],
   "source": [
    "final_df.to_excel('final_df_excel.xlsx', index=False)\n",
    "final_df.to_csv('data/houses/houses_current.csv', index=False)"
   ]
  },
  {
   "attachments": {},
   "cell_type": "markdown",
   "metadata": {},
   "source": [
    "# PREPROCESS DATA"
   ]
  },
  {
   "cell_type": "code",
   "execution_count": 55,
   "metadata": {},
   "outputs": [
    {
     "data": {
      "text/plain": [
       "9674"
      ]
     },
     "execution_count": 55,
     "metadata": {},
     "output_type": "execute_result"
    }
   ],
   "source": [
    "# dữ liệu thô ban đầu sau khi vừa mới crawl\n",
    "data = pd.read_csv('data/houses_current.csv')\n",
    "data.head()\n",
    "len(data)"
   ]
  },
  {
   "cell_type": "code",
   "execution_count": 56,
   "metadata": {},
   "outputs": [
    {
     "name": "stdout",
     "output_type": "stream",
     "text": [
      "<class 'pandas.core.frame.DataFrame'>\n",
      "RangeIndex: 9674 entries, 0 to 9673\n",
      "Data columns (total 7 columns):\n",
      " #   Column      Non-Null Count  Dtype  \n",
      "---  ------      --------------  -----  \n",
      " 0   houseTypes  9674 non-null   object \n",
      " 1   area        9497 non-null   float64\n",
      " 2   num_floors  7706 non-null   float64\n",
      " 3   bedrooms    7577 non-null   float64\n",
      " 4   address     9674 non-null   object \n",
      " 5   price       9548 non-null   float64\n",
      " 6   url         9674 non-null   object \n",
      "dtypes: float64(4), object(3)\n",
      "memory usage: 529.2+ KB\n"
     ]
    }
   ],
   "source": [
    "data.info()"
   ]
  },
  {
   "attachments": {},
   "cell_type": "markdown",
   "metadata": {},
   "source": [
    "REMOVE DUPLICATES"
   ]
  },
  {
   "cell_type": "code",
   "execution_count": 57,
   "metadata": {},
   "outputs": [
    {
     "name": "stdout",
     "output_type": "stream",
     "text": [
      "Sum of duplicates:  1066\n",
      "After removing duplicates:  0\n",
      "Length of data then:  8608\n"
     ]
    }
   ],
   "source": [
    "print('Sum of duplicates: ', data.duplicated(subset=['houseTypes', 'area', 'num_floors', 'bedrooms','address','price']).sum())\n",
    "data = data.drop_duplicates(subset=['houseTypes', 'area', 'num_floors', 'bedrooms','address','price']).copy()\n",
    "print('After removing duplicates: ', data.duplicated().sum())\n",
    "print('Length of data then: ', len(data))"
   ]
  },
  {
   "attachments": {},
   "cell_type": "markdown",
   "metadata": {},
   "source": [
    "CONVERT OBJECT TO FLOAT64 AND STRING"
   ]
  },
  {
   "cell_type": "code",
   "execution_count": 58,
   "metadata": {},
   "outputs": [],
   "source": [
    "data = data.astype({'houseTypes':'string','address':'string','url':'string'})"
   ]
  },
  {
   "cell_type": "code",
   "execution_count": 59,
   "metadata": {},
   "outputs": [
    {
     "name": "stdout",
     "output_type": "stream",
     "text": [
      "<class 'pandas.core.frame.DataFrame'>\n",
      "Int64Index: 8608 entries, 0 to 9673\n",
      "Data columns (total 7 columns):\n",
      " #   Column      Non-Null Count  Dtype  \n",
      "---  ------      --------------  -----  \n",
      " 0   houseTypes  8608 non-null   string \n",
      " 1   area        8447 non-null   float64\n",
      " 2   num_floors  6798 non-null   float64\n",
      " 3   bedrooms    6698 non-null   float64\n",
      " 4   address     8608 non-null   string \n",
      " 5   price       8492 non-null   float64\n",
      " 6   url         8608 non-null   string \n",
      "dtypes: float64(4), string(3)\n",
      "memory usage: 538.0 KB\n"
     ]
    }
   ],
   "source": [
    "data.info()"
   ]
  },
  {
   "cell_type": "code",
   "execution_count": 60,
   "metadata": {},
   "outputs": [
    {
     "name": "stdout",
     "output_type": "stream",
     "text": [
      "Ratio of missing data of houseTypes: 0.0%\n",
      "Ratio of missing data of area: 1.87%\n",
      "Ratio of missing data of num_floors: 21.027%\n",
      "Ratio of missing data of bedrooms: 22.189%\n",
      "Ratio of missing data of address: 0.0%\n",
      "Ratio of missing data of price: 1.348%\n",
      "Ratio of missing data of url: 0.0%\n"
     ]
    }
   ],
   "source": [
    "for col in data.columns:\n",
    "    print('Ratio of missing data of ' + str(col) +': ' + str(round(data[col].isna().sum()*100/len(data[col]),3)) + '%')"
   ]
  },
  {
   "cell_type": "code",
   "execution_count": 61,
   "metadata": {},
   "outputs": [],
   "source": [
    "data[['district','city']] = data['address'].apply(lambda x: pd.Series(str(x).split(', ')))\n"
   ]
  },
  {
   "cell_type": "code",
   "execution_count": 62,
   "metadata": {},
   "outputs": [],
   "source": [
    "data = data.drop(['address'], axis=True)"
   ]
  },
  {
   "cell_type": "code",
   "execution_count": 63,
   "metadata": {},
   "outputs": [],
   "source": [
    "data.reset_index(inplace=True, drop=True)"
   ]
  },
  {
   "cell_type": "code",
   "execution_count": 64,
   "metadata": {},
   "outputs": [],
   "source": [
    "data = data[['houseTypes','area','num_floors','bedrooms','district','city','price','url']]"
   ]
  },
  {
   "cell_type": "code",
   "execution_count": 65,
   "metadata": {},
   "outputs": [
    {
     "data": {
      "text/html": [
       "<div>\n",
       "<style scoped>\n",
       "    .dataframe tbody tr th:only-of-type {\n",
       "        vertical-align: middle;\n",
       "    }\n",
       "\n",
       "    .dataframe tbody tr th {\n",
       "        vertical-align: top;\n",
       "    }\n",
       "\n",
       "    .dataframe thead th {\n",
       "        text-align: right;\n",
       "    }\n",
       "</style>\n",
       "<table border=\"1\" class=\"dataframe\">\n",
       "  <thead>\n",
       "    <tr style=\"text-align: right;\">\n",
       "      <th></th>\n",
       "      <th>houseTypes</th>\n",
       "      <th>area</th>\n",
       "      <th>num_floors</th>\n",
       "      <th>bedrooms</th>\n",
       "      <th>district</th>\n",
       "      <th>city</th>\n",
       "      <th>price</th>\n",
       "      <th>url</th>\n",
       "    </tr>\n",
       "  </thead>\n",
       "  <tbody>\n",
       "    <tr>\n",
       "      <th>0</th>\n",
       "      <td>Bán Nhà riêng</td>\n",
       "      <td>130.0</td>\n",
       "      <td>3.0</td>\n",
       "      <td>7.0</td>\n",
       "      <td>Quận 12</td>\n",
       "      <td>TP Hồ Chí Minh</td>\n",
       "      <td>9.200</td>\n",
       "      <td>https://batdongsan.vn/ban-biet-thu-san-vuon-qu...</td>\n",
       "    </tr>\n",
       "    <tr>\n",
       "      <th>1</th>\n",
       "      <td>Bán Nhà riêng</td>\n",
       "      <td>65.0</td>\n",
       "      <td>NaN</td>\n",
       "      <td>2.0</td>\n",
       "      <td>Ngũ Hành Sơn</td>\n",
       "      <td>Đà Nẵng</td>\n",
       "      <td>2.900</td>\n",
       "      <td>https://batdongsan.vn/29-ty-dien-tich-6580m2-n...</td>\n",
       "    </tr>\n",
       "    <tr>\n",
       "      <th>2</th>\n",
       "      <td>Bán Nhà riêng</td>\n",
       "      <td>90.0</td>\n",
       "      <td>5.0</td>\n",
       "      <td>5.0</td>\n",
       "      <td>Hai Bà Trưng</td>\n",
       "      <td>Hà Nội</td>\n",
       "      <td>14.000</td>\n",
       "      <td>https://batdongsan.vn/ban-nha-kim-nguu-phan-lo...</td>\n",
       "    </tr>\n",
       "    <tr>\n",
       "      <th>3</th>\n",
       "      <td>Bán Nhà riêng</td>\n",
       "      <td>50.0</td>\n",
       "      <td>5.0</td>\n",
       "      <td>5.0</td>\n",
       "      <td>Quận 3</td>\n",
       "      <td>TP Hồ Chí Minh</td>\n",
       "      <td>0.001</td>\n",
       "      <td>https://batdongsan.vn/quan-3-le-van-sy-5-tang-...</td>\n",
       "    </tr>\n",
       "    <tr>\n",
       "      <th>4</th>\n",
       "      <td>Bán Nhà riêng</td>\n",
       "      <td>30.0</td>\n",
       "      <td>1.0</td>\n",
       "      <td>2.0</td>\n",
       "      <td>Gò Vấp</td>\n",
       "      <td>TP Hồ Chí Minh</td>\n",
       "      <td>3.700</td>\n",
       "      <td>https://batdongsan.vn/nha-moi-full-noi-that-hx...</td>\n",
       "    </tr>\n",
       "  </tbody>\n",
       "</table>\n",
       "</div>"
      ],
      "text/plain": [
       "      houseTypes   area  num_floors  bedrooms      district            city  \\\n",
       "0  Bán Nhà riêng  130.0         3.0       7.0       Quận 12  TP Hồ Chí Minh   \n",
       "1  Bán Nhà riêng   65.0         NaN       2.0  Ngũ Hành Sơn         Đà Nẵng   \n",
       "2  Bán Nhà riêng   90.0         5.0       5.0  Hai Bà Trưng          Hà Nội   \n",
       "3  Bán Nhà riêng   50.0         5.0       5.0        Quận 3  TP Hồ Chí Minh   \n",
       "4  Bán Nhà riêng   30.0         1.0       2.0        Gò Vấp  TP Hồ Chí Minh   \n",
       "\n",
       "    price                                                url  \n",
       "0   9.200  https://batdongsan.vn/ban-biet-thu-san-vuon-qu...  \n",
       "1   2.900  https://batdongsan.vn/29-ty-dien-tich-6580m2-n...  \n",
       "2  14.000  https://batdongsan.vn/ban-nha-kim-nguu-phan-lo...  \n",
       "3   0.001  https://batdongsan.vn/quan-3-le-van-sy-5-tang-...  \n",
       "4   3.700  https://batdongsan.vn/nha-moi-full-noi-that-hx...  "
      ]
     },
     "execution_count": 65,
     "metadata": {},
     "output_type": "execute_result"
    }
   ],
   "source": [
    "data.head()"
   ]
  },
  {
   "cell_type": "code",
   "execution_count": 66,
   "metadata": {},
   "outputs": [],
   "source": [
    "# data.to_csv('data/houses/houses.csv',index=False)\n",
    "# data.to_excel('data/houses/houses.xlsx',index=False)"
   ]
  },
  {
   "attachments": {},
   "cell_type": "markdown",
   "metadata": {},
   "source": [
    "## Xử lí giá"
   ]
  },
  {
   "cell_type": "code",
   "execution_count": 67,
   "metadata": {},
   "outputs": [
    {
     "data": {
      "text/plain": [
       "count     8492.000000\n",
       "mean       179.531718\n",
       "std       2044.588083\n",
       "min          0.000000\n",
       "25%          3.650000\n",
       "50%          5.450000\n",
       "75%          8.500000\n",
       "max      89440.000000\n",
       "Name: price, dtype: float64"
      ]
     },
     "execution_count": 67,
     "metadata": {},
     "output_type": "execute_result"
    }
   ],
   "source": [
    "data.price.describe()"
   ]
  },
  {
   "cell_type": "code",
   "execution_count": 68,
   "metadata": {},
   "outputs": [],
   "source": [
    "low_noise_data = data.loc[(data['price'] < 0.1)]\n",
    "hign_noise_data = data.loc[(data['price'] >= 500)]\n",
    "null_price_data = data[data['price'].isna()]"
   ]
  },
  {
   "cell_type": "code",
   "execution_count": 69,
   "metadata": {},
   "outputs": [
    {
     "name": "stderr",
     "output_type": "stream",
     "text": [
      "/var/folders/_x/886sy6k57y90dfy4fjklx08r0000gn/T/ipykernel_12335/958291345.py:3: UserWarning: \n",
      "\n",
      "`distplot` is a deprecated function and will be removed in seaborn v0.14.0.\n",
      "\n",
      "Please adapt your code to use either `displot` (a figure-level function with\n",
      "similar flexibility) or `histplot` (an axes-level function for histograms).\n",
      "\n",
      "For a guide to updating your code to use the new functions, please see\n",
      "https://gist.github.com/mwaskom/de44147ed2974457ad6372750bbe5751\n",
      "\n",
      "  sns.distplot(house_data_1['price'])\n"
     ]
    },
    {
     "data": {
      "text/plain": [
       "<AxesSubplot: xlabel='price', ylabel='Density'>"
      ]
     },
     "execution_count": 69,
     "metadata": {},
     "output_type": "execute_result"
    },
    {
     "data": {
      "image/png": "[encoded data removed]",
      "text/plain": [
       "<Figure size 800x500 with 1 Axes>"
      ]
     },
     "metadata": {},
     "output_type": "display_data"
    }
   ],
   "source": [
    "house_data_1 = data.loc[(data['price'] >= 0.1) & (data['price'] < 10)]\n",
    "fig,ax = plt.subplots(figsize = (8,5))\n",
    "sns.distplot(house_data_1['price'])"
   ]
  },
  {
   "cell_type": "code",
   "execution_count": 70,
   "metadata": {},
   "outputs": [
    {
     "name": "stderr",
     "output_type": "stream",
     "text": [
      "/var/folders/_x/886sy6k57y90dfy4fjklx08r0000gn/T/ipykernel_12335/840156701.py:3: UserWarning: \n",
      "\n",
      "`distplot` is a deprecated function and will be removed in seaborn v0.14.0.\n",
      "\n",
      "Please adapt your code to use either `displot` (a figure-level function with\n",
      "similar flexibility) or `histplot` (an axes-level function for histograms).\n",
      "\n",
      "For a guide to updating your code to use the new functions, please see\n",
      "https://gist.github.com/mwaskom/de44147ed2974457ad6372750bbe5751\n",
      "\n",
      "  sns.distplot(house_data_2['price'])\n"
     ]
    },
    {
     "data": {
      "text/plain": [
       "<AxesSubplot: xlabel='price', ylabel='Density'>"
      ]
     },
     "execution_count": 70,
     "metadata": {},
     "output_type": "execute_result"
    },
    {
     "data": {
      "image/png": "[encoded data removed]",
      "text/plain": [
       "<Figure size 800x500 with 1 Axes>"
      ]
     },
     "metadata": {},
     "output_type": "display_data"
    }
   ],
   "source": [
    "house_data_2 = data.loc[(data['price'] >= 0.1) & (data['price'] < 50)]\n",
    "fig,ax = plt.subplots(figsize = (8,5))\n",
    "sns.distplot(house_data_2['price'])"
   ]
  },
  {
   "cell_type": "code",
   "execution_count": 71,
   "metadata": {},
   "outputs": [],
   "source": [
    "house_data = data.loc[(data['price'] >= 0.1) & (data['price'] < 500)]"
   ]
  },
  {
   "cell_type": "code",
   "execution_count": 72,
   "metadata": {},
   "outputs": [
    {
     "name": "stderr",
     "output_type": "stream",
     "text": [
      "/var/folders/_x/886sy6k57y90dfy4fjklx08r0000gn/T/ipykernel_12335/3740483212.py:2: UserWarning: \n",
      "\n",
      "`distplot` is a deprecated function and will be removed in seaborn v0.14.0.\n",
      "\n",
      "Please adapt your code to use either `displot` (a figure-level function with\n",
      "similar flexibility) or `histplot` (an axes-level function for histograms).\n",
      "\n",
      "For a guide to updating your code to use the new functions, please see\n",
      "https://gist.github.com/mwaskom/de44147ed2974457ad6372750bbe5751\n",
      "\n",
      "  sns.distplot(house_data['price'])\n"
     ]
    },
    {
     "data": {
      "text/plain": [
       "<AxesSubplot: xlabel='price', ylabel='Density'>"
      ]
     },
     "execution_count": 72,
     "metadata": {},
     "output_type": "execute_result"
    },
    {
     "data": {
      "image/png": "[encoded data removed]",
      "text/plain": [
       "<Figure size 800x500 with 1 Axes>"
      ]
     },
     "metadata": {},
     "output_type": "display_data"
    }
   ],
   "source": [
    "fig,ax = plt.subplots(figsize = (8,5))\n",
    "sns.distplot(house_data['price'])"
   ]
  },
  {
   "attachments": {},
   "cell_type": "markdown",
   "metadata": {},
   "source": [
    "## Xử lí area"
   ]
  },
  {
   "cell_type": "code",
   "execution_count": 73,
   "metadata": {},
   "outputs": [
    {
     "data": {
      "text/plain": [
       "124"
      ]
     },
     "execution_count": 73,
     "metadata": {},
     "output_type": "execute_result"
    }
   ],
   "source": [
    "house_data['area'].isna().sum()"
   ]
  },
  {
   "cell_type": "code",
   "execution_count": 74,
   "metadata": {},
   "outputs": [
    {
     "data": {
      "text/plain": [
       "count      8142.000000\n",
       "mean         97.477207\n",
       "std        1148.948237\n",
       "min           3.000000\n",
       "25%          43.000000\n",
       "50%          58.000000\n",
       "75%          84.000000\n",
       "max      100103.000000\n",
       "Name: area, dtype: float64"
      ]
     },
     "execution_count": 74,
     "metadata": {},
     "output_type": "execute_result"
    }
   ],
   "source": [
    "house_data['area'].describe()"
   ]
  },
  {
   "cell_type": "code",
   "execution_count": 75,
   "metadata": {},
   "outputs": [],
   "source": [
    "house_data = house_data.loc[(house_data['area'] >= 10) & (house_data['area'] <= 20000)]"
   ]
  },
  {
   "cell_type": "code",
   "execution_count": 76,
   "metadata": {},
   "outputs": [
    {
     "data": {
      "text/plain": [
       "count     8096.000000\n",
       "mean        85.640689\n",
       "std        303.197151\n",
       "min         10.000000\n",
       "25%         44.000000\n",
       "50%         59.000000\n",
       "75%         85.000000\n",
       "max      18264.000000\n",
       "Name: area, dtype: float64"
      ]
     },
     "execution_count": 76,
     "metadata": {},
     "output_type": "execute_result"
    }
   ],
   "source": [
    "house_data['area'].describe()"
   ]
  },
  {
   "cell_type": "code",
   "execution_count": 77,
   "metadata": {},
   "outputs": [
    {
     "name": "stderr",
     "output_type": "stream",
     "text": [
      "/var/folders/_x/886sy6k57y90dfy4fjklx08r0000gn/T/ipykernel_12335/255560388.py:3: UserWarning: \n",
      "\n",
      "`distplot` is a deprecated function and will be removed in seaborn v0.14.0.\n",
      "\n",
      "Please adapt your code to use either `displot` (a figure-level function with\n",
      "similar flexibility) or `histplot` (an axes-level function for histograms).\n",
      "\n",
      "For a guide to updating your code to use the new functions, please see\n",
      "https://gist.github.com/mwaskom/de44147ed2974457ad6372750bbe5751\n",
      "\n",
      "  sns.distplot(house_data_3['area'])\n"
     ]
    },
    {
     "data": {
      "text/plain": [
       "<AxesSubplot: xlabel='area', ylabel='Density'>"
      ]
     },
     "execution_count": 77,
     "metadata": {},
     "output_type": "execute_result"
    },
    {
     "data": {
      "image/png": "[encoded data removed]",
      "text/plain": [
       "<Figure size 800x500 with 1 Axes>"
      ]
     },
     "metadata": {},
     "output_type": "display_data"
    }
   ],
   "source": [
    "house_data_3 = house_data.loc[(house_data['area'] >=10) & (house_data['area'] <=500)]\n",
    "fig,ax = plt.subplots(figsize = (8,5))\n",
    "sns.distplot(house_data_3['area'])"
   ]
  },
  {
   "cell_type": "code",
   "execution_count": 78,
   "metadata": {},
   "outputs": [],
   "source": [
    "# house_data.to_excel('data/houses/house_data.xlsx', index=False)"
   ]
  },
  {
   "attachments": {},
   "cell_type": "markdown",
   "metadata": {},
   "source": [
    "## Thử nghiệm KNN cho missing values"
   ]
  },
  {
   "cell_type": "code",
   "execution_count": 79,
   "metadata": {},
   "outputs": [],
   "source": [
    "not_null_houses = house_data.dropna() # phải lấy house_data lúc còn null (trước khi fill ở phần trên)\n",
    "not_null_houses.to_excel('data/not_null_houses.xlsx',index=False)"
   ]
  },
  {
   "cell_type": "code",
   "execution_count": 80,
   "metadata": {},
   "outputs": [
    {
     "name": "stdout",
     "output_type": "stream",
     "text": [
      "[5943 3849 7109 8316 4182 6833 1149 3039 7787 7530 8379 5634 5955 3817\n",
      " 6727 8072 5887 8398 2158   49 7971 1714 6538 3990 2703 1615 7416 8045\n",
      " 6493 1331 3365 5120 1599 2002 2975 1723 4246 3841 3411 7153 3765  251\n",
      " 1593 3878 6078  338 3112 1339  526 5972]\n",
      "[5858 5943 3580 2480 6536 8262 3472 2340 6989 5638 3412 5364  662 7167\n",
      " 8233 4268 3521 7754 2009 7334 7844 1610 8516 2934 1051 7530 3823 5243\n",
      "  695 2551 5233 4330 1499 2000 4586 5133 2184 2259 2963 7414 8066 8057\n",
      " 1691 7238 3600 2225 3680 5575 5228 3179]\n"
     ]
    }
   ],
   "source": [
    "i1 = np.random.choice(a=not_null_houses.index, size=50)\n",
    "i2 = np.random.choice(a=not_null_houses.index, size=50)\n",
    "print(i1)\n",
    "print(i2)"
   ]
  },
  {
   "cell_type": "code",
   "execution_count": 81,
   "metadata": {},
   "outputs": [
    {
     "data": {
      "text/plain": [
       "area          0\n",
       "num_floors    0\n",
       "bedrooms      0\n",
       "price         0\n",
       "dtype: int64"
      ]
     },
     "execution_count": 81,
     "metadata": {},
     "output_type": "execute_result"
    }
   ],
   "source": [
    "null_houses = pd.DataFrame({'area':not_null_houses['area'],'num_floors':not_null_houses['num_floors'],'bedrooms':not_null_houses['bedrooms'],'price':not_null_houses['price']})\n",
    "null_houses.isna().sum()"
   ]
  },
  {
   "cell_type": "code",
   "execution_count": 82,
   "metadata": {},
   "outputs": [],
   "source": [
    "null_houses.loc[i1, 'num_floors'] = np.nan\n",
    "null_houses.loc[i2, 'bedrooms'] = np.nan"
   ]
  },
  {
   "cell_type": "code",
   "execution_count": 83,
   "metadata": {},
   "outputs": [],
   "source": [
    "#null_houses.loc[164]"
   ]
  },
  {
   "cell_type": "code",
   "execution_count": 84,
   "metadata": {},
   "outputs": [
    {
     "data": {
      "text/plain": [
       "area           0\n",
       "num_floors    50\n",
       "bedrooms      50\n",
       "price          0\n",
       "dtype: int64"
      ]
     },
     "execution_count": 84,
     "metadata": {},
     "output_type": "execute_result"
    }
   ],
   "source": [
    "null_houses.isna().sum()"
   ]
  },
  {
   "cell_type": "code",
   "execution_count": 85,
   "metadata": {},
   "outputs": [],
   "source": [
    "from sklearn.model_selection import train_test_split\n",
    "from sklearn.ensemble import RandomForestRegressor\n",
    "from sklearn.metrics import mean_squared_error\n",
    "from sklearn.impute import KNNImputer\n",
    "\n",
    "rmse = lambda y, yhat: np.sqrt(mean_squared_error(y, yhat))"
   ]
  },
  {
   "cell_type": "code",
   "execution_count": 86,
   "metadata": {},
   "outputs": [],
   "source": [
    "def optimize_k(data, target):\n",
    "    errors = []\n",
    "    for k in range(1, 20, 2):\n",
    "        imputer = KNNImputer(n_neighbors=k)\n",
    "        imputed = imputer.fit_transform(data)\n",
    "        df_imputed = pd.DataFrame(imputed, columns=data.columns)\n",
    "        \n",
    "        X = df_imputed.drop(target, axis=1)\n",
    "        y = df_imputed[target]\n",
    "        X_train, X_test, y_train, y_test = train_test_split(X, y, test_size=0.2, random_state=42)\n",
    "\n",
    "        model = RandomForestRegressor()\n",
    "        model.fit(X_train, y_train)\n",
    "        preds = model.predict(X_test)\n",
    "        error = rmse(y_test, preds)\n",
    "        errors.append({'K': k, 'RMSE': error})\n",
    "        \n",
    "    return errors"
   ]
  },
  {
   "cell_type": "code",
   "execution_count": 87,
   "metadata": {},
   "outputs": [
    {
     "name": "stdout",
     "output_type": "stream",
     "text": [
      "[{'K': 1, 'RMSE': 21.804302832974283}, {'K': 3, 'RMSE': 21.722800285021478}, {'K': 5, 'RMSE': 21.77756354818173}, {'K': 7, 'RMSE': 21.76964535307924}, {'K': 9, 'RMSE': 21.91700081386671}, {'K': 11, 'RMSE': 21.824701633639418}, {'K': 13, 'RMSE': 21.808828299386175}, {'K': 15, 'RMSE': 21.807714508022716}, {'K': 17, 'RMSE': 21.750035243503156}, {'K': 19, 'RMSE': 21.856286536645328}]\n"
     ]
    }
   ],
   "source": [
    "k_errors = optimize_k(data=null_houses, target='price')\n",
    "print(k_errors)"
   ]
  },
  {
   "cell_type": "code",
   "execution_count": 88,
   "metadata": {},
   "outputs": [],
   "source": [
    "imputer_test = KNNImputer(n_neighbors=13)\n",
    "imputed_test = imputer_test.fit_transform(null_houses)\n",
    "df_imputed_test = pd.DataFrame(imputed_test, columns=null_houses.columns)"
   ]
  },
  {
   "cell_type": "code",
   "execution_count": 89,
   "metadata": {},
   "outputs": [
    {
     "data": {
      "text/plain": [
       "area          0\n",
       "num_floors    0\n",
       "bedrooms      0\n",
       "price         0\n",
       "dtype: int64"
      ]
     },
     "execution_count": 89,
     "metadata": {},
     "output_type": "execute_result"
    }
   ],
   "source": [
    "df_imputed_test.isna().sum()\n",
    "# df_imputed_test.to_excel('data/df_imputed_test.xlsx',index=False)"
   ]
  },
  {
   "attachments": {},
   "cell_type": "markdown",
   "metadata": {},
   "source": [
    "Note: so sánh not_null_houses.xlsx và df_imputed_test.xlsx"
   ]
  },
  {
   "attachments": {},
   "cell_type": "markdown",
   "metadata": {},
   "source": [
    "## Xử lý num_floors và bedrooms"
   ]
  },
  {
   "cell_type": "code",
   "execution_count": 90,
   "metadata": {},
   "outputs": [
    {
     "data": {
      "text/plain": [
       "houseTypes       0\n",
       "area             0\n",
       "num_floors    1680\n",
       "bedrooms      1709\n",
       "district         0\n",
       "city             0\n",
       "price            0\n",
       "url              0\n",
       "dtype: int64"
      ]
     },
     "execution_count": 90,
     "metadata": {},
     "output_type": "execute_result"
    }
   ],
   "source": [
    "house_data.isna().sum()"
   ]
  },
  {
   "cell_type": "code",
   "execution_count": 91,
   "metadata": {},
   "outputs": [
    {
     "data": {
      "text/plain": [
       "houseTypes       0\n",
       "area             0\n",
       "num_floors    1700\n",
       "bedrooms      1709\n",
       "district         0\n",
       "city             0\n",
       "price            0\n",
       "url              0\n",
       "dtype: int64"
      ]
     },
     "execution_count": 91,
     "metadata": {},
     "output_type": "execute_result"
    }
   ],
   "source": [
    "house_data.loc[house_data['num_floors'] > 11, 'num_floors'] = None\n",
    "house_data.isna().sum()"
   ]
  },
  {
   "cell_type": "code",
   "execution_count": 92,
   "metadata": {},
   "outputs": [
    {
     "name": "stderr",
     "output_type": "stream",
     "text": [
      "/var/folders/_x/886sy6k57y90dfy4fjklx08r0000gn/T/ipykernel_12335/4248583683.py:2: UserWarning: \n",
      "\n",
      "`distplot` is a deprecated function and will be removed in seaborn v0.14.0.\n",
      "\n",
      "Please adapt your code to use either `displot` (a figure-level function with\n",
      "similar flexibility) or `histplot` (an axes-level function for histograms).\n",
      "\n",
      "For a guide to updating your code to use the new functions, please see\n",
      "https://gist.github.com/mwaskom/de44147ed2974457ad6372750bbe5751\n",
      "\n",
      "  sns.distplot(house_data['num_floors'])\n"
     ]
    },
    {
     "data": {
      "text/plain": [
       "<AxesSubplot: xlabel='num_floors', ylabel='Density'>"
      ]
     },
     "execution_count": 92,
     "metadata": {},
     "output_type": "execute_result"
    },
    {
     "data": {
      "image/png": "[encoded data removed]",
      "text/plain": [
       "<Figure size 800x500 with 1 Axes>"
      ]
     },
     "metadata": {},
     "output_type": "display_data"
    }
   ],
   "source": [
    "fig,ax = plt.subplots(figsize = (8,5))\n",
    "sns.distplot(house_data['num_floors'])"
   ]
  },
  {
   "cell_type": "code",
   "execution_count": 93,
   "metadata": {},
   "outputs": [
    {
     "name": "stderr",
     "output_type": "stream",
     "text": [
      "/var/folders/_x/886sy6k57y90dfy4fjklx08r0000gn/T/ipykernel_12335/2031751330.py:2: UserWarning: \n",
      "\n",
      "`distplot` is a deprecated function and will be removed in seaborn v0.14.0.\n",
      "\n",
      "Please adapt your code to use either `displot` (a figure-level function with\n",
      "similar flexibility) or `histplot` (an axes-level function for histograms).\n",
      "\n",
      "For a guide to updating your code to use the new functions, please see\n",
      "https://gist.github.com/mwaskom/de44147ed2974457ad6372750bbe5751\n",
      "\n",
      "  sns.distplot(house_data['bedrooms'])\n"
     ]
    },
    {
     "data": {
      "text/plain": [
       "<AxesSubplot: xlabel='bedrooms', ylabel='Density'>"
      ]
     },
     "execution_count": 93,
     "metadata": {},
     "output_type": "execute_result"
    },
    {
     "data": {
      "image/png": "[encoded data removed]",
      "text/plain": [
       "<Figure size 800x500 with 1 Axes>"
      ]
     },
     "metadata": {},
     "output_type": "display_data"
    }
   ],
   "source": [
    "fig,ax = plt.subplots(figsize = (8,5))\n",
    "sns.distplot(house_data['bedrooms'])"
   ]
  },
  {
   "cell_type": "code",
   "execution_count": 94,
   "metadata": {},
   "outputs": [
    {
     "data": {
      "text/plain": [
       "area             0\n",
       "num_floors    1700\n",
       "bedrooms      1709\n",
       "price            0\n",
       "dtype: int64"
      ]
     },
     "execution_count": 94,
     "metadata": {},
     "output_type": "execute_result"
    }
   ],
   "source": [
    "numeric_houses = pd.DataFrame({'area':house_data['area'],'num_floors':house_data['num_floors'],'bedrooms':house_data['bedrooms'],'price':house_data['price']})\n",
    "numeric_houses.isna().sum()"
   ]
  },
  {
   "cell_type": "code",
   "execution_count": 95,
   "metadata": {},
   "outputs": [
    {
     "data": {
      "text/plain": [
       "8096"
      ]
     },
     "execution_count": 95,
     "metadata": {},
     "output_type": "execute_result"
    }
   ],
   "source": [
    "len(numeric_houses)"
   ]
  },
  {
   "cell_type": "code",
   "execution_count": 96,
   "metadata": {},
   "outputs": [],
   "source": [
    "from sklearn.model_selection import train_test_split\n",
    "from sklearn.ensemble import RandomForestRegressor\n",
    "from sklearn.metrics import mean_squared_error\n",
    "from sklearn.impute import KNNImputer\n",
    "\n",
    "rmse = lambda y, yhat: np.sqrt(mean_squared_error(y, yhat))"
   ]
  },
  {
   "cell_type": "code",
   "execution_count": 97,
   "metadata": {},
   "outputs": [],
   "source": [
    "def optimize_k(data, target):\n",
    "    errors = []\n",
    "    for k in range(1, 20):\n",
    "        imputer = KNNImputer(n_neighbors=k)\n",
    "        imputed = imputer.fit_transform(data)\n",
    "        df_imputed = pd.DataFrame(imputed, columns=data.columns)\n",
    "        \n",
    "        X = df_imputed.drop(target, axis=1)\n",
    "        y = df_imputed[target]\n",
    "        X_train, X_test, y_train, y_test = train_test_split(X, y, test_size=0.2, random_state=42)\n",
    "\n",
    "        model = RandomForestRegressor()\n",
    "        model.fit(X_train, y_train)\n",
    "        preds = model.predict(X_test)\n",
    "        error = rmse(y_test, preds)\n",
    "        errors.append({'K': k, 'RMSE': error})\n",
    "        \n",
    "    return errors"
   ]
  },
  {
   "cell_type": "code",
   "execution_count": 98,
   "metadata": {},
   "outputs": [
    {
     "data": {
      "text/plain": [
       "area             0\n",
       "num_floors    1700\n",
       "bedrooms      1709\n",
       "price            0\n",
       "dtype: int64"
      ]
     },
     "execution_count": 98,
     "metadata": {},
     "output_type": "execute_result"
    }
   ],
   "source": [
    "test_numeric_house = numeric_houses.copy()\n",
    "test_numeric_house.isna().sum()"
   ]
  },
  {
   "cell_type": "code",
   "execution_count": 99,
   "metadata": {},
   "outputs": [
    {
     "name": "stdout",
     "output_type": "stream",
     "text": [
      "[{'K': 1, 'RMSE': 16.638000250760296}, {'K': 2, 'RMSE': 19.248312391461806}, {'K': 3, 'RMSE': 19.17219307871966}, {'K': 4, 'RMSE': 19.175569189983}, {'K': 5, 'RMSE': 18.610365400330274}, {'K': 6, 'RMSE': 19.41676615080051}, {'K': 7, 'RMSE': 18.277393438042036}, {'K': 8, 'RMSE': 18.807150828368293}, {'K': 9, 'RMSE': 18.0746806680686}, {'K': 10, 'RMSE': 18.573653225677422}, {'K': 11, 'RMSE': 18.662372809986028}, {'K': 12, 'RMSE': 18.07484198976305}, {'K': 13, 'RMSE': 17.31879186755586}, {'K': 14, 'RMSE': 17.780478046280553}, {'K': 15, 'RMSE': 17.77540391656078}, {'K': 16, 'RMSE': 17.5424514291122}, {'K': 17, 'RMSE': 17.472632758403545}, {'K': 18, 'RMSE': 17.66962469527138}, {'K': 19, 'RMSE': 17.485468470272952}]\n"
     ]
    }
   ],
   "source": [
    "k_errors = optimize_k(data=test_numeric_house, target='price')\n",
    "print(k_errors)"
   ]
  },
  {
   "cell_type": "code",
   "execution_count": 100,
   "metadata": {},
   "outputs": [],
   "source": [
    "imputer = KNNImputer(n_neighbors=17)\n",
    "imputed = imputer.fit_transform(numeric_houses)\n",
    "df_imputed = pd.DataFrame(imputed, columns=numeric_houses.columns)"
   ]
  },
  {
   "cell_type": "code",
   "execution_count": 101,
   "metadata": {},
   "outputs": [
    {
     "data": {
      "text/plain": [
       "area          0\n",
       "num_floors    0\n",
       "bedrooms      0\n",
       "price         0\n",
       "dtype: int64"
      ]
     },
     "execution_count": 101,
     "metadata": {},
     "output_type": "execute_result"
    }
   ],
   "source": [
    "df_imputed.isna().sum()"
   ]
  },
  {
   "cell_type": "code",
   "execution_count": 102,
   "metadata": {},
   "outputs": [
    {
     "data": {
      "text/plain": [
       "count    8096.000000\n",
       "mean        3.791567\n",
       "std         3.246014\n",
       "min         1.000000\n",
       "25%         2.705882\n",
       "50%         3.000000\n",
       "75%         4.000000\n",
       "max       111.000000\n",
       "Name: bedrooms, dtype: float64"
      ]
     },
     "execution_count": 102,
     "metadata": {},
     "output_type": "execute_result"
    }
   ],
   "source": [
    "df_imputed['bedrooms'].describe()"
   ]
  },
  {
   "cell_type": "code",
   "execution_count": 103,
   "metadata": {},
   "outputs": [],
   "source": [
    "# numeric_houses.to_excel('numeric_houses.xlsx',index=False)\n",
    "# df_imputed.to_excel('df_imputed.xlsx',index=False)"
   ]
  },
  {
   "cell_type": "code",
   "execution_count": 104,
   "metadata": {},
   "outputs": [],
   "source": [
    "house_data = house_data.reset_index()"
   ]
  },
  {
   "cell_type": "code",
   "execution_count": 105,
   "metadata": {},
   "outputs": [],
   "source": [
    "house_data['new_num_floors'] = df_imputed['num_floors'].round(0)\n",
    "house_data['new_bedrooms'] = df_imputed['bedrooms'].round(0)"
   ]
  },
  {
   "cell_type": "code",
   "execution_count": 106,
   "metadata": {},
   "outputs": [
    {
     "data": {
      "text/plain": [
       "index                0\n",
       "houseTypes           0\n",
       "area                 0\n",
       "num_floors        1700\n",
       "bedrooms          1709\n",
       "district             0\n",
       "city                 0\n",
       "price                0\n",
       "url                  0\n",
       "new_num_floors       0\n",
       "new_bedrooms         0\n",
       "dtype: int64"
      ]
     },
     "execution_count": 106,
     "metadata": {},
     "output_type": "execute_result"
    }
   ],
   "source": [
    "house_data.isna().sum()"
   ]
  },
  {
   "cell_type": "code",
   "execution_count": 107,
   "metadata": {},
   "outputs": [],
   "source": [
    "house_data.drop(['url','index','num_floors','bedrooms'],axis=1,inplace=True)\n",
    "house_data = house_data[['houseTypes','area','new_num_floors','new_bedrooms','district','city','price']]"
   ]
  },
  {
   "cell_type": "code",
   "execution_count": 108,
   "metadata": {},
   "outputs": [
    {
     "data": {
      "text/html": [
       "<div>\n",
       "<style scoped>\n",
       "    .dataframe tbody tr th:only-of-type {\n",
       "        vertical-align: middle;\n",
       "    }\n",
       "\n",
       "    .dataframe tbody tr th {\n",
       "        vertical-align: top;\n",
       "    }\n",
       "\n",
       "    .dataframe thead th {\n",
       "        text-align: right;\n",
       "    }\n",
       "</style>\n",
       "<table border=\"1\" class=\"dataframe\">\n",
       "  <thead>\n",
       "    <tr style=\"text-align: right;\">\n",
       "      <th></th>\n",
       "      <th>houseTypes</th>\n",
       "      <th>area</th>\n",
       "      <th>new_num_floors</th>\n",
       "      <th>new_bedrooms</th>\n",
       "      <th>district</th>\n",
       "      <th>city</th>\n",
       "      <th>price</th>\n",
       "    </tr>\n",
       "  </thead>\n",
       "  <tbody>\n",
       "    <tr>\n",
       "      <th>0</th>\n",
       "      <td>Bán Nhà riêng</td>\n",
       "      <td>130.0</td>\n",
       "      <td>3.0</td>\n",
       "      <td>7.0</td>\n",
       "      <td>Quận 12</td>\n",
       "      <td>TP Hồ Chí Minh</td>\n",
       "      <td>9.20</td>\n",
       "    </tr>\n",
       "    <tr>\n",
       "      <th>1</th>\n",
       "      <td>Bán Nhà riêng</td>\n",
       "      <td>65.0</td>\n",
       "      <td>2.0</td>\n",
       "      <td>2.0</td>\n",
       "      <td>Ngũ Hành Sơn</td>\n",
       "      <td>Đà Nẵng</td>\n",
       "      <td>2.90</td>\n",
       "    </tr>\n",
       "    <tr>\n",
       "      <th>2</th>\n",
       "      <td>Bán Nhà riêng</td>\n",
       "      <td>90.0</td>\n",
       "      <td>5.0</td>\n",
       "      <td>5.0</td>\n",
       "      <td>Hai Bà Trưng</td>\n",
       "      <td>Hà Nội</td>\n",
       "      <td>14.00</td>\n",
       "    </tr>\n",
       "    <tr>\n",
       "      <th>3</th>\n",
       "      <td>Bán Nhà riêng</td>\n",
       "      <td>30.0</td>\n",
       "      <td>1.0</td>\n",
       "      <td>2.0</td>\n",
       "      <td>Gò Vấp</td>\n",
       "      <td>TP Hồ Chí Minh</td>\n",
       "      <td>3.70</td>\n",
       "    </tr>\n",
       "    <tr>\n",
       "      <th>4</th>\n",
       "      <td>Bán Nhà riêng</td>\n",
       "      <td>38.0</td>\n",
       "      <td>3.0</td>\n",
       "      <td>3.0</td>\n",
       "      <td>Bình Thạnh</td>\n",
       "      <td>TP Hồ Chí Minh</td>\n",
       "      <td>4.40</td>\n",
       "    </tr>\n",
       "    <tr>\n",
       "      <th>...</th>\n",
       "      <td>...</td>\n",
       "      <td>...</td>\n",
       "      <td>...</td>\n",
       "      <td>...</td>\n",
       "      <td>...</td>\n",
       "      <td>...</td>\n",
       "      <td>...</td>\n",
       "    </tr>\n",
       "    <tr>\n",
       "      <th>8091</th>\n",
       "      <td>Bán Nhà riêng</td>\n",
       "      <td>61.0</td>\n",
       "      <td>3.0</td>\n",
       "      <td>4.0</td>\n",
       "      <td>Gò Vấp</td>\n",
       "      <td>TP Hồ Chí Minh</td>\n",
       "      <td>9.50</td>\n",
       "    </tr>\n",
       "    <tr>\n",
       "      <th>8092</th>\n",
       "      <td>Bán Nhà riêng</td>\n",
       "      <td>64.0</td>\n",
       "      <td>3.0</td>\n",
       "      <td>5.0</td>\n",
       "      <td>Bình Thạnh</td>\n",
       "      <td>TP Hồ Chí Minh</td>\n",
       "      <td>9.50</td>\n",
       "    </tr>\n",
       "    <tr>\n",
       "      <th>8093</th>\n",
       "      <td>Bán Nhà riêng</td>\n",
       "      <td>60.0</td>\n",
       "      <td>3.0</td>\n",
       "      <td>3.0</td>\n",
       "      <td>Tân Phú</td>\n",
       "      <td>TP Hồ Chí Minh</td>\n",
       "      <td>5.40</td>\n",
       "    </tr>\n",
       "    <tr>\n",
       "      <th>8094</th>\n",
       "      <td>Bán Nhà riêng</td>\n",
       "      <td>90.0</td>\n",
       "      <td>2.0</td>\n",
       "      <td>2.0</td>\n",
       "      <td>Biên Hòa</td>\n",
       "      <td>Đồng Nai</td>\n",
       "      <td>2.85</td>\n",
       "    </tr>\n",
       "    <tr>\n",
       "      <th>8095</th>\n",
       "      <td>Bán Nhà riêng</td>\n",
       "      <td>60.0</td>\n",
       "      <td>5.0</td>\n",
       "      <td>4.0</td>\n",
       "      <td>Gò Vấp</td>\n",
       "      <td>TP Hồ Chí Minh</td>\n",
       "      <td>7.93</td>\n",
       "    </tr>\n",
       "  </tbody>\n",
       "</table>\n",
       "<p>8096 rows × 7 columns</p>\n",
       "</div>"
      ],
      "text/plain": [
       "         houseTypes   area  new_num_floors  new_bedrooms      district  \\\n",
       "0     Bán Nhà riêng  130.0             3.0           7.0       Quận 12   \n",
       "1     Bán Nhà riêng   65.0             2.0           2.0  Ngũ Hành Sơn   \n",
       "2     Bán Nhà riêng   90.0             5.0           5.0  Hai Bà Trưng   \n",
       "3     Bán Nhà riêng   30.0             1.0           2.0        Gò Vấp   \n",
       "4     Bán Nhà riêng   38.0             3.0           3.0    Bình Thạnh   \n",
       "...             ...    ...             ...           ...           ...   \n",
       "8091  Bán Nhà riêng   61.0             3.0           4.0        Gò Vấp   \n",
       "8092  Bán Nhà riêng   64.0             3.0           5.0    Bình Thạnh   \n",
       "8093  Bán Nhà riêng   60.0             3.0           3.0       Tân Phú   \n",
       "8094  Bán Nhà riêng   90.0             2.0           2.0      Biên Hòa   \n",
       "8095  Bán Nhà riêng   60.0             5.0           4.0        Gò Vấp   \n",
       "\n",
       "                city  price  \n",
       "0     TP Hồ Chí Minh   9.20  \n",
       "1            Đà Nẵng   2.90  \n",
       "2             Hà Nội  14.00  \n",
       "3     TP Hồ Chí Minh   3.70  \n",
       "4     TP Hồ Chí Minh   4.40  \n",
       "...              ...    ...  \n",
       "8091  TP Hồ Chí Minh   9.50  \n",
       "8092  TP Hồ Chí Minh   9.50  \n",
       "8093  TP Hồ Chí Minh   5.40  \n",
       "8094        Đồng Nai   2.85  \n",
       "8095  TP Hồ Chí Minh   7.93  \n",
       "\n",
       "[8096 rows x 7 columns]"
      ]
     },
     "execution_count": 108,
     "metadata": {},
     "output_type": "execute_result"
    }
   ],
   "source": [
    "house_data.to_excel('full_houses.xlsx', index=False)\n",
    "house_data"
   ]
  },
  {
   "attachments": {},
   "cell_type": "markdown",
   "metadata": {},
   "source": [
    "## Encoding"
   ]
  },
  {
   "cell_type": "code",
   "execution_count": 109,
   "metadata": {},
   "outputs": [],
   "source": [
    "house_data = pd.read_excel('full_houses.xlsx')"
   ]
  },
  {
   "cell_type": "code",
   "execution_count": 110,
   "metadata": {},
   "outputs": [
    {
     "name": "stdout",
     "output_type": "stream",
     "text": [
      "    area  new_num_floors  new_bedrooms  price  city_encoder  district_encoder  \\\n",
      "0  130.0               3             7    9.2      9.292954          8.661038   \n",
      "1   65.0               2             2    2.9      7.417350          7.708597   \n",
      "2   90.0               5             5   14.0     11.089988          8.835714   \n",
      "3   30.0               1             2    3.7      9.292954          6.731978   \n",
      "4   38.0               3             3    4.4      9.292954         11.315324   \n",
      "5   45.0               2             2    3.9      9.292954          7.525423   \n",
      "6   51.0               6             4   12.7      9.292954          6.731978   \n",
      "7   50.0               4             4   25.0     11.089988         14.754023   \n",
      "8  160.0               3             3    4.5      8.617771          8.617771   \n",
      "9   48.0               5             4    7.4      9.292954          6.731978   \n",
      "\n",
      "   houseTypes_encoder  \n",
      "0            7.343849  \n",
      "1            7.343849  \n",
      "2            7.343849  \n",
      "3            7.343849  \n",
      "4            7.343849  \n",
      "5            7.343849  \n",
      "6            7.343849  \n",
      "7           15.706045  \n",
      "8           15.706045  \n",
      "9            7.343849  \n"
     ]
    }
   ],
   "source": [
    "import category_encoders as ce\n",
    "\n",
    "# encoding city\n",
    "target_encoder =ce.TargetEncoder() \n",
    "new = target_encoder.fit_transform(house_data[['city','district','houseTypes']],house_data['price'])\n",
    "new = new.rename(columns={'city':'city_encoder','district':'district_encoder','houseTypes':'houseTypes_encoder'})\n",
    "data_encoded = pd.concat([house_data, new], axis=1)\n",
    "\n",
    "\n",
    "# Xóa các cột gốc trong biến data\n",
    "data_encoded.drop(['houseTypes','city','district'], axis=1, inplace=True)\n",
    "\n",
    "\n",
    "print(data_encoded.head(10))"
   ]
  },
  {
   "cell_type": "code",
   "execution_count": 111,
   "metadata": {},
   "outputs": [],
   "source": [
    "area_lower, area_upper = data_encoded.area.mean() - data_encoded.area.std()*3, data_encoded.area.mean() + data_encoded.area.std()*3\n",
    "floor_lower, floor_upper = data_encoded.new_num_floors.mean() - data_encoded.new_num_floors.std()*3, data_encoded.new_num_floors.mean() + data_encoded.new_num_floors.std()*3\n",
    "bedroom_lower, bedroom_upper = data_encoded.new_bedrooms.mean() - data_encoded.new_bedrooms.std()*3, data_encoded.new_bedrooms.mean() + data_encoded.new_bedrooms.std()*3\n",
    "city_lower, city_upper = data_encoded.city_encoder.mean() - data_encoded.city_encoder.std()*3, data_encoded.city_encoder.mean() + data_encoded.city_encoder.std()*3\n",
    "district_lower, district_upper = data_encoded.district_encoder.mean() - data_encoded.district_encoder.std()*3, data_encoded.district_encoder.mean() + data_encoded.district_encoder.std()*3\n",
    "type_lower, type_upper = data_encoded.houseTypes_encoder.mean() - data_encoded.houseTypes_encoder.std()*3, data_encoded.houseTypes_encoder.mean() + data_encoded.houseTypes_encoder.std()*3\n",
    "price_lower, price_upper = data_encoded.price.mean() - data_encoded.price.std()*3, data_encoded.price.mean() + data_encoded.price.std()*3\n"
   ]
  },
  {
   "cell_type": "code",
   "execution_count": 112,
   "metadata": {},
   "outputs": [],
   "source": [
    "clean_data = data_encoded.loc[(data_encoded['area'] >= area_lower) & (data_encoded['area'] <= area_upper)]\n",
    "clean_data = clean_data.loc[(clean_data['new_num_floors'] >= floor_lower) & (clean_data['new_num_floors'] <= floor_upper)]\n",
    "clean_data = clean_data.loc[(clean_data['new_bedrooms'] >= bedroom_lower) & (clean_data['new_bedrooms'] <= bedroom_upper)]\n",
    "clean_data = clean_data.loc[(clean_data['city_encoder'] >= city_lower) & (clean_data['city_encoder'] <= city_upper)]\n",
    "clean_data = clean_data.loc[(clean_data['district_encoder'] >= district_lower) & (clean_data['district_encoder'] <= district_upper)]\n",
    "clean_data = clean_data.loc[(clean_data['houseTypes_encoder'] >= type_lower) & (clean_data['houseTypes_encoder'] <= type_upper)]\n",
    "clean_data = clean_data.loc[(clean_data['price'] >= price_lower) & (clean_data['price'] <= price_upper)]"
   ]
  },
  {
   "cell_type": "code",
   "execution_count": 113,
   "metadata": {},
   "outputs": [
    {
     "data": {
      "text/html": [
       "<div>\n",
       "<style scoped>\n",
       "    .dataframe tbody tr th:only-of-type {\n",
       "        vertical-align: middle;\n",
       "    }\n",
       "\n",
       "    .dataframe tbody tr th {\n",
       "        vertical-align: top;\n",
       "    }\n",
       "\n",
       "    .dataframe thead th {\n",
       "        text-align: right;\n",
       "    }\n",
       "</style>\n",
       "<table border=\"1\" class=\"dataframe\">\n",
       "  <thead>\n",
       "    <tr style=\"text-align: right;\">\n",
       "      <th></th>\n",
       "      <th>area</th>\n",
       "      <th>new_num_floors</th>\n",
       "      <th>new_bedrooms</th>\n",
       "      <th>price</th>\n",
       "      <th>city_encoder</th>\n",
       "      <th>district_encoder</th>\n",
       "      <th>houseTypes_encoder</th>\n",
       "    </tr>\n",
       "  </thead>\n",
       "  <tbody>\n",
       "    <tr>\n",
       "      <th>count</th>\n",
       "      <td>7497.000000</td>\n",
       "      <td>7497.000000</td>\n",
       "      <td>7497.000000</td>\n",
       "      <td>7497.000000</td>\n",
       "      <td>7497.000000</td>\n",
       "      <td>7497.000000</td>\n",
       "      <td>7497.000000</td>\n",
       "    </tr>\n",
       "    <tr>\n",
       "      <th>mean</th>\n",
       "      <td>71.332093</td>\n",
       "      <td>3.114179</td>\n",
       "      <td>3.542484</td>\n",
       "      <td>7.117202</td>\n",
       "      <td>9.441714</td>\n",
       "      <td>9.086617</td>\n",
       "      <td>9.111822</td>\n",
       "    </tr>\n",
       "    <tr>\n",
       "      <th>std</th>\n",
       "      <td>58.924419</td>\n",
       "      <td>1.391786</td>\n",
       "      <td>1.534759</td>\n",
       "      <td>6.909489</td>\n",
       "      <td>1.372277</td>\n",
       "      <td>2.897918</td>\n",
       "      <td>3.465229</td>\n",
       "    </tr>\n",
       "    <tr>\n",
       "      <th>min</th>\n",
       "      <td>10.000000</td>\n",
       "      <td>1.000000</td>\n",
       "      <td>1.000000</td>\n",
       "      <td>0.110000</td>\n",
       "      <td>4.202107</td>\n",
       "      <td>2.926135</td>\n",
       "      <td>6.407138</td>\n",
       "    </tr>\n",
       "    <tr>\n",
       "      <th>25%</th>\n",
       "      <td>42.000000</td>\n",
       "      <td>2.000000</td>\n",
       "      <td>3.000000</td>\n",
       "      <td>3.700000</td>\n",
       "      <td>9.292954</td>\n",
       "      <td>7.387305</td>\n",
       "      <td>7.343849</td>\n",
       "    </tr>\n",
       "    <tr>\n",
       "      <th>50%</th>\n",
       "      <td>56.000000</td>\n",
       "      <td>3.000000</td>\n",
       "      <td>3.000000</td>\n",
       "      <td>5.350000</td>\n",
       "      <td>9.292954</td>\n",
       "      <td>8.786364</td>\n",
       "      <td>7.343849</td>\n",
       "    </tr>\n",
       "    <tr>\n",
       "      <th>75%</th>\n",
       "      <td>80.000000</td>\n",
       "      <td>4.000000</td>\n",
       "      <td>4.000000</td>\n",
       "      <td>7.900000</td>\n",
       "      <td>11.089988</td>\n",
       "      <td>10.744222</td>\n",
       "      <td>7.343849</td>\n",
       "    </tr>\n",
       "    <tr>\n",
       "      <th>max</th>\n",
       "      <td>995.000000</td>\n",
       "      <td>7.000000</td>\n",
       "      <td>13.000000</td>\n",
       "      <td>75.000000</td>\n",
       "      <td>11.480157</td>\n",
       "      <td>16.933277</td>\n",
       "      <td>15.706045</td>\n",
       "    </tr>\n",
       "  </tbody>\n",
       "</table>\n",
       "</div>"
      ],
      "text/plain": [
       "              area  new_num_floors  new_bedrooms        price  city_encoder  \\\n",
       "count  7497.000000     7497.000000   7497.000000  7497.000000   7497.000000   \n",
       "mean     71.332093        3.114179      3.542484     7.117202      9.441714   \n",
       "std      58.924419        1.391786      1.534759     6.909489      1.372277   \n",
       "min      10.000000        1.000000      1.000000     0.110000      4.202107   \n",
       "25%      42.000000        2.000000      3.000000     3.700000      9.292954   \n",
       "50%      56.000000        3.000000      3.000000     5.350000      9.292954   \n",
       "75%      80.000000        4.000000      4.000000     7.900000     11.089988   \n",
       "max     995.000000        7.000000     13.000000    75.000000     11.480157   \n",
       "\n",
       "       district_encoder  houseTypes_encoder  \n",
       "count       7497.000000         7497.000000  \n",
       "mean           9.086617            9.111822  \n",
       "std            2.897918            3.465229  \n",
       "min            2.926135            6.407138  \n",
       "25%            7.387305            7.343849  \n",
       "50%            8.786364            7.343849  \n",
       "75%           10.744222            7.343849  \n",
       "max           16.933277           15.706045  "
      ]
     },
     "execution_count": 113,
     "metadata": {},
     "output_type": "execute_result"
    }
   ],
   "source": [
    "clean_data.describe()"
   ]
  },
  {
   "cell_type": "code",
   "execution_count": 114,
   "metadata": {},
   "outputs": [],
   "source": [
    "clean_data.to_excel('clean_data.xlsx',index=False)"
   ]
  },
  {
   "cell_type": "code",
   "execution_count": 115,
   "metadata": {},
   "outputs": [
    {
     "data": {
      "text/plain": [
       "<AxesSubplot: >"
      ]
     },
     "execution_count": 115,
     "metadata": {},
     "output_type": "execute_result"
    },
    {
     "data": {
      "image/png": "[encoded data removed]",
      "text/plain": [
       "<Figure size 1200x600 with 2 Axes>"
      ]
     },
     "metadata": {},
     "output_type": "display_data"
    }
   ],
   "source": [
    "plt.figure(figsize=(12, 6))\n",
    "sns.heatmap(clean_data.corr(), cmap=\"crest\",fmt = '.2f',linewidths = 2,annot = True)"
   ]
  },
  {
   "cell_type": "code",
   "execution_count": 116,
   "metadata": {},
   "outputs": [
    {
     "data": {
      "text/plain": [
       "array([[<AxesSubplot: title={'center': 'area'}>,\n",
       "        <AxesSubplot: title={'center': 'new_num_floors'}>],\n",
       "       [<AxesSubplot: title={'center': 'new_bedrooms'}>,\n",
       "        <AxesSubplot: title={'center': 'city_encoder'}>],\n",
       "       [<AxesSubplot: title={'center': 'district_encoder'}>,\n",
       "        <AxesSubplot: title={'center': 'houseTypes_encoder'}>]],\n",
       "      dtype=object)"
      ]
     },
     "execution_count": 116,
     "metadata": {},
     "output_type": "execute_result"
    },
    {
     "data": {
      "image/png": "[encoded data removed]",
      "text/plain": [
       "<Figure size 1000x1300 with 6 Axes>"
      ]
     },
     "metadata": {},
     "output_type": "display_data"
    }
   ],
   "source": [
    "features = clean_data.drop(['price'], axis=True)\n",
    "features.hist(figsize=(10,13), bins=50, xlabelsize=8, ylabelsize=8)"
   ]
  },
  {
   "cell_type": "code",
   "execution_count": 125,
   "metadata": {},
   "outputs": [],
   "source": [
    "from sklearn.metrics import mean_absolute_error\n",
    "from sklearn.model_selection import train_test_split\n",
    "from sklearn.preprocessing import StandardScaler, Normalizer\n",
    " \n",
    "X = clean_data.drop(['price'], axis=1)\n",
    "Y = clean_data['price']\n",
    "\n",
    "X = Normalizer().fit_transform(StandardScaler().fit_transform(X.values)) \n",
    "\n",
    "X_train, X_test, y_train, y_test = train_test_split(X, Y, train_size=0.8, test_size=0.2, random_state=0)"
   ]
  },
  {
   "attachments": {},
   "cell_type": "markdown",
   "metadata": {},
   "source": [
    "# MODELS"
   ]
  },
  {
   "cell_type": "code",
   "execution_count": 173,
   "metadata": {},
   "outputs": [],
   "source": [
    "from sklearn import svm\n",
    "from sklearn.svm import SVC\n",
    "import pandas as pd\n",
    "from sklearn.ensemble import RandomForestRegressor\n",
    "from sklearn.linear_model import LinearRegression, LassoCV, RidgeCV\n",
    "from sklearn.model_selection import train_test_split\n",
    "from mlxtend.evaluate import bias_variance_decomp\n",
    "from sklearn.metrics import mean_squared_error, mean_absolute_error, explained_variance_score,mean_absolute_percentage_error\n",
    " \n"
   ]
  },
  {
   "attachments": {},
   "cell_type": "markdown",
   "metadata": {},
   "source": [
    "SVM"
   ]
  },
  {
   "cell_type": "code",
   "execution_count": null,
   "metadata": {},
   "outputs": [],
   "source": [
    "model_SVR = svm.SVR()\n",
    "model_SVR.fit(X_train,y_train)\n",
    "y_pred = model_SVR.predict(X_test)\n",
    " \n",
    "\n",
    "mse = mean_squared_error(y_test, y_pred)\n",
    "mae = mean_absolute_error(y_test, y_pred)\n",
    "evs = explained_variance_score(y_test, y_pred)\n",
    "print(mean_absolute_percentage_error(y_test, y_pred))\n",
    "print(\"MSE: \", mse)\n",
    "print(\"MAE: \", mae)\n",
    "print(\"variance: \", evs)"
   ]
  },
  {
   "attachments": {},
   "cell_type": "markdown",
   "metadata": {},
   "source": [
    "RANDOM FOREST"
   ]
  },
  {
   "cell_type": "code",
   "execution_count": 171,
   "metadata": {},
   "outputs": [
    {
     "name": "stdout",
     "output_type": "stream",
     "text": [
      "0.5065219324917803\n",
      "MSE:  29.233817991425774\n",
      "MAE:  2.5551588895071937\n",
      "variance:  0.32622400712234423\n"
     ]
    }
   ],
   "source": [
    "\n",
    "model_RFR = RandomForestRegressor(n_estimators=10)\n",
    "model_RFR.fit(X_train, y_train)\n",
    "y_pred = model_RFR.predict(X_test)\n",
    " \n",
    "mse = mean_squared_error(y_test, y_pred)\n",
    "mae = mean_absolute_error(y_test, y_pred)\n",
    "evs = explained_variance_score(y_test, y_pred)\n",
    "print(mean_absolute_percentage_error(y_test, y_pred))\n",
    "print(\"MSE: \", mse)\n",
    "print(\"MAE: \", mae)\n",
    "print(\"variance: \", evs)"
   ]
  },
  {
   "attachments": {},
   "cell_type": "markdown",
   "metadata": {},
   "source": [
    "Linear Regression"
   ]
  },
  {
   "cell_type": "code",
   "execution_count": 174,
   "metadata": {},
   "outputs": [
    {
     "name": "stdout",
     "output_type": "stream",
     "text": [
      "0.7641324758937985\n",
      "MSE:  33.981315972225175\n",
      "MAE:  3.3615104140946643\n",
      "variance:  0.21740760710808993\n"
     ]
    }
   ],
   "source": [
    "\n",
    "model_ln = LinearRegression()\n",
    "model_ln.fit(X_train, y_train)\n",
    "y_pred = model_ln.predict(X_test)\n",
    " \n",
    "mse = mean_squared_error(y_test, y_pred)\n",
    "mae = mean_absolute_error(y_test, y_pred)\n",
    "evs = explained_variance_score(y_test, y_pred)\n",
    "print(mean_absolute_percentage_error(y_test, y_pred))\n",
    "print(\"MSE: \", mse)\n",
    "print(\"MAE: \", mae)\n",
    "print(\"variance: \", evs)"
   ]
  },
  {
   "cell_type": "code",
   "execution_count": 175,
   "metadata": {},
   "outputs": [
    {
     "name": "stdout",
     "output_type": "stream",
     "text": [
      "0.7638206211812352\n",
      "MSE:  33.977088265914595\n",
      "MAE:  3.3596581431097103\n",
      "variance:  0.2175049059589822\n"
     ]
    }
   ],
   "source": [
    "model_ls = LassoCV(cv=5)\n",
    "model_ls.fit(X_train, y_train)\n",
    "y_pred = model_ls.predict(X_test)\n",
    " \n",
    "mse = mean_squared_error(y_test, y_pred)\n",
    "mae = mean_absolute_error(y_test, y_pred)\n",
    "evs = explained_variance_score(y_test, y_pred)\n",
    "print(mean_absolute_percentage_error(y_test, y_pred))\n",
    "print(\"MSE: \", mse)\n",
    "print(\"MAE: \", mae)\n",
    "print(\"variance: \", evs)"
   ]
  },
  {
   "cell_type": "code",
   "execution_count": 176,
   "metadata": {},
   "outputs": [
    {
     "name": "stdout",
     "output_type": "stream",
     "text": [
      "0.7624067591705274\n",
      "MSE:  33.96190318689808\n",
      "MAE:  3.3528646121275996\n",
      "variance:  0.2178530179289362\n"
     ]
    }
   ],
   "source": [
    "model_r= RidgeCV(cv=5)\n",
    "model_r.fit(X_train, y_train)\n",
    "y_pred = model_r.predict(X_test)\n",
    " \n",
    "mse = mean_squared_error(y_test, y_pred)\n",
    "mae = mean_absolute_error(y_test, y_pred)\n",
    "evs = explained_variance_score(y_test, y_pred)\n",
    "print(mean_absolute_percentage_error(y_test, y_pred))\n",
    "print(\"MSE: \", mse)\n",
    "print(\"MAE: \", mae)\n",
    "print(\"variance: \", evs)"
   ]
  },
  {
   "cell_type": "code",
   "execution_count": 170,
   "metadata": {},
   "outputs": [],
   "source": [
    "\n",
    "import keras\n",
    "from keras_nlp.layers import TransformerEncoder, TransformerDecoder\n",
    "from tensorflow.keras.models import Sequential\n",
    "from tensorflow.keras.layers import Input, Dense"
   ]
  },
  {
   "attachments": {},
   "cell_type": "markdown",
   "metadata": {},
   "source": [
    "## Simple ANN"
   ]
  },
  {
   "cell_type": "code",
   "execution_count": 158,
   "metadata": {},
   "outputs": [],
   "source": [
    "class ModelRNN(keras.Model):\n",
    "    def __init__(self):\n",
    "        super().__init__()\n",
    "        self.dense1 = keras.layers.Dense(128, activation='relu')\n",
    "        self.dense2 = keras.layers.Dense(128, activation='relu')\n",
    "        self.dense3 = keras.layers.Dense(128, activation='relu')\n",
    "        self.dense4 = keras.layers.Dense(128, activation='relu')\n",
    "        self.dense5 = keras.layers.Dense(128, activation='relu')\n",
    "        self.dense6 = keras.layers.Dense(1, activation='relu')\n",
    "        self.model = Sequential([self.dense1, self.dense2, self.dense3, self.dense4,self.dense5, self.dense6])\n",
    "        \n",
    "    def call(self,inputs):\n",
    "        return self.model(inputs)\n",
    "    \n",
    "    def compile(self, optimizer=\"adam\", loss=\"mse\"):\n",
    "        super().compile(optimizer, loss)\n",
    "        \n",
    "    def fit(self, X_train, y_train, epochs = 10000, batch_size=128):\n",
    "        super().fit(X_train, y_train, epochs, batch_size)\n",
    "        \n",
    "    def evaluation(self, X_test, y_test):\n",
    "        y_pred = self.predict(X_test)\n",
    "        \n",
    "        mse = mean_squared_error(y_test, y_pred)\n",
    "        mae = mean_absolute_error(y_test, y_pred)\n",
    "        evs = explained_variance_score(y_test, y_pred)\n",
    "        print(\"MAPE: \",mean_absolute_percentage_error(y_test, y_pred))\n",
    "        print(\"MSE: \", mse)\n",
    "        print(\"MAE: \", mae)\n",
    "        print(\"variance: \", evs)"
   ]
  },
  {
   "cell_type": "code",
   "execution_count": 159,
   "metadata": {},
   "outputs": [
    {
     "name": "stdout",
     "output_type": "stream",
     "text": [
      "Epoch 1/128\n",
      "1/1 [==============================] - 0s 323ms/step - loss: 99.7844\n",
      "Epoch 2/128\n",
      "1/1 [==============================] - 0s 19ms/step - loss: 99.0141\n",
      "Epoch 3/128\n",
      "1/1 [==============================] - 0s 25ms/step - loss: 98.1299\n",
      "Epoch 4/128\n",
      "1/1 [==============================] - 0s 25ms/step - loss: 97.1213\n",
      "Epoch 5/128\n",
      "1/1 [==============================] - 0s 21ms/step - loss: 95.9435\n",
      "Epoch 6/128\n",
      "1/1 [==============================] - 0s 25ms/step - loss: 94.5372\n",
      "Epoch 7/128\n",
      "1/1 [==============================] - 0s 28ms/step - loss: 92.8472\n",
      "Epoch 8/128\n",
      "1/1 [==============================] - 0s 26ms/step - loss: 90.8243\n",
      "Epoch 9/128\n",
      "1/1 [==============================] - 0s 26ms/step - loss: 88.4108\n",
      "Epoch 10/128\n",
      "1/1 [==============================] - 0s 35ms/step - loss: 85.5473\n",
      "Epoch 11/128\n",
      "1/1 [==============================] - 0s 35ms/step - loss: 82.1695\n",
      "Epoch 12/128\n",
      "1/1 [==============================] - 0s 66ms/step - loss: 78.2080\n",
      "Epoch 13/128\n",
      "1/1 [==============================] - 0s 88ms/step - loss: 73.6050\n",
      "Epoch 14/128\n",
      "1/1 [==============================] - 0s 50ms/step - loss: 68.3648\n",
      "Epoch 15/128\n",
      "1/1 [==============================] - 0s 49ms/step - loss: 62.6083\n",
      "Epoch 16/128\n",
      "1/1 [==============================] - 0s 37ms/step - loss: 56.6274\n",
      "Epoch 17/128\n",
      "1/1 [==============================] - 0s 39ms/step - loss: 50.9645\n",
      "Epoch 18/128\n",
      "1/1 [==============================] - 0s 33ms/step - loss: 46.5173\n",
      "Epoch 19/128\n",
      "1/1 [==============================] - 0s 31ms/step - loss: 44.5098\n",
      "Epoch 20/128\n",
      "1/1 [==============================] - 0s 40ms/step - loss: 45.6273\n",
      "Epoch 21/128\n",
      "1/1 [==============================] - 0s 48ms/step - loss: 48.3120\n",
      "Epoch 22/128\n",
      "1/1 [==============================] - 0s 34ms/step - loss: 49.5535\n",
      "Epoch 23/128\n",
      "1/1 [==============================] - 0s 39ms/step - loss: 48.2626\n",
      "Epoch 24/128\n",
      "1/1 [==============================] - 0s 30ms/step - loss: 45.3974\n",
      "Epoch 25/128\n",
      "1/1 [==============================] - 0s 31ms/step - loss: 42.3428\n",
      "Epoch 26/128\n",
      "1/1 [==============================] - 0s 32ms/step - loss: 40.0149\n",
      "Epoch 27/128\n",
      "1/1 [==============================] - 0s 37ms/step - loss: 38.6977\n",
      "Epoch 28/128\n",
      "1/1 [==============================] - 0s 37ms/step - loss: 38.2179\n",
      "Epoch 29/128\n",
      "1/1 [==============================] - 0s 35ms/step - loss: 38.2167\n",
      "Epoch 30/128\n",
      "1/1 [==============================] - 0s 31ms/step - loss: 38.3468\n",
      "Epoch 31/128\n",
      "1/1 [==============================] - 0s 34ms/step - loss: 38.3718\n",
      "Epoch 32/128\n",
      "1/1 [==============================] - 0s 34ms/step - loss: 38.1730\n",
      "Epoch 33/128\n",
      "1/1 [==============================] - 0s 29ms/step - loss: 37.7291\n",
      "Epoch 34/128\n",
      "1/1 [==============================] - 0s 27ms/step - loss: 37.0940\n",
      "Epoch 35/128\n",
      "1/1 [==============================] - 0s 30ms/step - loss: 36.3747\n",
      "Epoch 36/128\n",
      "1/1 [==============================] - 0s 32ms/step - loss: 35.7079\n",
      "Epoch 37/128\n",
      "1/1 [==============================] - 0s 36ms/step - loss: 35.2285\n",
      "Epoch 38/128\n",
      "1/1 [==============================] - 0s 33ms/step - loss: 35.0225\n",
      "Epoch 39/128\n",
      "1/1 [==============================] - 0s 26ms/step - loss: 35.0755\n",
      "Epoch 40/128\n",
      "1/1 [==============================] - 0s 29ms/step - loss: 35.2550\n",
      "Epoch 41/128\n",
      "1/1 [==============================] - 0s 30ms/step - loss: 35.3681\n",
      "Epoch 42/128\n",
      "1/1 [==============================] - 0s 25ms/step - loss: 35.2773\n",
      "Epoch 43/128\n",
      "1/1 [==============================] - 0s 31ms/step - loss: 34.9804\n",
      "Epoch 44/128\n",
      "1/1 [==============================] - 0s 29ms/step - loss: 34.5870\n",
      "Epoch 45/128\n",
      "1/1 [==============================] - 0s 33ms/step - loss: 34.2309\n",
      "Epoch 46/128\n",
      "1/1 [==============================] - 0s 37ms/step - loss: 33.9968\n",
      "Epoch 47/128\n",
      "1/1 [==============================] - 0s 27ms/step - loss: 33.8949\n",
      "Epoch 48/128\n",
      "1/1 [==============================] - 0s 44ms/step - loss: 33.8782\n",
      "Epoch 49/128\n",
      "1/1 [==============================] - 0s 59ms/step - loss: 33.8791\n",
      "Epoch 50/128\n",
      "1/1 [==============================] - 0s 30ms/step - loss: 33.8409\n",
      "Epoch 51/128\n",
      "1/1 [==============================] - 0s 43ms/step - loss: 33.7366\n",
      "Epoch 52/128\n",
      "1/1 [==============================] - 0s 26ms/step - loss: 33.5719\n",
      "Epoch 53/128\n",
      "1/1 [==============================] - 0s 29ms/step - loss: 33.3771\n",
      "Epoch 54/128\n",
      "1/1 [==============================] - 0s 28ms/step - loss: 33.1935\n",
      "Epoch 55/128\n",
      "1/1 [==============================] - 0s 28ms/step - loss: 33.0570\n",
      "Epoch 56/128\n",
      "1/1 [==============================] - 0s 55ms/step - loss: 32.9814\n",
      "Epoch 57/128\n",
      "1/1 [==============================] - 0s 27ms/step - loss: 32.9526\n",
      "Epoch 58/128\n",
      "1/1 [==============================] - 0s 31ms/step - loss: 32.9256\n",
      "Epoch 59/128\n",
      "1/1 [==============================] - 0s 33ms/step - loss: 32.8652\n",
      "Epoch 60/128\n",
      "1/1 [==============================] - 0s 26ms/step - loss: 32.7648\n",
      "Epoch 61/128\n",
      "1/1 [==============================] - 0s 28ms/step - loss: 32.6431\n",
      "Epoch 62/128\n",
      "1/1 [==============================] - 0s 26ms/step - loss: 32.5265\n",
      "Epoch 63/128\n",
      "1/1 [==============================] - 0s 28ms/step - loss: 32.4329\n",
      "Epoch 64/128\n",
      "1/1 [==============================] - 0s 34ms/step - loss: 32.3664\n",
      "Epoch 65/128\n",
      "1/1 [==============================] - 0s 28ms/step - loss: 32.3166\n",
      "Epoch 66/128\n",
      "1/1 [==============================] - 0s 36ms/step - loss: 32.2675\n",
      "Epoch 67/128\n",
      "1/1 [==============================] - 0s 32ms/step - loss: 32.2065\n",
      "Epoch 68/128\n",
      "1/1 [==============================] - 0s 32ms/step - loss: 32.1296\n",
      "Epoch 69/128\n",
      "1/1 [==============================] - 0s 34ms/step - loss: 32.0423\n",
      "Epoch 70/128\n",
      "1/1 [==============================] - 0s 33ms/step - loss: 31.9560\n",
      "Epoch 71/128\n",
      "1/1 [==============================] - 0s 32ms/step - loss: 31.8809\n",
      "Epoch 72/128\n",
      "1/1 [==============================] - 0s 37ms/step - loss: 31.8199\n",
      "Epoch 73/128\n",
      "1/1 [==============================] - 0s 36ms/step - loss: 31.7675\n",
      "Epoch 74/128\n",
      "1/1 [==============================] - 0s 47ms/step - loss: 31.7141\n",
      "Epoch 75/128\n",
      "1/1 [==============================] - 0s 41ms/step - loss: 31.6526\n",
      "Epoch 76/128\n",
      "1/1 [==============================] - 0s 33ms/step - loss: 31.5831\n",
      "Epoch 77/128\n",
      "1/1 [==============================] - 0s 32ms/step - loss: 31.5109\n",
      "Epoch 78/128\n",
      "1/1 [==============================] - 0s 32ms/step - loss: 31.4430\n",
      "Epoch 79/128\n",
      "1/1 [==============================] - 0s 32ms/step - loss: 31.3825\n",
      "Epoch 80/128\n",
      "1/1 [==============================] - 0s 38ms/step - loss: 31.3277\n",
      "Epoch 81/128\n",
      "1/1 [==============================] - 0s 33ms/step - loss: 31.2739\n",
      "Epoch 82/128\n",
      "1/1 [==============================] - 0s 106ms/step - loss: 31.2168\n",
      "Epoch 83/128\n",
      "1/1 [==============================] - 0s 32ms/step - loss: 31.1554\n",
      "Epoch 84/128\n",
      "1/1 [==============================] - 0s 35ms/step - loss: 31.0920\n",
      "Epoch 85/128\n",
      "1/1 [==============================] - 0s 37ms/step - loss: 31.0300\n",
      "Epoch 86/128\n",
      "1/1 [==============================] - 0s 29ms/step - loss: 30.9719\n",
      "Epoch 87/128\n",
      "1/1 [==============================] - 0s 30ms/step - loss: 30.9168\n",
      "Epoch 88/128\n",
      "1/1 [==============================] - 0s 29ms/step - loss: 30.8618\n",
      "Epoch 89/128\n",
      "1/1 [==============================] - 0s 30ms/step - loss: 30.8044\n",
      "Epoch 90/128\n",
      "1/1 [==============================] - 0s 29ms/step - loss: 30.7449\n",
      "Epoch 91/128\n",
      "1/1 [==============================] - 0s 28ms/step - loss: 30.6849\n",
      "Epoch 92/128\n",
      "1/1 [==============================] - 0s 32ms/step - loss: 30.6266\n",
      "Epoch 93/128\n",
      "1/1 [==============================] - 0s 37ms/step - loss: 30.5704\n",
      "Epoch 94/128\n",
      "1/1 [==============================] - 0s 36ms/step - loss: 30.5155\n",
      "Epoch 95/128\n",
      "1/1 [==============================] - 0s 42ms/step - loss: 30.4599\n",
      "Epoch 96/128\n",
      "1/1 [==============================] - 0s 42ms/step - loss: 30.4035\n",
      "Epoch 97/128\n",
      "1/1 [==============================] - 0s 32ms/step - loss: 30.3469\n",
      "Epoch 98/128\n",
      "1/1 [==============================] - 0s 33ms/step - loss: 30.2912\n",
      "Epoch 99/128\n",
      "1/1 [==============================] - 0s 43ms/step - loss: 30.2367\n",
      "Epoch 100/128\n",
      "1/1 [==============================] - 0s 31ms/step - loss: 30.1830\n",
      "Epoch 101/128\n",
      "1/1 [==============================] - 0s 30ms/step - loss: 30.1293\n",
      "Epoch 102/128\n",
      "1/1 [==============================] - 0s 31ms/step - loss: 30.0753\n",
      "Epoch 103/128\n",
      "1/1 [==============================] - 0s 27ms/step - loss: 30.0213\n",
      "Epoch 104/128\n",
      "1/1 [==============================] - 0s 29ms/step - loss: 29.9677\n",
      "Epoch 105/128\n",
      "1/1 [==============================] - 0s 25ms/step - loss: 29.9144\n",
      "Epoch 106/128\n",
      "1/1 [==============================] - 0s 29ms/step - loss: 29.8614\n",
      "Epoch 107/128\n",
      "1/1 [==============================] - 0s 29ms/step - loss: 29.8081\n",
      "Epoch 108/128\n",
      "1/1 [==============================] - 0s 28ms/step - loss: 29.7546\n",
      "Epoch 109/128\n",
      "1/1 [==============================] - 0s 27ms/step - loss: 29.7012\n",
      "Epoch 110/128\n",
      "1/1 [==============================] - 0s 28ms/step - loss: 29.6487\n",
      "Epoch 111/128\n",
      "1/1 [==============================] - 0s 46ms/step - loss: 29.5966\n",
      "Epoch 112/128\n",
      "1/1 [==============================] - 0s 34ms/step - loss: 29.5441\n",
      "Epoch 113/128\n",
      "1/1 [==============================] - 0s 32ms/step - loss: 29.4914\n",
      "Epoch 114/128\n",
      "1/1 [==============================] - 0s 30ms/step - loss: 29.4389\n",
      "Epoch 115/128\n",
      "1/1 [==============================] - 0s 29ms/step - loss: 29.3863\n",
      "Epoch 116/128\n",
      "1/1 [==============================] - 0s 30ms/step - loss: 29.3335\n",
      "Epoch 117/128\n",
      "1/1 [==============================] - 0s 35ms/step - loss: 29.2804\n",
      "Epoch 118/128\n",
      "1/1 [==============================] - 0s 29ms/step - loss: 29.2271\n",
      "Epoch 119/128\n",
      "1/1 [==============================] - 0s 82ms/step - loss: 29.1733\n",
      "Epoch 120/128\n",
      "1/1 [==============================] - 0s 41ms/step - loss: 29.1195\n",
      "Epoch 121/128\n",
      "1/1 [==============================] - 0s 36ms/step - loss: 29.0657\n",
      "Epoch 122/128\n",
      "1/1 [==============================] - 0s 35ms/step - loss: 29.0120\n",
      "Epoch 123/128\n",
      "1/1 [==============================] - 0s 30ms/step - loss: 28.9587\n",
      "Epoch 124/128\n",
      "1/1 [==============================] - 0s 28ms/step - loss: 28.9054\n",
      "Epoch 125/128\n",
      "1/1 [==============================] - 0s 29ms/step - loss: 28.8525\n",
      "Epoch 126/128\n",
      "1/1 [==============================] - 0s 27ms/step - loss: 28.7993\n",
      "Epoch 127/128\n",
      "1/1 [==============================] - 0s 30ms/step - loss: 28.7453\n",
      "Epoch 128/128\n",
      "1/1 [==============================] - 0s 25ms/step - loss: 28.6913\n",
      "47/47 [==============================] - 0s 655us/step\n",
      "MAPE:  0.5797068239052268\n",
      "MSE:  29.00172746192758\n",
      "MAE:  2.670468698659515\n",
      "variance:  0.3321107289498305\n"
     ]
    }
   ],
   "source": [
    "model_rnn = ModelRNN()\n",
    "model_rnn.compile(optimizer='adam', loss='mse')\n",
    "model_rnn.fit(X_train, y_train, epochs=10000, batch_size =128)\n",
    "model_rnn.evaluation(X_test, y_test)"
   ]
  },
  {
   "attachments": {},
   "cell_type": "markdown",
   "metadata": {},
   "source": [
    "## RNN encoder - decoder"
   ]
  },
  {
   "cell_type": "code",
   "execution_count": 164,
   "metadata": {},
   "outputs": [],
   "source": [
    "class Seq2Seq(keras.Model):\n",
    "    \n",
    "    def __init__(self):\n",
    "        super().__init__()\n",
    "\n",
    "        self.encoder = Sequential([\n",
    "            keras.layers.Dense(128, activation='relu'),\n",
    "            keras.layers.Dense(128, activation='relu'),\n",
    "            keras.layers.Dense(128, activation='relu'),\n",
    "            keras.layers.Dense(128, activation='relu'),\n",
    "        ])\n",
    "\n",
    "        self.decoder = Sequential([\n",
    "            keras.layers.Dense(128, activation='relu'),\n",
    "            keras.layers.Dense(128, activation='relu'),\n",
    "            keras.layers.Dense(128, activation='relu'),\n",
    "            keras.layers.Dense(128, activation='relu'),\n",
    "        ])\n",
    "        self.dense = Dense(1)\n",
    "        \n",
    "    def call(self, inputs):\n",
    "        encoder_outputs = self.encoder(inputs)\n",
    "        decoder_outputs = self.decoder(encoder_outputs)\n",
    "        outputs = self.dense(decoder_outputs)\n",
    "        return outputs\n",
    "    \n",
    "    def compile(self, optimizer='adam', loss='mse'):\n",
    "        super().compile(optimizer, loss)\n",
    "        \n",
    "    def fit(self, x_train, y_train, epochs=10000, batch_size =128):\n",
    "        super().fit(x_train, y_train, epochs, batch_size)\n",
    "    \n",
    "    def evaluation(self, X_test, y_test):\n",
    "        y_pred = self.predict(X_test)\n",
    "        \n",
    "        mse = mean_squared_error(y_test, y_pred)\n",
    "        mae = mean_absolute_error(y_test, y_pred)\n",
    "        evs = explained_variance_score(y_test, y_pred)\n",
    "        print(\"MAPE: \",mean_absolute_percentage_error(y_test, y_pred))\n",
    "        print(\"MSE: \", mse)\n",
    "        print(\"MAE: \", mae)\n",
    "        print(\"variance: \", evs)"
   ]
  },
  {
   "cell_type": "code",
   "execution_count": 165,
   "metadata": {},
   "outputs": [
    {
     "name": "stdout",
     "output_type": "stream",
     "text": [
      "Epoch 1/128\n",
      "1/1 [==============================] - 1s 506ms/step - loss: 99.9460\n",
      "Epoch 2/128\n",
      "1/1 [==============================] - 0s 61ms/step - loss: 99.3744\n",
      "Epoch 3/128\n",
      "1/1 [==============================] - 0s 58ms/step - loss: 98.6879\n",
      "Epoch 4/128\n",
      "1/1 [==============================] - 0s 89ms/step - loss: 97.7272\n",
      "Epoch 5/128\n",
      "1/1 [==============================] - 0s 130ms/step - loss: 96.3746\n",
      "Epoch 6/128\n",
      "1/1 [==============================] - 0s 61ms/step - loss: 94.4808\n",
      "Epoch 7/128\n",
      "1/1 [==============================] - 0s 58ms/step - loss: 91.8881\n",
      "Epoch 8/128\n",
      "1/1 [==============================] - 0s 40ms/step - loss: 88.4106\n",
      "Epoch 9/128\n",
      "1/1 [==============================] - 0s 45ms/step - loss: 83.7845\n",
      "Epoch 10/128\n",
      "1/1 [==============================] - 0s 87ms/step - loss: 77.7593\n",
      "Epoch 11/128\n",
      "1/1 [==============================] - 0s 40ms/step - loss: 70.2306\n",
      "Epoch 12/128\n",
      "1/1 [==============================] - 0s 49ms/step - loss: 61.4389\n",
      "Epoch 13/128\n",
      "1/1 [==============================] - 0s 49ms/step - loss: 52.4836\n",
      "Epoch 14/128\n",
      "1/1 [==============================] - 0s 49ms/step - loss: 46.4817\n",
      "Epoch 15/128\n",
      "1/1 [==============================] - 0s 49ms/step - loss: 48.7756\n",
      "Epoch 16/128\n",
      "1/1 [==============================] - 0s 56ms/step - loss: 54.6581\n",
      "Epoch 17/128\n",
      "1/1 [==============================] - 0s 58ms/step - loss: 52.8231\n",
      "Epoch 18/128\n",
      "1/1 [==============================] - 0s 47ms/step - loss: 47.0752\n",
      "Epoch 19/128\n",
      "1/1 [==============================] - 0s 51ms/step - loss: 42.5390\n",
      "Epoch 20/128\n",
      "1/1 [==============================] - 0s 126ms/step - loss: 40.7243\n",
      "Epoch 21/128\n",
      "1/1 [==============================] - 0s 83ms/step - loss: 40.7550\n",
      "Epoch 22/128\n",
      "1/1 [==============================] - 0s 61ms/step - loss: 41.3263\n",
      "Epoch 23/128\n",
      "1/1 [==============================] - 0s 77ms/step - loss: 41.5863\n",
      "Epoch 24/128\n",
      "1/1 [==============================] - 0s 66ms/step - loss: 41.1797\n",
      "Epoch 25/128\n",
      "1/1 [==============================] - 0s 59ms/step - loss: 40.0884\n",
      "Epoch 26/128\n",
      "1/1 [==============================] - 0s 71ms/step - loss: 38.5289\n",
      "Epoch 27/128\n",
      "1/1 [==============================] - 0s 66ms/step - loss: 36.9144\n",
      "Epoch 28/128\n",
      "1/1 [==============================] - 0s 61ms/step - loss: 35.7968\n",
      "Epoch 29/128\n",
      "1/1 [==============================] - 0s 48ms/step - loss: 35.6399\n",
      "Epoch 30/128\n",
      "1/1 [==============================] - 0s 44ms/step - loss: 36.3290\n",
      "Epoch 31/128\n",
      "1/1 [==============================] - 0s 48ms/step - loss: 36.9085\n",
      "Epoch 32/128\n",
      "1/1 [==============================] - 0s 42ms/step - loss: 36.5433\n",
      "Epoch 33/128\n",
      "1/1 [==============================] - 0s 47ms/step - loss: 35.4899\n",
      "Epoch 34/128\n",
      "1/1 [==============================] - 0s 41ms/step - loss: 34.5598\n",
      "Epoch 35/128\n",
      "1/1 [==============================] - 0s 43ms/step - loss: 34.2080\n",
      "Epoch 36/128\n",
      "1/1 [==============================] - 0s 40ms/step - loss: 34.3351\n",
      "Epoch 37/128\n",
      "1/1 [==============================] - 0s 38ms/step - loss: 34.5888\n",
      "Epoch 38/128\n",
      "1/1 [==============================] - 0s 40ms/step - loss: 34.6683\n",
      "Epoch 39/128\n",
      "1/1 [==============================] - 0s 43ms/step - loss: 34.4568\n",
      "Epoch 40/128\n",
      "1/1 [==============================] - 0s 61ms/step - loss: 34.0193\n",
      "Epoch 41/128\n",
      "1/1 [==============================] - 0s 151ms/step - loss: 33.5484\n",
      "Epoch 42/128\n",
      "1/1 [==============================] - 0s 55ms/step - loss: 33.2657\n",
      "Epoch 43/128\n",
      "1/1 [==============================] - 0s 61ms/step - loss: 33.2768\n",
      "Epoch 44/128\n",
      "1/1 [==============================] - 0s 82ms/step - loss: 33.4282\n",
      "Epoch 45/128\n",
      "1/1 [==============================] - 0s 86ms/step - loss: 33.4319\n",
      "Epoch 46/128\n",
      "1/1 [==============================] - 0s 57ms/step - loss: 33.1840\n",
      "Epoch 47/128\n",
      "1/1 [==============================] - 0s 74ms/step - loss: 32.8451\n",
      "Epoch 48/128\n",
      "1/1 [==============================] - 0s 65ms/step - loss: 32.6181\n",
      "Epoch 49/128\n",
      "1/1 [==============================] - 0s 61ms/step - loss: 32.5538\n",
      "Epoch 50/128\n",
      "1/1 [==============================] - 0s 62ms/step - loss: 32.5578\n",
      "Epoch 51/128\n",
      "1/1 [==============================] - 0s 63ms/step - loss: 32.5133\n",
      "Epoch 52/128\n",
      "1/1 [==============================] - 0s 56ms/step - loss: 32.3683\n",
      "Epoch 53/128\n",
      "1/1 [==============================] - 0s 62ms/step - loss: 32.1592\n",
      "Epoch 54/128\n",
      "1/1 [==============================] - 0s 57ms/step - loss: 31.9736\n",
      "Epoch 55/128\n",
      "1/1 [==============================] - 0s 59ms/step - loss: 31.8807\n",
      "Epoch 56/128\n",
      "1/1 [==============================] - 0s 72ms/step - loss: 31.8610\n",
      "Epoch 57/128\n",
      "1/1 [==============================] - 0s 62ms/step - loss: 31.8141\n",
      "Epoch 58/128\n",
      "1/1 [==============================] - 0s 61ms/step - loss: 31.6837\n",
      "Epoch 59/128\n",
      "1/1 [==============================] - 0s 67ms/step - loss: 31.5221\n",
      "Epoch 60/128\n",
      "1/1 [==============================] - 0s 63ms/step - loss: 31.4074\n",
      "Epoch 61/128\n",
      "1/1 [==============================] - 0s 105ms/step - loss: 31.3527\n",
      "Epoch 62/128\n",
      "1/1 [==============================] - 0s 85ms/step - loss: 31.3110\n",
      "Epoch 63/128\n",
      "1/1 [==============================] - 0s 41ms/step - loss: 31.2348\n",
      "Epoch 64/128\n",
      "1/1 [==============================] - 0s 41ms/step - loss: 31.1220\n",
      "Epoch 65/128\n",
      "1/1 [==============================] - 0s 40ms/step - loss: 31.0108\n",
      "Epoch 66/128\n",
      "1/1 [==============================] - 0s 40ms/step - loss: 30.9355\n",
      "Epoch 67/128\n",
      "1/1 [==============================] - 0s 39ms/step - loss: 30.8871\n",
      "Epoch 68/128\n",
      "1/1 [==============================] - 0s 37ms/step - loss: 30.8245\n",
      "Epoch 69/128\n",
      "1/1 [==============================] - 0s 38ms/step - loss: 30.7282\n",
      "Epoch 70/128\n",
      "1/1 [==============================] - 0s 41ms/step - loss: 30.6250\n",
      "Epoch 71/128\n",
      "1/1 [==============================] - 0s 45ms/step - loss: 30.5467\n",
      "Epoch 72/128\n",
      "1/1 [==============================] - 0s 40ms/step - loss: 30.4870\n",
      "Epoch 73/128\n",
      "1/1 [==============================] - 0s 37ms/step - loss: 30.4175\n",
      "Epoch 74/128\n",
      "1/1 [==============================] - 0s 45ms/step - loss: 30.3267\n",
      "Epoch 75/128\n",
      "1/1 [==============================] - 0s 45ms/step - loss: 30.2317\n",
      "Epoch 76/128\n",
      "1/1 [==============================] - 0s 40ms/step - loss: 30.1525\n",
      "Epoch 77/128\n",
      "1/1 [==============================] - 0s 46ms/step - loss: 30.0844\n",
      "Epoch 78/128\n",
      "1/1 [==============================] - 0s 57ms/step - loss: 30.0059\n",
      "Epoch 79/128\n",
      "1/1 [==============================] - 0s 83ms/step - loss: 29.9111\n",
      "Epoch 80/128\n",
      "1/1 [==============================] - 0s 60ms/step - loss: 29.8198\n",
      "Epoch 81/128\n",
      "1/1 [==============================] - 0s 46ms/step - loss: 29.7450\n",
      "Epoch 82/128\n",
      "1/1 [==============================] - 0s 54ms/step - loss: 29.6717\n",
      "Epoch 83/128\n",
      "1/1 [==============================] - 0s 52ms/step - loss: 29.5869\n",
      "Epoch 84/128\n",
      "1/1 [==============================] - 0s 49ms/step - loss: 29.5004\n",
      "Epoch 85/128\n",
      "1/1 [==============================] - 0s 45ms/step - loss: 29.4216\n",
      "Epoch 86/128\n",
      "1/1 [==============================] - 0s 46ms/step - loss: 29.3417\n",
      "Epoch 87/128\n",
      "1/1 [==============================] - 0s 42ms/step - loss: 29.2502\n",
      "Epoch 88/128\n",
      "1/1 [==============================] - 0s 42ms/step - loss: 29.1567\n",
      "Epoch 89/128\n",
      "1/1 [==============================] - 0s 47ms/step - loss: 29.0698\n",
      "Epoch 90/128\n",
      "1/1 [==============================] - 0s 52ms/step - loss: 28.9803\n",
      "Epoch 91/128\n",
      "1/1 [==============================] - 0s 50ms/step - loss: 28.8855\n",
      "Epoch 92/128\n",
      "1/1 [==============================] - 0s 49ms/step - loss: 28.7937\n",
      "Epoch 93/128\n",
      "1/1 [==============================] - 0s 47ms/step - loss: 28.7007\n",
      "Epoch 94/128\n",
      "1/1 [==============================] - 0s 39ms/step - loss: 28.6005\n",
      "Epoch 95/128\n",
      "1/1 [==============================] - 0s 41ms/step - loss: 28.5001\n",
      "Epoch 96/128\n",
      "1/1 [==============================] - 0s 42ms/step - loss: 28.4030\n",
      "Epoch 97/128\n",
      "1/1 [==============================] - 0s 39ms/step - loss: 28.3037\n",
      "Epoch 98/128\n",
      "1/1 [==============================] - 0s 38ms/step - loss: 28.2065\n",
      "Epoch 99/128\n",
      "1/1 [==============================] - 0s 39ms/step - loss: 28.1115\n",
      "Epoch 100/128\n",
      "1/1 [==============================] - 0s 42ms/step - loss: 28.0113\n",
      "Epoch 101/128\n",
      "1/1 [==============================] - 0s 42ms/step - loss: 27.9142\n",
      "Epoch 102/128\n",
      "1/1 [==============================] - 0s 43ms/step - loss: 27.8142\n",
      "Epoch 103/128\n",
      "1/1 [==============================] - 0s 70ms/step - loss: 27.7111\n",
      "Epoch 104/128\n",
      "1/1 [==============================] - 0s 47ms/step - loss: 27.6091\n",
      "Epoch 105/128\n",
      "1/1 [==============================] - 0s 40ms/step - loss: 27.5019\n",
      "Epoch 106/128\n",
      "1/1 [==============================] - 0s 39ms/step - loss: 27.3948\n",
      "Epoch 107/128\n",
      "1/1 [==============================] - 0s 37ms/step - loss: 27.2842\n",
      "Epoch 108/128\n",
      "1/1 [==============================] - 0s 46ms/step - loss: 27.1725\n",
      "Epoch 109/128\n",
      "1/1 [==============================] - 0s 40ms/step - loss: 27.0586\n",
      "Epoch 110/128\n",
      "1/1 [==============================] - 0s 39ms/step - loss: 26.9465\n",
      "Epoch 111/128\n",
      "1/1 [==============================] - 0s 40ms/step - loss: 26.8385\n",
      "Epoch 112/128\n",
      "1/1 [==============================] - 0s 41ms/step - loss: 26.7343\n",
      "Epoch 113/128\n",
      "1/1 [==============================] - 0s 42ms/step - loss: 26.6262\n",
      "Epoch 114/128\n",
      "1/1 [==============================] - 0s 37ms/step - loss: 26.5173\n",
      "Epoch 115/128\n",
      "1/1 [==============================] - 0s 42ms/step - loss: 26.4089\n",
      "Epoch 116/128\n",
      "1/1 [==============================] - 0s 40ms/step - loss: 26.3028\n",
      "Epoch 117/128\n",
      "1/1 [==============================] - 0s 40ms/step - loss: 26.1957\n",
      "Epoch 118/128\n",
      "1/1 [==============================] - 0s 43ms/step - loss: 26.0888\n",
      "Epoch 119/128\n",
      "1/1 [==============================] - 0s 40ms/step - loss: 25.9827\n",
      "Epoch 120/128\n",
      "1/1 [==============================] - 0s 39ms/step - loss: 25.8776\n",
      "Epoch 121/128\n",
      "1/1 [==============================] - 0s 39ms/step - loss: 25.7748\n",
      "Epoch 122/128\n",
      "1/1 [==============================] - 0s 48ms/step - loss: 25.6746\n",
      "Epoch 123/128\n",
      "1/1 [==============================] - 0s 39ms/step - loss: 25.5768\n",
      "Epoch 124/128\n",
      "1/1 [==============================] - 0s 43ms/step - loss: 25.4801\n",
      "Epoch 125/128\n",
      "1/1 [==============================] - 0s 40ms/step - loss: 25.3861\n",
      "Epoch 126/128\n",
      "1/1 [==============================] - 0s 44ms/step - loss: 25.2912\n",
      "Epoch 127/128\n",
      "1/1 [==============================] - 0s 40ms/step - loss: 25.1964\n",
      "Epoch 128/128\n",
      "1/1 [==============================] - 0s 42ms/step - loss: 25.1021\n",
      "47/47 [==============================] - 0s 835us/step\n",
      "MAPE:  0.5590911308015492\n",
      "MSE:  28.79777277837395\n",
      "MAE:  2.602155348649597\n",
      "variance:  0.336738710186663\n"
     ]
    }
   ],
   "source": [
    "model = Seq2Seq()\n",
    "model.compile(optimizer='adam', loss='mse')\n",
    "model.fit(X_train, y_train, epochs=10000, batch_size =128)\n",
    "model.evaluation(X_test, y_test)"
   ]
  },
  {
   "cell_type": "code",
   "execution_count": null,
   "metadata": {},
   "outputs": [],
   "source": []
  }
 ],
 "metadata": {
  "kernelspec": {
   "display_name": "Python 3",
   "language": "python",
   "name": "python3"
  },
  "language_info": {
   "codemirror_mode": {
    "name": "ipython",
    "version": 3
   },
   "file_extension": ".py",
   "mimetype": "text/x-python",
   "name": "python",
   "nbconvert_exporter": "python",
   "pygments_lexer": "ipython3",
   "version": "3.10.9"
  },
  "orig_nbformat": 4
 },
 "nbformat": 4,
 "nbformat_minor": 2
}
